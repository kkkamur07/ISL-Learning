{
 "cells": [
  {
   "cell_type": "markdown",
   "metadata": {},
   "source": [
    "### Regularization Exercises\n"
   ]
  },
  {
   "cell_type": "code",
   "execution_count": 38,
   "metadata": {},
   "outputs": [],
   "source": [
    "import numpy as np\n",
    "import pandas as pd\n",
    "from matplotlib.pyplot import subplots\n",
    "import statsmodels.api as sm\n",
    "import sklearn.model_selection as skm\n",
    "import sklearn.linear_model as skl\n",
    "from sklearn.preprocessing import StandardScaler\n",
    "from ISLP import load_data\n",
    "from ISLP.models import (ModelSpec as MS, summarize , poly)\n",
    "from functools import partial\n",
    "from sklearn.pipeline import Pipeline\n",
    "from sklearn.decomposition import PCA\n",
    "from sklearn.cross_decomposition import PLSRegression\n",
    "from ISLP.models import (Stepwise, sklearn_selected, sklearn_selection_path)\n",
    "from l0bnb import fit_path\n",
    "import matplotlib.pyplot as plt\n"
   ]
  },
  {
   "cell_type": "code",
   "execution_count": null,
   "metadata": {},
   "outputs": [],
   "source": [
    "np.random.seed(0)\n",
    "rng = np.random.default_rng()\n",
    "sim_data = rng.normal(0,1,100)\n",
    "noise = rng.normal(0,1,100)\n",
    "\n",
    "beta_0 = 1\n",
    "beta_1 = 2\n",
    "beta_2 = 3\n",
    "beta_3 = 4\n",
    "\n",
    "response = beta_0 + beta_1*sim_data + beta_2*(sim_data**2) + beta_3*(sim_data**3) + noise\n",
    "response"
   ]
  },
  {
   "cell_type": "markdown",
   "metadata": {},
   "source": [
    "$C_p = \\frac{RSS + 2P\\sigma^2}{n}$"
   ]
  },
  {
   "cell_type": "code",
   "execution_count": 96,
   "metadata": {},
   "outputs": [
    {
     "name": "stdout",
     "output_type": "stream",
     "text": [
      "Forward Selection : ('X^1', 'X^2', 'X^3')\n",
      "Backward Selection : ('X^1', 'X^2', 'X^3')\n",
      "Forward Selection AIC : ('X^0', 'X^4')\n",
      "Forward Selection BIC : ('X^0', 'X^4')\n",
      "Backward Selection AIC : ('X^0', 'X^4')\n",
      "Backward Selection BIC : ('X^0', 'X^4')\n"
     ]
    }
   ],
   "source": [
    "# Forward Selection using C_p, AIC, BIC\n",
    "# Backward Selection\n",
    "# Lasso with Cross validation\n",
    "\n",
    "\n",
    "power_range = np.arange(0,11)\n",
    "predictors = np.power.outer(sim_data, power_range)\n",
    "data = pd.DataFrame(predictors, columns = [f'X^{i}' for i in power_range])\n",
    "\n",
    "design = MS(data).fit(data)\n",
    "x = design.transform(data)\n",
    "sigma2 = sm.OLS(response,x).fit().scale\n",
    "\n",
    "def C_p(sigma2,estimator, x, y) : \n",
    "    n, p = x.shape\n",
    "    Yhat = estimator.predict(x)\n",
    "    rss = np.sum((y - Yhat)**2)\n",
    "    return -(rss + 2*p*sigma2)/n\n",
    "\n",
    "def AIC(sigma, estimator, x, y) : \n",
    "    n, p = x.shape\n",
    "    Yhat = estimator.predict(x)\n",
    "    rss = np.sum((y - Yhat)**2)\n",
    "    log_likelihood = - (n / 2) * np.log(2 * np.pi * sigma) - (rss / (2 * sigma))\n",
    "    aic = -2 * (log_likelihood /n)\n",
    "    return (aic) + 2*p\n",
    "\n",
    "def BIC(sigma, estimator, x, y) : \n",
    "    n, p = x.shape\n",
    "    Yhat = estimator.predict(x)\n",
    "    rss = np.sum((y - Yhat)**2)\n",
    "    log_likelihood = - (n / 2) * np.log(2 * np.pi * sigma) - (rss / (2 * sigma))\n",
    "    bic = -2 * (log_likelihood / n)\n",
    "    return (bic ) + (np.log(n) * p)\n",
    "\n",
    "neg_cp = partial(C_p, sigma2)\n",
    "aic = partial(AIC, sigma2)\n",
    "bic = partial(BIC, sigma2)\n",
    "\n",
    "# Forward Selection\n",
    "forward = Stepwise.first_peak(design, direction=\"forward\", max_terms=len(design.terms))\n",
    "backward = Stepwise.first_peak(design, direction = \"backwards\", max_terms=len(design.terms))\n",
    "forward_sel = sklearn_selected(sm.OLS, forward, scoring = neg_cp)\n",
    "backward_sel = sklearn_selected(sm.OLS, backward, scoring = neg_cp)\n",
    "\n",
    "forward_aic = sklearn_selected(sm.OLS, forward, scoring = aic)\n",
    "forward_bic = sklearn_selected(sm.OLS, forward, scoring = bic)\n",
    "backward_aic = sklearn_selected(sm.OLS, backward, scoring = aic)\n",
    "backward_bic = sklearn_selected(sm.OLS, backward, scoring = bic)\n",
    "\n",
    "forward_sel.fit(x, response)\n",
    "backward_sel.fit(x, response)\n",
    "forward_aic.fit(x, response)\n",
    "forward_bic.fit(x, response)\n",
    "backward_aic.fit(x, response)\n",
    "backward_bic.fit(x, response)\n",
    "\n",
    "print(f\"Forward Selection : {forward_sel.selected_state_}\")\n",
    "print(f\"Backward Selection : {backward_sel.selected_state_}\")\n",
    "print(f\"Forward Selection AIC : {forward_aic.selected_state_}\")\n",
    "print(f\"Forward Selection BIC : {forward_bic.selected_state_}\")\n",
    "print(f\"Backward Selection AIC : {backward_aic.selected_state_}\")\n",
    "print(f\"Backward Selection BIC : {backward_bic.selected_state_}\")\n"
   ]
  }
 ],
 "metadata": {
  "kernelspec": {
   "display_name": "datasci-env",
   "language": "python",
   "name": "datasci-env"
  },
  "language_info": {
   "codemirror_mode": {
    "name": "ipython",
    "version": 3
   },
   "file_extension": ".py",
   "mimetype": "text/x-python",
   "name": "python",
   "nbconvert_exporter": "python",
   "pygments_lexer": "ipython3",
   "version": "3.12.8"
  }
 },
 "nbformat": 4,
 "nbformat_minor": 2
}
