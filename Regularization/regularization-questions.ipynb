{
 "cells": [
  {
   "cell_type": "markdown",
   "metadata": {},
   "source": [
    "### Regularization Exercises\n"
   ]
  },
  {
   "cell_type": "code",
   "execution_count": 2,
   "metadata": {},
   "outputs": [],
   "source": [
    "import numpy as np\n",
    "import pandas as pd\n",
    "from matplotlib.pyplot import subplots\n",
    "import statsmodels.api as sm\n",
    "import sklearn.model_selection as skm\n",
    "import sklearn.linear_model as skl\n",
    "from sklearn.preprocessing import StandardScaler\n",
    "from ISLP import load_data\n",
    "from ISLP.models import (ModelSpec as MS, summarize , poly)\n",
    "from functools import partial\n",
    "from sklearn.pipeline import Pipeline\n",
    "from sklearn.decomposition import PCA\n",
    "from sklearn.cross_decomposition import PLSRegression\n",
    "from ISLP.models import (Stepwise, sklearn_selected, sklearn_selection_path)\n",
    "from l0bnb import fit_path\n",
    "import matplotlib.pyplot as plt"
   ]
  },
  {
   "cell_type": "markdown",
   "metadata": {},
   "source": [
    "$C_p = \\frac{RSS + 2P\\sigma^2}{n}$\n",
    "\n",
    "##### Functions to be used \n",
    "- `sm.OLS()` : For StatsModel API and fitting\n",
    "- `Stepwise.first_step`(design, forward / backward, max_terms)` : For Strategy Defining\n",
    "- `sklearn_selected`(model, strategy, scorer) : Wrapper for ISLP and skLearn"
   ]
  },
  {
   "cell_type": "code",
   "execution_count": 31,
   "metadata": {},
   "outputs": [
    {
     "name": "stdout",
     "output_type": "stream",
     "text": [
      "Forward Selection : ('x^1', 'x^2', 'x^3', 'x^6')\n",
      "Backward Selection : ('x^1', 'x^2', 'x^3', 'x^6')\n"
     ]
    }
   ],
   "source": [
    "# Simulating Data\n",
    "np.random.seed(1)\n",
    "n = 100\n",
    "x = np.random.normal(0,1,n)\n",
    "epi = np.random.normal(0,1,n)\n",
    "beta_0 = 1\n",
    "beta_1 = 2\n",
    "beta_2 = 3 \n",
    "beta_3 = 4\n",
    "\n",
    "response = beta_0 + beta_1*x + beta_2*x**2 + beta_3*x**3 + epi\n",
    "\n",
    "# DataFrame\n",
    "power_range = np.arange(0,11)\n",
    "data = np.power.outer(x,power_range)\n",
    "data = pd.DataFrame(data, columns = ['x^{}'.format(i) for i in power_range])\n",
    "design = MS(data).fit(data)\n",
    "x_data = design.transform(data)\n",
    "\n",
    "# Scorer\n",
    "def C_p(sigma,estimator, x, y) : \n",
    "    n, p = x.shape\n",
    "    y_hat = estimator.predict(x)\n",
    "    RSS = np.sum((y  - y_hat)**2)\n",
    "    return -(RSS + 2 * p * sigma) / n\n",
    "\n",
    "sigma = sm.OLS(response, x_data).fit().scale\n",
    "scorer = partial(C_p, sigma)\n",
    "\n",
    "# Defining Strategy\n",
    "forward = Stepwise.first_peak(design, direction=\"forward\", max_terms=len(design.terms))\n",
    "backwards = Stepwise.first_peak(design, direction=\"backwards\", max_terms=len(design.terms))\n",
    "\n",
    "# Fitting Models using strategy\n",
    "model_forward = sklearn_selected(sm.OLS, forward, scoring=scorer)\n",
    "model_backwards = sklearn_selected(sm.OLS, backwards, scoring=scorer)\n",
    "model_forward.fit(x_data, response)\n",
    "model_backwards.fit(x_data, response)\n",
    "\n",
    "print(f\"Forward Selection : {model_forward.selected_state_}\")\n",
    "print(f\"Backward Selection : {model_backwards.selected_state_}\")"
   ]
  },
  {
   "cell_type": "markdown",
   "metadata": {},
   "source": [
    "Forward and Backward selection yield the same result. "
   ]
  },
  {
   "cell_type": "code",
   "execution_count": 55,
   "metadata": {},
   "outputs": [
    {
     "name": "stdout",
     "output_type": "stream",
     "text": [
      "Best Lambda : 0.040370172585965494\n",
      "Lasso Coefficients : [0.00000000e+00 0.00000000e+00 1.67916888e+00 2.75372980e+00\n",
      " 1.04044973e+01 6.04707855e-01 0.00000000e+00 4.42624141e-03\n",
      " 0.00000000e+00 0.00000000e+00 0.00000000e+00 0.00000000e+00]\n"
     ]
    }
   ],
   "source": [
    "# Fitting a Lasso Model : Need to do this again.\n",
    "scaler = StandardScaler(with_mean=True, with_std=True)\n",
    "lambdas = 10 ** np.linspace(10, -2, 100)\n",
    "cv_design = skm.KFold(n_splits=10, shuffle=True, random_state=1)\n",
    "lasso = skl.LassoCV(alphas=lambdas, cv=cv_design)\n",
    "pipeline = Pipeline([(\"scaler\", scaler), (\"lasso\", lasso)])\n",
    "pipeline.fit(x_data, response)\n",
    "\n",
    "# Extracting Lasso coefficients\n",
    "lasso_model = pipeline.named_steps['lasso']\n",
    "lasso_coefficients = lasso_model.coef_\n",
    "best_lambda = lasso_model.alpha_\n",
    "print(f\"Best Lambda : {best_lambda}\")\n",
    "print(f\"Lasso Coefficients : {lasso_coefficients}\")\n"
   ]
  }
 ],
 "metadata": {
  "kernelspec": {
   "display_name": "datasci-env",
   "language": "python",
   "name": "datasci-env"
  },
  "language_info": {
   "codemirror_mode": {
    "name": "ipython",
    "version": 3
   },
   "file_extension": ".py",
   "mimetype": "text/x-python",
   "name": "python",
   "nbconvert_exporter": "python",
   "pygments_lexer": "ipython3",
   "version": "3.12.8"
  }
 },
 "nbformat": 4,
 "nbformat_minor": 2
}
