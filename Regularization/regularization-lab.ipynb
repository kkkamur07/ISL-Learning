{
 "cells": [
  {
   "cell_type": "markdown",
   "metadata": {},
   "source": [
    "#### Lab : Regularization and Linear models"
   ]
  },
  {
   "cell_type": "code",
   "execution_count": 59,
   "metadata": {},
   "outputs": [],
   "source": [
    "import numpy as np\n",
    "import pandas as pd\n",
    "from matplotlib.pyplot import subplots\n",
    "import statsmodels.api as sm\n",
    "import sklearn.model_selection as skm\n",
    "import sklearn.linear_model as skl\n",
    "from sklearn.preprocessing import StandardScaler\n",
    "from ISLP import load_data\n",
    "from ISLP.models import ModelSpec as MS\n",
    "from functools import partial\n",
    "from sklearn.pipeline import Pipeline\n",
    "from sklearn.decomposition import PCA\n",
    "from sklearn.cross_decomposition import PLSRegression\n",
    "from ISLP.models import (Stepwise, sklearn_selected, sklearn_selection_path)\n",
    "from l0bnb import fit_path\n",
    "import matplotlib.pyplot as plt"
   ]
  },
  {
   "cell_type": "markdown",
   "metadata": {},
   "source": [
    "#### Subset Selection : \n",
    "- Forward\n",
    "- Backward\n",
    "- Mixed"
   ]
  },
  {
   "cell_type": "markdown",
   "metadata": {},
   "source": [
    "### Forward Selection\n",
    "\n",
    "_Dataset Description_\n",
    "\n",
    "* `AtBat`: Number of times at bat in 1986\n",
    "* `Hits`: Number of hits in 1986\n",
    "* `HmRun`: Number of home runs in 1986\n",
    "* `Runs`: Number of runs in 1986\n",
    "* `RBI`: Number of runs batted in in 1986\n",
    "* `Walks`: Number of walks in 1986\n",
    "* `Years`: Number of years in the major leagues\n",
    "* `CAtBat`: Number of times at bat during his career\n",
    "* `CHits`: Number of hits during his career\n",
    "* `CHmRun`: Number of home runs during his career\n",
    "* `CRuns`: Number of runs during his career\n",
    "* `CRBI`: Number of runs batted in during his career\n",
    "* `CWalks`: Number of walks during his career\n",
    "* `League`: A factor with levels A and N indicating player's league at the end of 1986\n",
    "* `Division`: A factor with levels E and W indicating player's division at the end of 1986\n",
    "* `PutOuts`: Number of put outs in 1986\n",
    "* `Assists`: Number of assists in 1986\n",
    "* `Errors`: Number of errors in 1986\n",
    "* `Salary`: 1987 annual salary on opening day in thousands of dollars\n",
    "* `NewLeague`: A factor with levels A and N indicating player's league at the beginning of 1987\n",
    "\n",
    "Here probably we are going to see how the salary is influenced"
   ]
  },
  {
   "cell_type": "code",
   "execution_count": 6,
   "metadata": {},
   "outputs": [
    {
     "data": {
      "text/plain": [
       "(263, 20)"
      ]
     },
     "execution_count": 6,
     "metadata": {},
     "output_type": "execute_result"
    }
   ],
   "source": [
    "data = load_data(\"Hitters\")\n",
    "data_new = data.dropna()\n",
    "data_new.shape"
   ]
  },
  {
   "cell_type": "markdown",
   "metadata": {},
   "source": [
    "We are doing model selection using $C_p = \\frac{\\text{RSS} + 2p(\\sigma^2)}{n}$ but `sklearn` doesn't define it. So we need to compute it ourselves. \n",
    "\n",
    "Function : \n",
    "- `sklearn_selected(model, strategy).fit(data, y)` -> Expects a scorer with just 3 arguments\n",
    "- `Stepwise()` -> To specify the search strategy\n",
    "- `Stepwise.first_peak(design, direction, max_terms)` -> Runs forward stepwise until forward stepwise don't result in any improvements"
   ]
  },
  {
   "cell_type": "code",
   "execution_count": 23,
   "metadata": {},
   "outputs": [
    {
     "data": {
      "text/plain": [
       "('Assists',\n",
       " 'AtBat',\n",
       " 'CAtBat',\n",
       " 'CHits',\n",
       " 'CHmRun',\n",
       " 'CRBI',\n",
       " 'CRuns',\n",
       " 'CWalks',\n",
       " 'Division',\n",
       " 'Errors',\n",
       " 'Hits',\n",
       " 'HmRun',\n",
       " 'League',\n",
       " 'NewLeague',\n",
       " 'PutOuts',\n",
       " 'RBI',\n",
       " 'Runs',\n",
       " 'Walks',\n",
       " 'Years')"
      ]
     },
     "execution_count": 23,
     "metadata": {},
     "output_type": "execute_result"
    }
   ],
   "source": [
    "def C_p(sigma2, estimator, x, y) : \n",
    "    n, p = x.shape\n",
    "    Yhat = estimator.predict(X)\n",
    "    RSS = np.sum((y - Yhat)**2)\n",
    "    return -(RSS + 2 * p * sigma2) / n\n",
    "\n",
    "# First we need to estimate sigma2 - fitting the biggest model\n",
    "design = MS(data_new.columns.drop(\"Salary\")).fit(data_new)\n",
    "y = data_new[\"Salary\"]\n",
    "x = design.transform(data_new)\n",
    "sigma2 = sm.OLS(y, x).fit().scale\n",
    "\n",
    "# Fixing the sigma2 \n",
    "neg_cp = partial(C_p, sigma2)\n",
    "\n",
    "# Strategy : ISLP Specific\n",
    "strategy = Stepwise.first_peak(design, direction = \"forward\", max_terms=len(design.terms))\n",
    "hitters = sklearn_selected(sm.OLS, strategy)\n",
    "hitters.fit(data_new, y)\n",
    "hitters.selected_state_"
   ]
  },
  {
   "cell_type": "markdown",
   "metadata": {},
   "source": [
    "Choosing models using `Validation` & `CrossValidation`, but to implement this we need something that can store the full path of the models and we can estimate error using the full path. \n",
    "- `sklearn_selection_path()` & `cross_val_predict()` computes the cross validated predictions\n",
    "\n",
    "Using CV to make the determination of which model of a given size is best must be made using training observations"
   ]
  },
  {
   "cell_type": "code",
   "execution_count": 25,
   "metadata": {},
   "outputs": [
    {
     "data": {
      "text/plain": [
       "(263, 20)"
      ]
     },
     "execution_count": 25,
     "metadata": {},
     "output_type": "execute_result"
    }
   ],
   "source": [
    "strategy = Stepwise.fixed_steps(design, len(design.terms), direction = \"forward\")\n",
    "full = sklearn_selection_path(sm.OLS, strategy)\n",
    "full.fit(data_new, y)\n",
    "yhat = full.predict(data_new)\n",
    "yhat.shape # Fitted value of the array of the full path."
   ]
  },
  {
   "cell_type": "code",
   "execution_count": 81,
   "metadata": {},
   "outputs": [
    {
     "data": {
      "text/plain": [
       "(20, 5)"
      ]
     },
     "execution_count": 81,
     "metadata": {},
     "output_type": "execute_result"
    }
   ],
   "source": [
    "kfold = skm.KFold(5, shuffle = True, random_state = 0)\n",
    "yhat_cv = skm.cross_val_predict(full, data_new, y, cv = kfold)\n",
    "cv_mse = []\n",
    "\n",
    "for train_idx, test_idx in kfold.split(y) : \n",
    "    errors = ((yhat_cv[test_idx] - y[test_idx, None])**2).mean(0)\n",
    "    cv_mse.append(errors)\n",
    "    \n",
    "cv_mse = np.array(cv_mse).T\n",
    "cv_mse.shape\n"
   ]
  },
  {
   "cell_type": "code",
   "execution_count": 94,
   "metadata": {},
   "outputs": [
    {
     "data": {
      "text/plain": [
       "(20, 1)"
      ]
     },
     "execution_count": 94,
     "metadata": {},
     "output_type": "execute_result"
    }
   ],
   "source": [
    "valfold = skm.ShuffleSplit(1, random_state = 0)\n",
    "val_mse = []\n",
    "\n",
    "for train_idx, test_idx in valfold.split(y) : \n",
    "    full.fit(data_new.iloc[train_idx], y[train_idx])\n",
    "    yhat_val = full.predict(data_new.iloc[test_idx])\n",
    "    errors = ((yhat_val - y[test_idx, None])**2).mean(0)\n",
    "    val_mse.append(errors)\n",
    "    \n",
    "val_mse = np.array(val_mse).T\n",
    "val_mse.shape"
   ]
  },
  {
   "cell_type": "code",
   "execution_count": 96,
   "metadata": {},
   "outputs": [
    {
     "data": {
      "image/png": "[encoded data removed]",
      "text/plain": [
       "<Figure size 400x400 with 1 Axes>"
      ]
     },
     "metadata": {},
     "output_type": "display_data"
    }
   ],
   "source": [
    "# Plotting the MSE\n",
    "mse, ax = subplots(figsize = (4,4))\n",
    "y = np.array(data_new[\"Salary\"])\n",
    "mse_sample = ((yhat -y[:, None])**2).mean(0) # y[:,None] -> make a column vector.\n",
    "n = mse_sample.shape[0]\n",
    "ax.plot(np.arange(n),mse_sample, label = \"In-Sample\", color = \"k\")\n",
    "ax.set_xlabel(\"# Steps of forward selection\")\n",
    "ax.set_ylabel(\"MSE\")\n",
    "ax.errorbar(np.arange(n), cv_mse.mean(1), cv_mse.std(1)/ np.sqrt(5), label = \"CrossValidation\", c = \"r\")\n",
    "ax.plot(np.arange(n), val_mse.mean(1), label = \"Validation\", c = \"y\")\n",
    "ax.legend()\n",
    "plt.show()"
   ]
  },
  {
   "cell_type": "markdown",
   "metadata": {},
   "source": [
    "Best subset selection using `l0bnb` & `fit_path`"
   ]
  },
  {
   "cell_type": "code",
   "execution_count": 100,
   "metadata": {},
   "outputs": [
    {
     "name": "stdout",
     "output_type": "stream",
     "text": [
      "Preprocessing Data.\n",
      "BnB Started.\n",
      "Iteration: 1. Number of non-zeros:  1\n",
      "Iteration: 2. Number of non-zeros:  2\n",
      "Iteration: 3. Number of non-zeros:  2\n",
      "Iteration: 4. Number of non-zeros:  2\n",
      "Iteration: 5. Number of non-zeros:  3\n",
      "Iteration: 6. Number of non-zeros:  3\n",
      "Iteration: 7. Number of non-zeros:  4\n",
      "Iteration: 8. Number of non-zeros:  9\n",
      "Iteration: 9. Number of non-zeros:  9\n",
      "Iteration: 10. Number of non-zeros:  9\n",
      "Iteration: 11. Number of non-zeros:  9\n",
      "Iteration: 12. Number of non-zeros:  9\n",
      "Iteration: 13. Number of non-zeros:  9\n",
      "Iteration: 14. Number of non-zeros:  9\n",
      "Iteration: 15. Number of non-zeros:  9\n",
      "Iteration: 16. Number of non-zeros:  9\n",
      "Iteration: 17. Number of non-zeros:  9\n",
      "Iteration: 18. Number of non-zeros:  17\n",
      "Iteration: 19. Number of non-zeros:  19\n"
     ]
    },
    {
     "data": {
      "text/plain": [
       "[{'B': array([0.        , 0.        , 0.        , 0.        , 0.        ,\n",
       "         0.        , 0.        , 0.        , 0.        , 0.        ,\n",
       "         0.        , 0.77543616, 0.        , 0.        , 0.        ,\n",
       "         0.        , 0.        , 0.        , 0.        ]),\n",
       "  'B0': 279.70762133645695,\n",
       "  'lambda_0': 0.1559978371476548,\n",
       "  'M': 0.5558487113898553,\n",
       "  'Time_exceeded': False},\n",
       " {'B': array([0.        , 3.25484367, 0.        , 0.        , 0.        ,\n",
       "         0.        , 0.        , 0.        , 0.        , 0.        ,\n",
       "         0.        , 0.67775265, 0.        , 0.        , 0.        ,\n",
       "         0.        , 0.        , 0.        , 0.        ]),\n",
       "  'B0': -38.98216739555551,\n",
       "  'lambda_0': 0.04917594600171587,\n",
       "  'M': 0.6670111294490764,\n",
       "  'Time_exceeded': False},\n",
       " {'B': array([0.        , 3.25484367, 0.        , 0.        , 0.        ,\n",
       "         0.        , 0.        , 0.        , 0.        , 0.        ,\n",
       "         0.        , 0.67775265, 0.        , 0.        , 0.        ,\n",
       "         0.        , 0.        , 0.        , 0.        ]),\n",
       "  'B0': -38.98216739555551,\n",
       "  'lambda_0': 0.012017103186789661,\n",
       "  'M': 0.5829861733382012,\n",
       "  'Time_exceeded': False},\n",
       " {'B': array([0.        , 3.25484367, 0.        , 0.        , 0.        ,\n",
       "         0.        , 0.        , 0.        , 0.        , 0.        ,\n",
       "         0.        , 0.67775265, 0.        , 0.        , 0.        ,\n",
       "         0.        , 0.        , 0.        , 0.        ]),\n",
       "  'B0': -38.98216739555551,\n",
       "  'lambda_0': 0.011416248027450178,\n",
       "  'M': 0.5829861733382012,\n",
       "  'Time_exceeded': False},\n",
       " {'B': array([   0.        ,    3.13128866,    0.        ,    0.        ,\n",
       "            0.        ,    0.        ,    0.        ,    0.        ,\n",
       "            0.        ,    0.        ,    0.        ,    0.67695124,\n",
       "            0.        ,    0.        , -137.72478629,    0.        ,\n",
       "            0.        ,    0.        ,    0.        ]),\n",
       "  'B0': 44.77699685800303,\n",
       "  'lambda_0': 0.01084543562607767,\n",
       "  'M': 0.5829861733382012,\n",
       "  'Time_exceeded': False},\n",
       " {'B': array([   0.        ,    3.13128866,    0.        ,    0.        ,\n",
       "            0.        ,    0.        ,    0.        ,    0.        ,\n",
       "            0.        ,    0.        ,    0.        ,    0.67695124,\n",
       "            0.        ,    0.        , -137.72478629,    0.        ,\n",
       "            0.        ,    0.        ,    0.        ]),\n",
       "  'B0': 44.77699685800303,\n",
       "  'lambda_0': 0.010303163844773786,\n",
       "  'M': 0.5822968230912956,\n",
       "  'Time_exceeded': False},\n",
       " {'B': array([   0.        ,    2.64925541,    0.        ,    0.        ,\n",
       "            0.        ,    0.        ,    0.        ,    0.        ,\n",
       "            0.        ,    0.        ,    0.        ,    0.66950075,\n",
       "            0.        ,    0.        , -137.60965457,    0.27082503,\n",
       "            0.        ,    0.        ,    0.        ]),\n",
       "  'B0': 20.425407150966294,\n",
       "  'lambda_0': 0.009788005652535096,\n",
       "  'M': 0.5822968230912956,\n",
       "  'Time_exceeded': False},\n",
       " {'B': array([  -1.20831273,    4.64432264,    0.        ,    0.        ,\n",
       "            0.        ,    4.59805059,  -11.6699466 ,    0.        ,\n",
       "            0.        ,    0.        ,    0.58710796,    0.54935239,\n",
       "           -0.45671348,    0.        , -126.39657952,    0.26498974,\n",
       "            0.        ,    0.        ,    0.        ]),\n",
       "  'B0': 131.78366110767536,\n",
       "  'lambda_0': 0.0031255154162732487,\n",
       "  'M': 0.5758880872057148,\n",
       "  'Time_exceeded': False},\n",
       " {'B': array([  -1.20831273,    4.64432264,    0.        ,    0.        ,\n",
       "            0.        ,    4.59805059,  -11.6699466 ,    0.        ,\n",
       "            0.        ,    0.        ,    0.58710796,    0.54935239,\n",
       "           -0.45671348,    0.        , -126.39657952,    0.26498974,\n",
       "            0.        ,    0.        ,    0.        ]),\n",
       "  'B0': 131.78366110767536,\n",
       "  'lambda_0': 0.0006392637148083473,\n",
       "  'M': 0.5574849768321162,\n",
       "  'Time_exceeded': False},\n",
       " {'B': array([  -1.20831273,    4.64432264,    0.        ,    0.        ,\n",
       "            0.        ,    4.59805059,  -11.6699466 ,    0.        ,\n",
       "            0.        ,    0.        ,    0.58710796,    0.54935239,\n",
       "           -0.45671348,    0.        , -126.39657952,    0.26498974,\n",
       "            0.        ,    0.        ,    0.        ]),\n",
       "  'B0': 131.78366110767536,\n",
       "  'lambda_0': 0.0006073005290679299,\n",
       "  'M': 0.5574849768321162,\n",
       "  'Time_exceeded': False},\n",
       " {'B': array([  -1.20831273,    4.64432264,    0.        ,    0.        ,\n",
       "            0.        ,    4.59805059,  -11.6699466 ,    0.        ,\n",
       "            0.        ,    0.        ,    0.58710796,    0.54935239,\n",
       "           -0.45671348,    0.        , -126.39657952,    0.26498974,\n",
       "            0.        ,    0.        ,    0.        ]),\n",
       "  'B0': 131.78366110767536,\n",
       "  'lambda_0': 0.0005769355026145334,\n",
       "  'M': 0.5574849768321162,\n",
       "  'Time_exceeded': False},\n",
       " {'B': array([  -1.20831273,    4.64432264,    0.        ,    0.        ,\n",
       "            0.        ,    4.59805059,  -11.6699466 ,    0.        ,\n",
       "            0.        ,    0.        ,    0.58710796,    0.54935239,\n",
       "           -0.45671348,    0.        , -126.39657952,    0.26498974,\n",
       "            0.        ,    0.        ,    0.        ]),\n",
       "  'B0': 131.78366110767536,\n",
       "  'lambda_0': 0.0005480887274838068,\n",
       "  'M': 0.5574849768321162,\n",
       "  'Time_exceeded': False},\n",
       " {'B': array([  -1.20831273,    4.64432264,    0.        ,    0.        ,\n",
       "            0.        ,    4.59805059,  -11.6699466 ,    0.        ,\n",
       "            0.        ,    0.        ,    0.58710796,    0.54935239,\n",
       "           -0.45671348,    0.        , -126.39657952,    0.26498974,\n",
       "            0.        ,    0.        ,    0.        ]),\n",
       "  'B0': 131.78366110767536,\n",
       "  'lambda_0': 0.0005206842911096164,\n",
       "  'M': 0.5574849768321162,\n",
       "  'Time_exceeded': False},\n",
       " {'B': array([  -1.20831273,    4.64432264,    0.        ,    0.        ,\n",
       "            0.        ,    4.59805059,  -11.6699466 ,    0.        ,\n",
       "            0.        ,    0.        ,    0.58710796,    0.54935239,\n",
       "           -0.45671348,    0.        , -126.39657952,    0.26498974,\n",
       "            0.        ,    0.        ,    0.        ]),\n",
       "  'B0': 131.78366110767536,\n",
       "  'lambda_0': 0.0004946500765541356,\n",
       "  'M': 0.5574849768321162,\n",
       "  'Time_exceeded': False},\n",
       " {'B': array([  -1.20831273,    4.64432264,    0.        ,    0.        ,\n",
       "            0.        ,    4.59805059,  -11.6699466 ,    0.        ,\n",
       "            0.        ,    0.        ,    0.58710796,    0.54935239,\n",
       "           -0.45671348,    0.        , -126.39657952,    0.26498974,\n",
       "            0.        ,    0.        ,    0.        ]),\n",
       "  'B0': 131.78366110767536,\n",
       "  'lambda_0': 0.00046991757272642876,\n",
       "  'M': 0.5574849768321162,\n",
       "  'Time_exceeded': False},\n",
       " {'B': array([  -1.20831273,    4.64432264,    0.        ,    0.        ,\n",
       "            0.        ,    4.59805059,  -11.6699466 ,    0.        ,\n",
       "            0.        ,    0.        ,    0.58710796,    0.54935239,\n",
       "           -0.45671348,    0.        , -126.39657952,    0.26498974,\n",
       "            0.        ,    0.        ,    0.        ]),\n",
       "  'B0': 131.78366110767536,\n",
       "  'lambda_0': 0.0004464216940901073,\n",
       "  'M': 0.5574849768321162,\n",
       "  'Time_exceeded': False},\n",
       " {'B': array([  -1.20831273,    4.64432264,    0.        ,    0.        ,\n",
       "            0.        ,    4.59805059,  -11.6699466 ,    0.        ,\n",
       "            0.        ,    0.        ,    0.58710796,    0.54935239,\n",
       "           -0.45671348,    0.        , -126.39657952,    0.26498974,\n",
       "            0.        ,    0.        ,    0.        ]),\n",
       "  'B0': 131.78366110767536,\n",
       "  'lambda_0': 0.0004241006093856019,\n",
       "  'M': 0.5574849768321162,\n",
       "  'Time_exceeded': False},\n",
       " {'B': array([  -1.29550633,    4.53810103,    0.        ,    0.34149949,\n",
       "            0.27591345,    4.63199182,  -12.7142184 ,    0.        ,\n",
       "            0.13460257,    0.74301941,    0.45578406,    0.29807649,\n",
       "           -0.50210518,   59.07512742, -125.52840205,    0.2752688 ,\n",
       "            0.23933576,   -3.88281558,  -26.56082533]),\n",
       "  'B0': 131.37317569935863,\n",
       "  'lambda_0': 0.0004028955789163218,\n",
       "  'M': 0.5574849768321162,\n",
       "  'Time_exceeded': False},\n",
       " {'B': array([-1.26502911e+00,  4.46363942e+00, -4.05516420e-01,  3.68642135e-01,\n",
       "          3.70769174e-01,  4.52419026e+00, -1.09492951e+01, -2.62273508e-02,\n",
       "          1.75010089e-01,  7.24620342e-01,  4.97558641e-01,  3.27023455e-01,\n",
       "         -4.83177545e-01,  5.94754193e+01, -1.24109864e+02,  2.75173624e-01,\n",
       "          2.44689154e-01, -3.85103383e+00, -2.60155377e+01]),\n",
       "  'B0': 127.13628221208313,\n",
       "  'lambda_0': 9.180211178143118e-06,\n",
       "  'M': 0.5447345814105982,\n",
       "  'Time_exceeded': False}]"
      ]
     },
     "execution_count": 100,
     "metadata": {},
     "output_type": "execute_result"
    }
   ],
   "source": [
    "# Beyond scope of this book\n",
    "\n",
    "d = design.fit_transform(data_new)\n",
    "de = d.drop(\"intercept\", axis = 1)\n",
    "x = np.asarray(de)\n",
    "path = fit_path(x,y,max_nonzeros=x.shape[1])\n",
    "path"
   ]
  }
 ],
 "metadata": {
  "kernelspec": {
   "display_name": "datasci-env",
   "language": "python",
   "name": "datasci-env"
  },
  "language_info": {
   "codemirror_mode": {
    "name": "ipython",
    "version": 3
   },
   "file_extension": ".py",
   "mimetype": "text/x-python",
   "name": "python",
   "nbconvert_exporter": "python",
   "pygments_lexer": "ipython3",
   "version": "3.12.8"
  }
 },
 "nbformat": 4,
 "nbformat_minor": 2
}
