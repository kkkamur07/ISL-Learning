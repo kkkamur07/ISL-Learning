{
 "cells": [
  {
   "cell_type": "markdown",
   "id": "a8df57d2",
   "metadata": {},
   "source": [
    "#### Tree Questions"
   ]
  },
  {
   "cell_type": "code",
   "execution_count": 22,
   "id": "685ec504",
   "metadata": {},
   "outputs": [],
   "source": [
    "import numpy as np\n",
    "import pandas as pd\n",
    "import matplotlib.pyplot as plt\n",
    "from statsmodels.datasets import get_rdataset\n",
    "import statsmodels.api as sm\n",
    "import sklearn.model_selection as skm\n",
    "from ISLP import load_data, confusion_table\n",
    "from ISLP.models import ModelSpec as MS\n",
    "from sklearn.tree import (DecisionTreeClassifier as DTC, \n",
    "                          DecisionTreeRegressor as DTR, \n",
    "                          plot_tree, \n",
    "                          export_text)\n",
    "from sklearn.ensemble import (RandomForestClassifier as RFC,GradientBoostingRegressor as GBR, RandomForestRegressor as RF)\n",
    "from sklearn.metrics import (accuracy_score, \n",
    "                             log_loss)\n",
    "from ISLP.bart import BART\n",
    "from mpl_toolkits.mplot3d import Axes3D\n"
   ]
  },
  {
   "cell_type": "markdown",
   "id": "29c4e8ab",
   "metadata": {},
   "source": [
    "#### Question 1\n",
    "- Random Forest on `maxFeatures` & `n_estimators`"
   ]
  },
  {
   "cell_type": "code",
   "execution_count": 17,
   "id": "86fc66cf",
   "metadata": {},
   "outputs": [
    {
     "name": "stdout",
     "output_type": "stream",
     "text": [
      "Testing Done for 1 features and 100 estimators\n",
      "Testing Done for 1 features and 200 estimators\n",
      "Testing Done for 1 features and 300 estimators\n",
      "Testing Done for 1 features and 400 estimators\n",
      "Testing Done for 1 features and 500 estimators\n",
      "Testing Done for 1 features and 600 estimators\n",
      "Testing Done for 1 features and 700 estimators\n",
      "Testing Done for 1 features and 800 estimators\n",
      "Testing Done for 1 features and 900 estimators\n",
      "Testing Done for 1 features and 1000 estimators\n",
      "Testing Done for 1 features and 1100 estimators\n",
      "Testing Done for 1 features and 1200 estimators\n",
      "Testing Done for 1 features and 1300 estimators\n",
      "Testing Done for 1 features and 1400 estimators\n",
      "Testing Done for 2 features and 100 estimators\n",
      "Testing Done for 2 features and 200 estimators\n",
      "Testing Done for 2 features and 300 estimators\n",
      "Testing Done for 2 features and 400 estimators\n",
      "Testing Done for 2 features and 500 estimators\n",
      "Testing Done for 2 features and 600 estimators\n",
      "Testing Done for 2 features and 700 estimators\n",
      "Testing Done for 2 features and 800 estimators\n",
      "Testing Done for 2 features and 900 estimators\n",
      "Testing Done for 2 features and 1000 estimators\n",
      "Testing Done for 2 features and 1100 estimators\n",
      "Testing Done for 2 features and 1200 estimators\n",
      "Testing Done for 2 features and 1300 estimators\n",
      "Testing Done for 2 features and 1400 estimators\n",
      "Testing Done for 3 features and 100 estimators\n",
      "Testing Done for 3 features and 200 estimators\n",
      "Testing Done for 3 features and 300 estimators\n",
      "Testing Done for 3 features and 400 estimators\n",
      "Testing Done for 3 features and 500 estimators\n",
      "Testing Done for 3 features and 600 estimators\n",
      "Testing Done for 3 features and 700 estimators\n",
      "Testing Done for 3 features and 800 estimators\n",
      "Testing Done for 3 features and 900 estimators\n",
      "Testing Done for 3 features and 1000 estimators\n",
      "Testing Done for 3 features and 1100 estimators\n",
      "Testing Done for 3 features and 1200 estimators\n",
      "Testing Done for 3 features and 1300 estimators\n",
      "Testing Done for 3 features and 1400 estimators\n",
      "Testing Done for 4 features and 100 estimators\n",
      "Testing Done for 4 features and 200 estimators\n",
      "Testing Done for 4 features and 300 estimators\n",
      "Testing Done for 4 features and 400 estimators\n",
      "Testing Done for 4 features and 500 estimators\n",
      "Testing Done for 4 features and 600 estimators\n",
      "Testing Done for 4 features and 700 estimators\n",
      "Testing Done for 4 features and 800 estimators\n",
      "Testing Done for 4 features and 900 estimators\n",
      "Testing Done for 4 features and 1000 estimators\n",
      "Testing Done for 4 features and 1100 estimators\n",
      "Testing Done for 4 features and 1200 estimators\n",
      "Testing Done for 4 features and 1300 estimators\n",
      "Testing Done for 4 features and 1400 estimators\n",
      "Testing Done for 5 features and 100 estimators\n",
      "Testing Done for 5 features and 200 estimators\n",
      "Testing Done for 5 features and 300 estimators\n",
      "Testing Done for 5 features and 400 estimators\n",
      "Testing Done for 5 features and 500 estimators\n",
      "Testing Done for 5 features and 600 estimators\n",
      "Testing Done for 5 features and 700 estimators\n",
      "Testing Done for 5 features and 800 estimators\n",
      "Testing Done for 5 features and 900 estimators\n",
      "Testing Done for 5 features and 1000 estimators\n",
      "Testing Done for 5 features and 1100 estimators\n",
      "Testing Done for 5 features and 1200 estimators\n",
      "Testing Done for 5 features and 1300 estimators\n",
      "Testing Done for 5 features and 1400 estimators\n",
      "Testing Done for 6 features and 100 estimators\n",
      "Testing Done for 6 features and 200 estimators\n",
      "Testing Done for 6 features and 300 estimators\n",
      "Testing Done for 6 features and 400 estimators\n",
      "Testing Done for 6 features and 500 estimators\n",
      "Testing Done for 6 features and 600 estimators\n",
      "Testing Done for 6 features and 700 estimators\n",
      "Testing Done for 6 features and 800 estimators\n",
      "Testing Done for 6 features and 900 estimators\n",
      "Testing Done for 6 features and 1000 estimators\n",
      "Testing Done for 6 features and 1100 estimators\n",
      "Testing Done for 6 features and 1200 estimators\n",
      "Testing Done for 6 features and 1300 estimators\n",
      "Testing Done for 6 features and 1400 estimators\n",
      "Testing Done for 7 features and 100 estimators\n",
      "Testing Done for 7 features and 200 estimators\n",
      "Testing Done for 7 features and 300 estimators\n",
      "Testing Done for 7 features and 400 estimators\n",
      "Testing Done for 7 features and 500 estimators\n",
      "Testing Done for 7 features and 600 estimators\n",
      "Testing Done for 7 features and 700 estimators\n",
      "Testing Done for 7 features and 800 estimators\n",
      "Testing Done for 7 features and 900 estimators\n",
      "Testing Done for 7 features and 1000 estimators\n",
      "Testing Done for 7 features and 1100 estimators\n",
      "Testing Done for 7 features and 1200 estimators\n",
      "Testing Done for 7 features and 1300 estimators\n",
      "Testing Done for 7 features and 1400 estimators\n",
      "Testing Done for 8 features and 100 estimators\n",
      "Testing Done for 8 features and 200 estimators\n",
      "Testing Done for 8 features and 300 estimators\n",
      "Testing Done for 8 features and 400 estimators\n",
      "Testing Done for 8 features and 500 estimators\n",
      "Testing Done for 8 features and 600 estimators\n",
      "Testing Done for 8 features and 700 estimators\n",
      "Testing Done for 8 features and 800 estimators\n",
      "Testing Done for 8 features and 900 estimators\n",
      "Testing Done for 8 features and 1000 estimators\n",
      "Testing Done for 8 features and 1100 estimators\n",
      "Testing Done for 8 features and 1200 estimators\n",
      "Testing Done for 8 features and 1300 estimators\n",
      "Testing Done for 8 features and 1400 estimators\n",
      "Testing Done for 9 features and 100 estimators\n",
      "Testing Done for 9 features and 200 estimators\n",
      "Testing Done for 9 features and 300 estimators\n",
      "Testing Done for 9 features and 400 estimators\n",
      "Testing Done for 9 features and 500 estimators\n",
      "Testing Done for 9 features and 600 estimators\n",
      "Testing Done for 9 features and 700 estimators\n",
      "Testing Done for 9 features and 800 estimators\n",
      "Testing Done for 9 features and 900 estimators\n",
      "Testing Done for 9 features and 1000 estimators\n",
      "Testing Done for 9 features and 1100 estimators\n",
      "Testing Done for 9 features and 1200 estimators\n",
      "Testing Done for 9 features and 1300 estimators\n",
      "Testing Done for 9 features and 1400 estimators\n",
      "Testing Done for 10 features and 100 estimators\n",
      "Testing Done for 10 features and 200 estimators\n",
      "Testing Done for 10 features and 300 estimators\n",
      "Testing Done for 10 features and 400 estimators\n",
      "Testing Done for 10 features and 500 estimators\n",
      "Testing Done for 10 features and 600 estimators\n",
      "Testing Done for 10 features and 700 estimators\n",
      "Testing Done for 10 features and 800 estimators\n",
      "Testing Done for 10 features and 900 estimators\n",
      "Testing Done for 10 features and 1000 estimators\n",
      "Testing Done for 10 features and 1100 estimators\n",
      "Testing Done for 10 features and 1200 estimators\n",
      "Testing Done for 10 features and 1300 estimators\n",
      "Testing Done for 10 features and 1400 estimators\n",
      "Testing Done for 11 features and 100 estimators\n",
      "Testing Done for 11 features and 200 estimators\n",
      "Testing Done for 11 features and 300 estimators\n",
      "Testing Done for 11 features and 400 estimators\n",
      "Testing Done for 11 features and 500 estimators\n",
      "Testing Done for 11 features and 600 estimators\n",
      "Testing Done for 11 features and 700 estimators\n",
      "Testing Done for 11 features and 800 estimators\n",
      "Testing Done for 11 features and 900 estimators\n",
      "Testing Done for 11 features and 1000 estimators\n",
      "Testing Done for 11 features and 1100 estimators\n",
      "Testing Done for 11 features and 1200 estimators\n",
      "Testing Done for 11 features and 1300 estimators\n",
      "Testing Done for 11 features and 1400 estimators\n",
      "Testing Done for 12 features and 100 estimators\n",
      "Testing Done for 12 features and 200 estimators\n",
      "Testing Done for 12 features and 300 estimators\n",
      "Testing Done for 12 features and 400 estimators\n",
      "Testing Done for 12 features and 500 estimators\n",
      "Testing Done for 12 features and 600 estimators\n",
      "Testing Done for 12 features and 700 estimators\n",
      "Testing Done for 12 features and 800 estimators\n",
      "Testing Done for 12 features and 900 estimators\n",
      "Testing Done for 12 features and 1000 estimators\n",
      "Testing Done for 12 features and 1100 estimators\n",
      "Testing Done for 12 features and 1200 estimators\n",
      "Testing Done for 12 features and 1300 estimators\n",
      "Testing Done for 12 features and 1400 estimators\n",
      "Testing Done for 13 features and 100 estimators\n",
      "Testing Done for 13 features and 200 estimators\n",
      "Testing Done for 13 features and 300 estimators\n",
      "Testing Done for 13 features and 400 estimators\n",
      "Testing Done for 13 features and 500 estimators\n",
      "Testing Done for 13 features and 600 estimators\n",
      "Testing Done for 13 features and 700 estimators\n",
      "Testing Done for 13 features and 800 estimators\n",
      "Testing Done for 13 features and 900 estimators\n",
      "Testing Done for 13 features and 1000 estimators\n",
      "Testing Done for 13 features and 1100 estimators\n",
      "Testing Done for 13 features and 1200 estimators\n",
      "Testing Done for 13 features and 1300 estimators\n",
      "Testing Done for 13 features and 1400 estimators\n"
     ]
    }
   ],
   "source": [
    "data = load_data('Boston')\n",
    "x = data.drop(columns='medv')\n",
    "y = data['medv']\n",
    "x = sm.add_constant(x)\n",
    "\n",
    "cv = skm.ShuffleSplit(n_splits = 5, test_size = 0.2, random_state=0)\n",
    "\n",
    "# Range of values\n",
    "max_features = np.arange(1, x.shape[1] + 1)\n",
    "estimators = np.arange(100,1500, 100)\n",
    "rss_vals = np.zeros((len(max_features), len(estimators)))\n",
    "\n",
    "for features in max_features : \n",
    "    for estimator in estimators : \n",
    "        for train_idx, test_idx in cv.split(x) : \n",
    "            x_train, y_train = x.iloc[train_idx], y.iloc[train_idx]\n",
    "            x_test, y_test = x.iloc[test_idx], y.iloc[test_idx]\n",
    "            \n",
    "            # Fitting\n",
    "            rf = RF(n_estimators=estimator, max_features=features)\n",
    "            rf.fit(x_train, y_train)\n",
    "            y_pred = rf.predict(x_test)\n",
    "            rss_vals[features-1, estimator//100 - 1] += ((y_pred - y_test) ** 2).sum()\n",
    "\n",
    "        rss_vals[features-1, estimator//100 - 1] /= cv.get_n_splits()\n",
    "        print(f\"Testing Done for {features} features and {estimator} estimators\")"
   ]
  },
  {
   "cell_type": "code",
   "execution_count": 21,
   "id": "73cd88cf",
   "metadata": {},
   "outputs": [
    {
     "data": {
      "image/png": "[encoded data removed]",
      "text/plain": [
       "<Figure size 1200x800 with 2 Axes>"
      ]
     },
     "metadata": {},
     "output_type": "display_data"
    },
    {
     "data": {
      "text/plain": [
       "1387.6996301750012"
      ]
     },
     "execution_count": 21,
     "metadata": {},
     "output_type": "execute_result"
    }
   ],
   "source": [
    "# Plotting\n",
    "plt.figure(figsize=(12, 8))\n",
    "plt.imshow(rss_vals, interpolation='nearest', cmap=plt.cm.hot)\n",
    "plt.colorbar()\n",
    "plt.xlabel('Number of Estimators')\n",
    "plt.ylabel('Number of Features')\n",
    "plt.title('RSS for Random Forest')\n",
    "plt.xticks(np.arange(len(estimators)), estimators)\n",
    "plt.yticks(np.arange(len(max_features)), max_features)\n",
    "plt.xticks(rotation=45)\n",
    "plt.grid(False)\n",
    "plt.show()\n",
    "\n",
    "# Best parameters\n",
    "best_idx = np.argmin(rss_vals)\n",
    "best_idx "
   ]
  },
  {
   "cell_type": "code",
   "execution_count": 94,
   "id": "d35caae7",
   "metadata": {},
   "outputs": [
    {
     "data": {
      "application/vnd.plotly.v1+json": {
       "config": {
        "displaylogo": false,
        "modeBarButtonsToAdd": [
         "downloadhtml"
        ],
        "plotlyServerURL": "https://plot.ly",
        "toImageButtonOptions": {
         "filename": "rss_3d_plot",
         "format": "png"
        }
       },
       "data": [
        {
         "hovertemplate": "Estimators: %{x}<br>Features: %{y}<br>RSS: %{z}<extra></extra>",
         "type": "surface",
         "x": [
          [
           100,
           200,
           300,
           400,
           500,
           600,
           700,
           800,
           900
          ],
          [
           100,
           200,
           300,
           400,
           500,
           600,
           700,
           800,
           900
          ],
          [
           100,
           200,
           300,
           400,
           500,
           600,
           700,
           800,
           900
          ],
          [
           100,
           200,
           300,
           400,
           500,
           600,
           700,
           800,
           900
          ],
          [
           100,
           200,
           300,
           400,
           500,
           600,
           700,
           800,
           900
          ],
          [
           100,
           200,
           300,
           400,
           500,
           600,
           700,
           800,
           900
          ],
          [
           100,
           200,
           300,
           400,
           500,
           600,
           700,
           800,
           900
          ],
          [
           100,
           200,
           300,
           400,
           500,
           600,
           700,
           800,
           900
          ],
          [
           100,
           200,
           300,
           400,
           500,
           600,
           700,
           800,
           900
          ],
          [
           100,
           200,
           300,
           400,
           500,
           600,
           700,
           800,
           900
          ],
          [
           100,
           200,
           300,
           400,
           500,
           600,
           700,
           800,
           900
          ],
          [
           100,
           200,
           300,
           400,
           500,
           600,
           700,
           800,
           900
          ],
          [
           100,
           200,
           300,
           400,
           500,
           600,
           700,
           800,
           900
          ]
         ],
         "y": [
          [
           1,
           1,
           1,
           1,
           1,
           1,
           1,
           1,
           1
          ],
          [
           2,
           2,
           2,
           2,
           2,
           2,
           2,
           2,
           2
          ],
          [
           3,
           3,
           3,
           3,
           3,
           3,
           3,
           3,
           3
          ],
          [
           4,
           4,
           4,
           4,
           4,
           4,
           4,
           4,
           4
          ],
          [
           5,
           5,
           5,
           5,
           5,
           5,
           5,
           5,
           5
          ],
          [
           6,
           6,
           6,
           6,
           6,
           6,
           6,
           6,
           6
          ],
          [
           7,
           7,
           7,
           7,
           7,
           7,
           7,
           7,
           7
          ],
          [
           8,
           8,
           8,
           8,
           8,
           8,
           8,
           8,
           8
          ],
          [
           9,
           9,
           9,
           9,
           9,
           9,
           9,
           9,
           9
          ],
          [
           10,
           10,
           10,
           10,
           10,
           10,
           10,
           10,
           10
          ],
          [
           11,
           11,
           11,
           11,
           11,
           11,
           11,
           11,
           11
          ],
          [
           12,
           12,
           12,
           12,
           12,
           12,
           12,
           12,
           12
          ],
          [
           13,
           13,
           13,
           13,
           13,
           13,
           13,
           13,
           13
          ]
         ],
         "z": [
          [
           2165.948441799999,
           2160.032685906246,
           2251.85141979711,
           2146.0053465097253,
           2183.980370172488,
           2141.0507465440646,
           2169.157354115316,
           2151.9647545646612,
           2186.615744175639,
           2200.290557299903,
           2145.5411611133154,
           2163.6413489360684,
           2152.588429617287,
           2177.093457814928
          ],
          [
           1881.306727349999,
           1862.422127131941,
           1848.3064206518525,
           1807.2127191496566,
           1813.3176022749667,
           1821.8488893370468,
           1821.0265819550855,
           1833.6737368160707,
           1828.0036880599564,
           1848.5186900145175,
           1868.1624217467574,
           1807.938797327576,
           1829.9780128490106,
           1780.3212391315822
          ],
          [
           1604.1822347999992,
           1669.1015712968722,
           1704.0257208888893,
           1672.5999119250023,
           1691.1912531060068,
           1654.1945583665215,
           1648.7253857260869,
           1662.0067160264182,
           1657.6618801829277,
           1666.6259154552783,
           1661.191057923143,
           1647.5513661972589,
           1653.6719591196882,
           1669.8654617927416
          ],
          [
           1554.807693799999,
           1605.0547776499977,
           1529.8098956222216,
           1573.6299931875026,
           1570.0961321600057,
           1570.9315852277846,
           1578.0040596278986,
           1566.1936392812568,
           1580.8689158938325,
           1595.5860890135036,
           1552.0961754272744,
           1559.2191868822044,
           1574.5994624104244,
           1569.1035732211544
          ],
          [
           1551.5426395999993,
           1488.944277999999,
           1520.2068663555553,
           1507.8349979625013,
           1555.1856691840048,
           1556.2188237666733,
           1521.5344675102117,
           1508.876269143756,
           1545.638842202474,
           1541.9430249724476,
           1522.6089646743803,
           1514.839542068402,
           1516.6300639976307,
           1532.1138605060046
          ],
          [
           1535.8004539999995,
           1497.2642089999986,
           1496.4679029777774,
           1465.927450800002,
           1470.6198734960049,
           1514.0635766333407,
           1477.1505596530674,
           1496.6605326125073,
           1478.1681998296342,
           1471.8981160140042,
           1485.5901463322339,
           1482.1907173062518,
           1490.57892297633,
           1479.0886264632632
          ],
          [
           1506.4621299999997,
           1447.3036023499983,
           1493.9217837555548,
           1493.2066646875014,
           1472.2988277940044,
           1445.5370332333373,
           1463.1383379510266,
           1463.4997637187557,
           1460.5840416543256,
           1457.2205920600038,
           1447.4392256826484,
           1469.2970508388914,
           1465.1193667443772,
           1466.471016099998
          ],
          [
           1440.4666399999999,
           1451.7114482499987,
           1418.4093400444442,
           1444.6820133000012,
           1420.8781495680037,
           1440.575213033338,
           1440.2809874898016,
           1450.8429719843796,
           1458.7118277284,
           1446.9926932340036,
           1477.8798481388467,
           1466.5210858458345,
           1455.1798020627225,
           1446.2494657408142
          ],
          [
           1487.2607981999995,
           1450.1332266999987,
           1464.74141331111,
           1449.4640971625015,
           1445.319389472004,
           1440.8406462777825,
           1442.509638848985,
           1433.636573875006,
           1464.228577261733,
           1444.0585481280043,
           1440.6351457454602,
           1446.7474836194467,
           1459.0485764650894,
           1443.824391429591
          ],
          [
           1507.1635583999994,
           1447.8416097999989,
           1454.986154022221,
           1451.323599537501,
           1468.7327467920034,
           1457.37128950556,
           1435.6563440530654,
           1427.5938021843795,
           1426.0325410938308,
           1468.322577848005,
           1449.0953221983514,
           1430.5495170166682,
           1442.5755855881675,
           1462.635934254081
          ],
          [
           1481.1491409999994,
           1409.564746399999,
           1435.750361199999,
           1387.6996301750012,
           1417.8665890480036,
           1424.900688005559,
           1440.848272216331,
           1430.458653487504,
           1439.791392118523,
           1435.8041844180054,
           1441.9234629504167,
           1449.9521868486124,
           1441.1674927041433,
           1434.7903333214294
          ],
          [
           1451.3735745999998,
           1474.5625314499982,
           1439.2232793999995,
           1429.8476485250007,
           1444.5155141680025,
           1438.4766342388934,
           1443.043209387759,
           1433.1169677906296,
           1461.593103938276,
           1440.3959612140063,
           1430.7061977322367,
           1435.2394652791702,
           1445.9442015230773,
           1457.1486097204079
          ],
          [
           1481.8802866,
           1476.3092639499991,
           1463.3006844666656,
           1444.0046163375007,
           1459.5399712240028,
           1430.9199013611142,
           1463.6827467224532,
           1439.9847972875043,
           1472.8120807679056,
           1462.0769313780036,
           1450.2241004066157,
           1428.5779838527783,
           1436.0186332568062,
           1459.245413427549
          ]
         ]
        }
       ],
       "layout": {
        "height": 800,
        "scene": {
         "xaxis": {
          "title": {
           "text": "Number of Estimators"
          }
         },
         "yaxis": {
          "title": {
           "text": "Number of Features"
          }
         },
         "zaxis": {
          "title": {
           "text": "RSS Value"
          }
         }
        },
        "template": {
         "data": {
          "bar": [
           {
            "error_x": {
             "color": "#2a3f5f"
            },
            "error_y": {
             "color": "#2a3f5f"
            },
            "marker": {
             "line": {
              "color": "#E5ECF6",
              "width": 0.5
             },
             "pattern": {
              "fillmode": "overlay",
              "size": 10,
              "solidity": 0.2
             }
            },
            "type": "bar"
           }
          ],
          "barpolar": [
           {
            "marker": {
             "line": {
              "color": "#E5ECF6",
              "width": 0.5
             },
             "pattern": {
              "fillmode": "overlay",
              "size": 10,
              "solidity": 0.2
             }
            },
            "type": "barpolar"
           }
          ],
          "carpet": [
           {
            "aaxis": {
             "endlinecolor": "#2a3f5f",
             "gridcolor": "white",
             "linecolor": "white",
             "minorgridcolor": "white",
             "startlinecolor": "#2a3f5f"
            },
            "baxis": {
             "endlinecolor": "#2a3f5f",
             "gridcolor": "white",
             "linecolor": "white",
             "minorgridcolor": "white",
             "startlinecolor": "#2a3f5f"
            },
            "type": "carpet"
           }
          ],
          "choropleth": [
           {
            "colorbar": {
             "outlinewidth": 0,
             "ticks": ""
            },
            "type": "choropleth"
           }
          ],
          "contour": [
           {
            "colorbar": {
             "outlinewidth": 0,
             "ticks": ""
            },
            "colorscale": [
             [
              0,
              "#0d0887"
             ],
             [
              0.1111111111111111,
              "#46039f"
             ],
             [
              0.2222222222222222,
              "#7201a8"
             ],
             [
              0.3333333333333333,
              "#9c179e"
             ],
             [
              0.4444444444444444,
              "#bd3786"
             ],
             [
              0.5555555555555556,
              "#d8576b"
             ],
             [
              0.6666666666666666,
              "#ed7953"
             ],
             [
              0.7777777777777778,
              "#fb9f3a"
             ],
             [
              0.8888888888888888,
              "#fdca26"
             ],
             [
              1,
              "#f0f921"
             ]
            ],
            "type": "contour"
           }
          ],
          "contourcarpet": [
           {
            "colorbar": {
             "outlinewidth": 0,
             "ticks": ""
            },
            "type": "contourcarpet"
           }
          ],
          "heatmap": [
           {
            "colorbar": {
             "outlinewidth": 0,
             "ticks": ""
            },
            "colorscale": [
             [
              0,
              "#0d0887"
             ],
             [
              0.1111111111111111,
              "#46039f"
             ],
             [
              0.2222222222222222,
              "#7201a8"
             ],
             [
              0.3333333333333333,
              "#9c179e"
             ],
             [
              0.4444444444444444,
              "#bd3786"
             ],
             [
              0.5555555555555556,
              "#d8576b"
             ],
             [
              0.6666666666666666,
              "#ed7953"
             ],
             [
              0.7777777777777778,
              "#fb9f3a"
             ],
             [
              0.8888888888888888,
              "#fdca26"
             ],
             [
              1,
              "#f0f921"
             ]
            ],
            "type": "heatmap"
           }
          ],
          "heatmapgl": [
           {
            "colorbar": {
             "outlinewidth": 0,
             "ticks": ""
            },
            "colorscale": [
             [
              0,
              "#0d0887"
             ],
             [
              0.1111111111111111,
              "#46039f"
             ],
             [
              0.2222222222222222,
              "#7201a8"
             ],
             [
              0.3333333333333333,
              "#9c179e"
             ],
             [
              0.4444444444444444,
              "#bd3786"
             ],
             [
              0.5555555555555556,
              "#d8576b"
             ],
             [
              0.6666666666666666,
              "#ed7953"
             ],
             [
              0.7777777777777778,
              "#fb9f3a"
             ],
             [
              0.8888888888888888,
              "#fdca26"
             ],
             [
              1,
              "#f0f921"
             ]
            ],
            "type": "heatmapgl"
           }
          ],
          "histogram": [
           {
            "marker": {
             "pattern": {
              "fillmode": "overlay",
              "size": 10,
              "solidity": 0.2
             }
            },
            "type": "histogram"
           }
          ],
          "histogram2d": [
           {
            "colorbar": {
             "outlinewidth": 0,
             "ticks": ""
            },
            "colorscale": [
             [
              0,
              "#0d0887"
             ],
             [
              0.1111111111111111,
              "#46039f"
             ],
             [
              0.2222222222222222,
              "#7201a8"
             ],
             [
              0.3333333333333333,
              "#9c179e"
             ],
             [
              0.4444444444444444,
              "#bd3786"
             ],
             [
              0.5555555555555556,
              "#d8576b"
             ],
             [
              0.6666666666666666,
              "#ed7953"
             ],
             [
              0.7777777777777778,
              "#fb9f3a"
             ],
             [
              0.8888888888888888,
              "#fdca26"
             ],
             [
              1,
              "#f0f921"
             ]
            ],
            "type": "histogram2d"
           }
          ],
          "histogram2dcontour": [
           {
            "colorbar": {
             "outlinewidth": 0,
             "ticks": ""
            },
            "colorscale": [
             [
              0,
              "#0d0887"
             ],
             [
              0.1111111111111111,
              "#46039f"
             ],
             [
              0.2222222222222222,
              "#7201a8"
             ],
             [
              0.3333333333333333,
              "#9c179e"
             ],
             [
              0.4444444444444444,
              "#bd3786"
             ],
             [
              0.5555555555555556,
              "#d8576b"
             ],
             [
              0.6666666666666666,
              "#ed7953"
             ],
             [
              0.7777777777777778,
              "#fb9f3a"
             ],
             [
              0.8888888888888888,
              "#fdca26"
             ],
             [
              1,
              "#f0f921"
             ]
            ],
            "type": "histogram2dcontour"
           }
          ],
          "mesh3d": [
           {
            "colorbar": {
             "outlinewidth": 0,
             "ticks": ""
            },
            "type": "mesh3d"
           }
          ],
          "parcoords": [
           {
            "line": {
             "colorbar": {
              "outlinewidth": 0,
              "ticks": ""
             }
            },
            "type": "parcoords"
           }
          ],
          "pie": [
           {
            "automargin": true,
            "type": "pie"
           }
          ],
          "scatter": [
           {
            "fillpattern": {
             "fillmode": "overlay",
             "size": 10,
             "solidity": 0.2
            },
            "type": "scatter"
           }
          ],
          "scatter3d": [
           {
            "line": {
             "colorbar": {
              "outlinewidth": 0,
              "ticks": ""
             }
            },
            "marker": {
             "colorbar": {
              "outlinewidth": 0,
              "ticks": ""
             }
            },
            "type": "scatter3d"
           }
          ],
          "scattercarpet": [
           {
            "marker": {
             "colorbar": {
              "outlinewidth": 0,
              "ticks": ""
             }
            },
            "type": "scattercarpet"
           }
          ],
          "scattergeo": [
           {
            "marker": {
             "colorbar": {
              "outlinewidth": 0,
              "ticks": ""
             }
            },
            "type": "scattergeo"
           }
          ],
          "scattergl": [
           {
            "marker": {
             "colorbar": {
              "outlinewidth": 0,
              "ticks": ""
             }
            },
            "type": "scattergl"
           }
          ],
          "scattermapbox": [
           {
            "marker": {
             "colorbar": {
              "outlinewidth": 0,
              "ticks": ""
             }
            },
            "type": "scattermapbox"
           }
          ],
          "scatterpolar": [
           {
            "marker": {
             "colorbar": {
              "outlinewidth": 0,
              "ticks": ""
             }
            },
            "type": "scatterpolar"
           }
          ],
          "scatterpolargl": [
           {
            "marker": {
             "colorbar": {
              "outlinewidth": 0,
              "ticks": ""
             }
            },
            "type": "scatterpolargl"
           }
          ],
          "scatterternary": [
           {
            "marker": {
             "colorbar": {
              "outlinewidth": 0,
              "ticks": ""
             }
            },
            "type": "scatterternary"
           }
          ],
          "surface": [
           {
            "colorbar": {
             "outlinewidth": 0,
             "ticks": ""
            },
            "colorscale": [
             [
              0,
              "#0d0887"
             ],
             [
              0.1111111111111111,
              "#46039f"
             ],
             [
              0.2222222222222222,
              "#7201a8"
             ],
             [
              0.3333333333333333,
              "#9c179e"
             ],
             [
              0.4444444444444444,
              "#bd3786"
             ],
             [
              0.5555555555555556,
              "#d8576b"
             ],
             [
              0.6666666666666666,
              "#ed7953"
             ],
             [
              0.7777777777777778,
              "#fb9f3a"
             ],
             [
              0.8888888888888888,
              "#fdca26"
             ],
             [
              1,
              "#f0f921"
             ]
            ],
            "type": "surface"
           }
          ],
          "table": [
           {
            "cells": {
             "fill": {
              "color": "#EBF0F8"
             },
             "line": {
              "color": "white"
             }
            },
            "header": {
             "fill": {
              "color": "#C8D4E3"
             },
             "line": {
              "color": "white"
             }
            },
            "type": "table"
           }
          ]
         },
         "layout": {
          "annotationdefaults": {
           "arrowcolor": "#2a3f5f",
           "arrowhead": 0,
           "arrowwidth": 1
          },
          "autotypenumbers": "strict",
          "coloraxis": {
           "colorbar": {
            "outlinewidth": 0,
            "ticks": ""
           }
          },
          "colorscale": {
           "diverging": [
            [
             0,
             "#8e0152"
            ],
            [
             0.1,
             "#c51b7d"
            ],
            [
             0.2,
             "#de77ae"
            ],
            [
             0.3,
             "#f1b6da"
            ],
            [
             0.4,
             "#fde0ef"
            ],
            [
             0.5,
             "#f7f7f7"
            ],
            [
             0.6,
             "#e6f5d0"
            ],
            [
             0.7,
             "#b8e186"
            ],
            [
             0.8,
             "#7fbc41"
            ],
            [
             0.9,
             "#4d9221"
            ],
            [
             1,
             "#276419"
            ]
           ],
           "sequential": [
            [
             0,
             "#0d0887"
            ],
            [
             0.1111111111111111,
             "#46039f"
            ],
            [
             0.2222222222222222,
             "#7201a8"
            ],
            [
             0.3333333333333333,
             "#9c179e"
            ],
            [
             0.4444444444444444,
             "#bd3786"
            ],
            [
             0.5555555555555556,
             "#d8576b"
            ],
            [
             0.6666666666666666,
             "#ed7953"
            ],
            [
             0.7777777777777778,
             "#fb9f3a"
            ],
            [
             0.8888888888888888,
             "#fdca26"
            ],
            [
             1,
             "#f0f921"
            ]
           ],
           "sequentialminus": [
            [
             0,
             "#0d0887"
            ],
            [
             0.1111111111111111,
             "#46039f"
            ],
            [
             0.2222222222222222,
             "#7201a8"
            ],
            [
             0.3333333333333333,
             "#9c179e"
            ],
            [
             0.4444444444444444,
             "#bd3786"
            ],
            [
             0.5555555555555556,
             "#d8576b"
            ],
            [
             0.6666666666666666,
             "#ed7953"
            ],
            [
             0.7777777777777778,
             "#fb9f3a"
            ],
            [
             0.8888888888888888,
             "#fdca26"
            ],
            [
             1,
             "#f0f921"
            ]
           ]
          },
          "colorway": [
           "#636efa",
           "#EF553B",
           "#00cc96",
           "#ab63fa",
           "#FFA15A",
           "#19d3f3",
           "#FF6692",
           "#B6E880",
           "#FF97FF",
           "#FECB52"
          ],
          "font": {
           "color": "#2a3f5f"
          },
          "geo": {
           "bgcolor": "white",
           "lakecolor": "white",
           "landcolor": "#E5ECF6",
           "showlakes": true,
           "showland": true,
           "subunitcolor": "white"
          },
          "hoverlabel": {
           "align": "left"
          },
          "hovermode": "closest",
          "mapbox": {
           "style": "light"
          },
          "paper_bgcolor": "white",
          "plot_bgcolor": "#E5ECF6",
          "polar": {
           "angularaxis": {
            "gridcolor": "white",
            "linecolor": "white",
            "ticks": ""
           },
           "bgcolor": "#E5ECF6",
           "radialaxis": {
            "gridcolor": "white",
            "linecolor": "white",
            "ticks": ""
           }
          },
          "scene": {
           "xaxis": {
            "backgroundcolor": "#E5ECF6",
            "gridcolor": "white",
            "gridwidth": 2,
            "linecolor": "white",
            "showbackground": true,
            "ticks": "",
            "zerolinecolor": "white"
           },
           "yaxis": {
            "backgroundcolor": "#E5ECF6",
            "gridcolor": "white",
            "gridwidth": 2,
            "linecolor": "white",
            "showbackground": true,
            "ticks": "",
            "zerolinecolor": "white"
           },
           "zaxis": {
            "backgroundcolor": "#E5ECF6",
            "gridcolor": "white",
            "gridwidth": 2,
            "linecolor": "white",
            "showbackground": true,
            "ticks": "",
            "zerolinecolor": "white"
           }
          },
          "shapedefaults": {
           "line": {
            "color": "#2a3f5f"
           }
          },
          "ternary": {
           "aaxis": {
            "gridcolor": "white",
            "linecolor": "white",
            "ticks": ""
           },
           "baxis": {
            "gridcolor": "white",
            "linecolor": "white",
            "ticks": ""
           },
           "bgcolor": "#E5ECF6",
           "caxis": {
            "gridcolor": "white",
            "linecolor": "white",
            "ticks": ""
           }
          },
          "title": {
           "x": 0.05
          },
          "xaxis": {
           "automargin": true,
           "gridcolor": "white",
           "linecolor": "white",
           "ticks": "",
           "title": {
            "standoff": 15
           },
           "zerolinecolor": "white",
           "zerolinewidth": 2
          },
          "yaxis": {
           "automargin": true,
           "gridcolor": "white",
           "linecolor": "white",
           "ticks": "",
           "title": {
            "standoff": 15
           },
           "zerolinecolor": "white",
           "zerolinewidth": 2
          }
         }
        },
        "title": {
         "text": "Interactive 3D Visualization of RSS Values"
        },
        "width": 1000
       }
      }
     },
     "metadata": {},
     "output_type": "display_data"
    }
   ],
   "source": [
    "import plotly.graph_objects as go\n",
    "\n",
    "# Create meshgrid for 3D surface\n",
    "X, Y = np.meshgrid(estimators, max_features)\n",
    "\n",
    "# Create interactive 3D surface plot\n",
    "fig = go.Figure(data=[go.Surface(x=X, y=Y, z=rss_vals)])\n",
    "\n",
    "# Update layout\n",
    "fig.update_layout(\n",
    "    title='Interactive 3D Visualization of RSS Values',\n",
    "    scene=dict(\n",
    "        xaxis_title='Number of Estimators',\n",
    "        yaxis_title='Number of Features',\n",
    "        zaxis_title='RSS Value'\n",
    "    ),\n",
    "    width=1000,\n",
    "    height=800\n",
    ")\n",
    "\n",
    "# Add hover template\n",
    "fig.update_traces(hovertemplate='Estimators: %{x}<br>Features: %{y}<br>RSS: %{z}<extra></extra>')\n",
    "\n",
    "# Add download buttons\n",
    "fig.show(config={'toImageButtonOptions': {'format': 'png', 'filename': 'rss_3d_plot'},\n",
    "                'displaylogo': False,\n",
    "                'modeBarButtonsToAdd':['downloadhtml']})"
   ]
  },
  {
   "cell_type": "markdown",
   "id": "d0c5a54f",
   "metadata": {},
   "source": [
    "#### Question 2\n",
    "- Carseats dataset and use `Sales` as quantitative response variable"
   ]
  },
  {
   "cell_type": "code",
   "execution_count": 32,
   "id": "feb3579a",
   "metadata": {},
   "outputs": [
    {
     "data": {
      "text/html": [
       "<div>\n",
       "<style scoped>\n",
       "    .dataframe tbody tr th:only-of-type {\n",
       "        vertical-align: middle;\n",
       "    }\n",
       "\n",
       "    .dataframe tbody tr th {\n",
       "        vertical-align: top;\n",
       "    }\n",
       "\n",
       "    .dataframe thead th {\n",
       "        text-align: right;\n",
       "    }\n",
       "</style>\n",
       "<table border=\"1\" class=\"dataframe\">\n",
       "  <thead>\n",
       "    <tr style=\"text-align: right;\">\n",
       "      <th></th>\n",
       "      <th>const</th>\n",
       "      <th>CompPrice</th>\n",
       "      <th>Income</th>\n",
       "      <th>Advertising</th>\n",
       "      <th>Population</th>\n",
       "      <th>Price</th>\n",
       "      <th>Age</th>\n",
       "      <th>Education</th>\n",
       "      <th>Urban</th>\n",
       "      <th>US</th>\n",
       "      <th>ShelveLoc_Good</th>\n",
       "      <th>ShelveLoc_Medium</th>\n",
       "    </tr>\n",
       "  </thead>\n",
       "  <tbody>\n",
       "    <tr>\n",
       "      <th>0</th>\n",
       "      <td>1.0</td>\n",
       "      <td>138</td>\n",
       "      <td>73</td>\n",
       "      <td>11</td>\n",
       "      <td>276</td>\n",
       "      <td>120</td>\n",
       "      <td>42</td>\n",
       "      <td>17</td>\n",
       "      <td>1</td>\n",
       "      <td>1</td>\n",
       "      <td>0</td>\n",
       "      <td>0</td>\n",
       "    </tr>\n",
       "    <tr>\n",
       "      <th>1</th>\n",
       "      <td>1.0</td>\n",
       "      <td>111</td>\n",
       "      <td>48</td>\n",
       "      <td>16</td>\n",
       "      <td>260</td>\n",
       "      <td>83</td>\n",
       "      <td>65</td>\n",
       "      <td>10</td>\n",
       "      <td>1</td>\n",
       "      <td>1</td>\n",
       "      <td>0</td>\n",
       "      <td>0</td>\n",
       "    </tr>\n",
       "    <tr>\n",
       "      <th>2</th>\n",
       "      <td>1.0</td>\n",
       "      <td>113</td>\n",
       "      <td>35</td>\n",
       "      <td>10</td>\n",
       "      <td>269</td>\n",
       "      <td>80</td>\n",
       "      <td>59</td>\n",
       "      <td>12</td>\n",
       "      <td>1</td>\n",
       "      <td>1</td>\n",
       "      <td>0</td>\n",
       "      <td>0</td>\n",
       "    </tr>\n",
       "    <tr>\n",
       "      <th>3</th>\n",
       "      <td>1.0</td>\n",
       "      <td>117</td>\n",
       "      <td>100</td>\n",
       "      <td>4</td>\n",
       "      <td>466</td>\n",
       "      <td>97</td>\n",
       "      <td>55</td>\n",
       "      <td>14</td>\n",
       "      <td>1</td>\n",
       "      <td>1</td>\n",
       "      <td>0</td>\n",
       "      <td>0</td>\n",
       "    </tr>\n",
       "    <tr>\n",
       "      <th>4</th>\n",
       "      <td>1.0</td>\n",
       "      <td>141</td>\n",
       "      <td>64</td>\n",
       "      <td>3</td>\n",
       "      <td>340</td>\n",
       "      <td>128</td>\n",
       "      <td>38</td>\n",
       "      <td>13</td>\n",
       "      <td>1</td>\n",
       "      <td>0</td>\n",
       "      <td>0</td>\n",
       "      <td>0</td>\n",
       "    </tr>\n",
       "  </tbody>\n",
       "</table>\n",
       "</div>"
      ],
      "text/plain": [
       "   const  CompPrice  Income  Advertising  Population  Price  Age  Education  \\\n",
       "0    1.0        138      73           11         276    120   42         17   \n",
       "1    1.0        111      48           16         260     83   65         10   \n",
       "2    1.0        113      35           10         269     80   59         12   \n",
       "3    1.0        117     100            4         466     97   55         14   \n",
       "4    1.0        141      64            3         340    128   38         13   \n",
       "\n",
       "   Urban  US  ShelveLoc_Good  ShelveLoc_Medium  \n",
       "0      1   1               0                 0  \n",
       "1      1   1               0                 0  \n",
       "2      1   1               0                 0  \n",
       "3      1   1               0                 0  \n",
       "4      1   0               0                 0  "
      ]
     },
     "execution_count": 32,
     "metadata": {},
     "output_type": "execute_result"
    }
   ],
   "source": [
    "data = load_data('Carseats')\n",
    "cv = skm.ShuffleSplit(n_splits = 1, test_size = 0.3, random_state=0)\n",
    "x = data.drop(columns='Sales')\n",
    "x[\"Urban\"]  = np.where(x[\"Urban\"] == \"Yes\", 1, 0)\n",
    "x[\"US\"]  = np.where(x[\"US\"] == \"Yes\", 1, 0)\n",
    "x = pd.get_dummies(x, drop_first=True)\n",
    "x[\"ShelveLoc_Good\"] = np.where(x[\"ShelveLoc_Good\"] == \"True\", 1, 0)\n",
    "x[\"ShelveLoc_Medium\"] = np.where(x[\"ShelveLoc_Medium\"] == \"True\", 1, 0)\n",
    "y = data['Sales']\n",
    "x = sm.add_constant(x)\n",
    "x.head()"
   ]
  },
  {
   "cell_type": "code",
   "execution_count": 34,
   "id": "e56967d7",
   "metadata": {},
   "outputs": [
    {
     "name": "stdout",
     "output_type": "stream",
     "text": [
      "RSS for depth 1 : 6.193522783011738\n",
      "RSS for depth 2 : 5.97078216899392\n",
      "RSS for depth 3 : 6.1541232235938805\n",
      "RSS for depth 4 : 6.466964057087536\n",
      "RSS for depth 5 : 6.809382007542687\n",
      "RSS for depth 6 : 6.811311018281704\n",
      "RSS for depth 7 : 7.632459660713405\n",
      "RSS for depth 8 : 7.6080910750038315\n",
      "RSS for depth 9 : 8.37708896379846\n",
      "RSS for depth 10 : 8.334771772845556\n"
     ]
    }
   ],
   "source": [
    "train_idx, test_idx = next(cv.split(x))\n",
    "x_train, y_train = x.iloc[train_idx], y.iloc[train_idx]\n",
    "y_test = y.iloc[test_idx]\n",
    "x_test = x.iloc[test_idx]\n",
    "\n",
    "# Fitting\n",
    "max_depth = np.arange(1, 11)\n",
    "\n",
    "for depth in max_depth : \n",
    "    dt = DTR(max_depth=depth)\n",
    "    dt.fit(x_train, y_train)\n",
    "    y_pred = dt.predict(x_test)\n",
    "    rss = np.mean((y_pred - y_test) ** 2)\n",
    "    print(f\"RSS for depth {depth} : {rss}\")\n",
    "\n"
   ]
  },
  {
   "cell_type": "markdown",
   "id": "49ec706d",
   "metadata": {},
   "source": [
    "We will be going with `depth` = 2. Test MSE is around 5.97."
   ]
  },
  {
   "cell_type": "code",
   "execution_count": 56,
   "id": "7a3badf7",
   "metadata": {},
   "outputs": [
    {
     "name": "stdout",
     "output_type": "stream",
     "text": [
      "Best alpha : {'ccp_alpha': 0.38799268596327363}\n",
      "Best RSS : 6.306024924121663\n"
     ]
    }
   ],
   "source": [
    "# Tree Pruning\n",
    "dt = DTR(max_depth=2)\n",
    "pruning = dt.cost_complexity_pruning_path(x_train, y_train)\n",
    "kfold = skm.ShuffleSplit(n_splits=5, test_size=0.2, random_state=0)\n",
    "alpha = pruning.ccp_alphas\n",
    "grid = skm.GridSearchCV(dt, {\"ccp_alpha\": alpha}, cv=kfold, scoring='neg_mean_squared_error')\n",
    "grid.fit(x, y)\n",
    "print(f\"Best alpha : {grid.best_params_}\")\n",
    "print(f\"Best RSS : {-grid.best_score_}\")"
   ]
  },
  {
   "cell_type": "markdown",
   "id": "3cd8011a",
   "metadata": {},
   "source": [
    "Tree pruning doesn't help to improve the RSS, it does definetly worsen it."
   ]
  },
  {
   "cell_type": "code",
   "execution_count": 72,
   "id": "30ad86af",
   "metadata": {},
   "outputs": [
    {
     "name": "stdout",
     "output_type": "stream",
     "text": [
      "RSS for 100 estimators : 4.971652086583333\n",
      "RSS for 200 estimators : 4.896542191854168\n",
      "RSS for 300 estimators : 4.8445321301574085\n",
      "RSS for 400 estimators : 4.873734201114583\n",
      "RSS for 500 estimators : 4.845313934490006\n",
      "RSS for 600 estimators : 4.853444127965285\n",
      "RSS for 700 estimators : 4.90065623661395\n",
      "RSS for 800 estimators : 4.875421623429694\n",
      "RSS for 900 estimators : 4.873433630335399\n"
     ]
    }
   ],
   "source": [
    "# Bagging\n",
    "estimators = np.arange(100, 1000, 100)\n",
    "\n",
    "for estimator in estimators : \n",
    "    bag = RF(n_estimators=estimator, max_features=x.shape[1])\n",
    "    bag.fit(x_train, y_train)\n",
    "    y_pred = bag.predict(x_test)\n",
    "    rss = np.mean((y_pred - y_test) ** 2)\n",
    "    print(f\"RSS for {estimator} estimators : {rss}\")\n",
    "\n",
    "# 300 Estimators seems to be the right one\n",
    "\n"
   ]
  },
  {
   "cell_type": "code",
   "execution_count": 71,
   "id": "d05990cf",
   "metadata": {},
   "outputs": [
    {
     "data": {
      "image/png": "[encoded data removed]",
      "text/plain": [
       "<Figure size 1200x800 with 1 Axes>"
      ]
     },
     "metadata": {},
     "output_type": "display_data"
    }
   ],
   "source": [
    "# Feature Importance\n",
    "bag = RF(n_estimators=300, max_features=x.shape[1])\n",
    "bag.fit(x_train, y_train)\n",
    "importance = bag.feature_importances_\n",
    "importance = pd.Series(importance, index=x.columns)\n",
    "importance = importance.sort_values(ascending=False)\n",
    "plt.figure(figsize=(12, 8))\n",
    "importance.plot(kind='bar')\n",
    "plt.title('Feature Importance from Bagging')\n",
    "plt.xlabel('Features')\n",
    "plt.ylabel('Importance Score')\n",
    "plt.tight_layout()\n",
    "plt.show()"
   ]
  },
  {
   "cell_type": "code",
   "execution_count": 75,
   "id": "4cf440ad",
   "metadata": {},
   "outputs": [
    {
     "name": "stdout",
     "output_type": "stream",
     "text": [
      "RSS for Random Forest : 4.761317981314814\n"
     ]
    },
    {
     "data": {
      "image/png": "[encoded data removed]",
      "text/plain": [
       "<Figure size 1200x800 with 1 Axes>"
      ]
     },
     "metadata": {},
     "output_type": "display_data"
    }
   ],
   "source": [
    "# Random Forest\n",
    "max_feat = int(np.sqrt(x.shape[1]))\n",
    "rf = RF(n_estimators=300, max_features=max_feat)\n",
    "rf.fit(x_train, y_train)\n",
    "y_pred = rf.predict(x_test)\n",
    "rss = np.mean((y_pred - y_test) ** 2)\n",
    "print(f\"RSS for Random Forest : {rss}\")\n",
    "\n",
    "# Feature Importance\n",
    "importance = rf.feature_importances_\n",
    "importance = pd.Series(importance, index=x.columns)\n",
    "importance = importance.sort_values(ascending=False)\n",
    "plt.figure(figsize=(12, 8))\n",
    "importance.plot(kind='bar')\n",
    "plt.title('Feature Importance from Random Forest')\n",
    "plt.xlabel('Features')\n",
    "plt.ylabel('Importance Score')\n",
    "plt.tight_layout()\n",
    "plt.show()"
   ]
  },
  {
   "cell_type": "code",
   "execution_count": 84,
   "id": "d1a08eea",
   "metadata": {},
   "outputs": [
    {
     "name": "stdout",
     "output_type": "stream",
     "text": [
      "RSS for Gradient Boosting : 4.966749337466965\n"
     ]
    },
    {
     "data": {
      "image/png": "[encoded data removed]",
      "text/plain": [
       "<Figure size 1200x800 with 1 Axes>"
      ]
     },
     "metadata": {},
     "output_type": "display_data"
    }
   ],
   "source": [
    "# Gradient Boosting\n",
    "gb = GBR(n_estimators=300, learning_rate=0.03, max_depth=max_feat, random_state=0)\n",
    "gb.fit(x_train, y_train)\n",
    "y_pred = gb.predict(x_test)\n",
    "rss = np.mean((y_pred - y_test) ** 2)\n",
    "print(f\"RSS for Gradient Boosting : {rss}\")\n",
    "\n",
    "# Feature Importance\n",
    "importance = gb.feature_importances_\n",
    "importance = pd.Series(importance, index=x.columns)\n",
    "importance = importance.sort_values(ascending=False)\n",
    "plt.figure(figsize=(12, 8))\n",
    "importance.plot(kind='bar')\n",
    "plt.title('Feature Importance from Gradient Boosting')\n",
    "plt.xlabel('Features')\n",
    "plt.ylabel('Importance Score')\n",
    "plt.tight_layout()\n",
    "plt.show()\n"
   ]
  },
  {
   "cell_type": "code",
   "execution_count": 91,
   "id": "17977174",
   "metadata": {},
   "outputs": [
    {
     "name": "stdout",
     "output_type": "stream",
     "text": [
      "RSS for BART : 4.085473266888379\n"
     ]
    },
    {
     "data": {
      "image/png": "[encoded data removed]",
      "text/plain": [
       "<Figure size 1200x800 with 1 Axes>"
      ]
     },
     "metadata": {},
     "output_type": "display_data"
    }
   ],
   "source": [
    "# BART\n",
    "bart = BART(burnin=5, ndraw=15, random_state=0)\n",
    "bart.fit(x_train, y_train)\n",
    "y_pred = bart.predict(x_test)\n",
    "rss = np.mean((y_pred - y_test) ** 2)\n",
    "print(f\"RSS for BART : {rss}\")\n",
    "\n",
    "# Feature Importance\n",
    "importance = bart.variable_inclusion_.mean(0)\n",
    "var = pd.Series(importance, index=x.columns).sort_values(ascending=False)\n",
    "plt.figure(figsize=(12, 8))\n",
    "var.plot(kind='bar')\n",
    "plt.title('Feature Importance from BART')\n",
    "plt.xlabel('Features')\n",
    "plt.ylabel('Importance Score')\n",
    "plt.tight_layout()\n",
    "plt.show()"
   ]
  },
  {
   "cell_type": "markdown",
   "id": "6c308eb4",
   "metadata": {},
   "source": [
    "Some how BART performs better than Random Forest, Gradient Boosting and Other methods. Need to learn how does it do it and what is happening in the hood because for an ensemble method it is very powerful then."
   ]
  }
 ],
 "metadata": {
  "kernelspec": {
   "display_name": "datasci-env",
   "language": "python",
   "name": "python3"
  },
  "language_info": {
   "codemirror_mode": {
    "name": "ipython",
    "version": 3
   },
   "file_extension": ".py",
   "mimetype": "text/x-python",
   "name": "python",
   "nbconvert_exporter": "python",
   "pygments_lexer": "ipython3",
   "version": "3.12.8"
  }
 },
 "nbformat": 4,
 "nbformat_minor": 5
}
