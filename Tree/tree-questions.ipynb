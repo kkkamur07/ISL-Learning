{
 "cells": [
  {
   "cell_type": "markdown",
   "id": "a8df57d2",
   "metadata": {},
   "source": [
    "#### Tree Questions"
   ]
  },
  {
   "cell_type": "code",
   "execution_count": 1,
   "id": "685ec504",
   "metadata": {},
   "outputs": [],
   "source": [
    "import numpy as np\n",
    "import pandas as pd\n",
    "import matplotlib.pyplot as plt\n",
    "from statsmodels.datasets import get_rdataset\n",
    "import statsmodels.api as sm\n",
    "import sklearn.model_selection as skm\n",
    "from ISLP import load_data, confusion_table\n",
    "from ISLP.models import ModelSpec as MS\n",
    "from sklearn.tree import (DecisionTreeClassifier as DTC, \n",
    "                          DecisionTreeRegressor as DTR, \n",
    "                          plot_tree, \n",
    "                          export_text)\n",
    "from sklearn.ensemble import (RandomForestClassifier as RFC,GradientBoostingRegressor as GBR, RandomForestRegressor as RF)\n",
    "from sklearn.metrics import (accuracy_score, \n",
    "                             log_loss)\n",
    "from ISLP.bart import BART\n",
    "from mpl_toolkits.mplot3d import Axes3D\n"
   ]
  },
  {
   "cell_type": "markdown",
   "id": "29c4e8ab",
   "metadata": {},
   "source": [
    "#### Question 1\n",
    "- Random Forest on `maxFeatures` & `n_estimators`"
   ]
  },
  {
   "cell_type": "code",
   "execution_count": null,
   "id": "86fc66cf",
   "metadata": {},
   "outputs": [
    {
     "name": "stdout",
     "output_type": "stream",
     "text": [
      "Testing Done for 1 features and 100 estimators\n",
      "Testing Done for 1 features and 200 estimators\n",
      "Testing Done for 1 features and 300 estimators\n",
      "Testing Done for 1 features and 400 estimators\n",
      "Testing Done for 1 features and 500 estimators\n",
      "Testing Done for 1 features and 600 estimators\n",
      "Testing Done for 1 features and 700 estimators\n",
      "Testing Done for 1 features and 800 estimators\n",
      "Testing Done for 1 features and 900 estimators\n",
      "Testing Done for 1 features and 1000 estimators\n",
      "Testing Done for 1 features and 1100 estimators\n",
      "Testing Done for 1 features and 1200 estimators\n",
      "Testing Done for 1 features and 1300 estimators\n",
      "Testing Done for 1 features and 1400 estimators\n",
      "Testing Done for 2 features and 100 estimators\n",
      "Testing Done for 2 features and 200 estimators\n",
      "Testing Done for 2 features and 300 estimators\n",
      "Testing Done for 2 features and 400 estimators\n",
      "Testing Done for 2 features and 500 estimators\n",
      "Testing Done for 2 features and 600 estimators\n",
      "Testing Done for 2 features and 700 estimators\n",
      "Testing Done for 2 features and 800 estimators\n",
      "Testing Done for 2 features and 900 estimators\n",
      "Testing Done for 2 features and 1000 estimators\n",
      "Testing Done for 2 features and 1100 estimators\n",
      "Testing Done for 2 features and 1200 estimators\n",
      "Testing Done for 2 features and 1300 estimators\n",
      "Testing Done for 2 features and 1400 estimators\n",
      "Testing Done for 3 features and 100 estimators\n",
      "Testing Done for 3 features and 200 estimators\n",
      "Testing Done for 3 features and 300 estimators\n",
      "Testing Done for 3 features and 400 estimators\n",
      "Testing Done for 3 features and 500 estimators\n",
      "Testing Done for 3 features and 600 estimators\n",
      "Testing Done for 3 features and 700 estimators\n",
      "Testing Done for 3 features and 800 estimators\n",
      "Testing Done for 3 features and 900 estimators\n",
      "Testing Done for 3 features and 1000 estimators\n",
      "Testing Done for 3 features and 1100 estimators\n",
      "Testing Done for 3 features and 1200 estimators\n",
      "Testing Done for 3 features and 1300 estimators\n",
      "Testing Done for 3 features and 1400 estimators\n",
      "Testing Done for 4 features and 100 estimators\n",
      "Testing Done for 4 features and 200 estimators\n",
      "Testing Done for 4 features and 300 estimators\n",
      "Testing Done for 4 features and 400 estimators\n",
      "Testing Done for 4 features and 500 estimators\n",
      "Testing Done for 4 features and 600 estimators\n",
      "Testing Done for 4 features and 700 estimators\n",
      "Testing Done for 4 features and 800 estimators\n",
      "Testing Done for 4 features and 900 estimators\n",
      "Testing Done for 4 features and 1000 estimators\n",
      "Testing Done for 4 features and 1100 estimators\n",
      "Testing Done for 4 features and 1200 estimators\n",
      "Testing Done for 4 features and 1300 estimators\n",
      "Testing Done for 4 features and 1400 estimators\n",
      "Testing Done for 5 features and 100 estimators\n",
      "Testing Done for 5 features and 200 estimators\n",
      "Testing Done for 5 features and 300 estimators\n",
      "Testing Done for 5 features and 400 estimators\n",
      "Testing Done for 5 features and 500 estimators\n",
      "Testing Done for 5 features and 600 estimators\n",
      "Testing Done for 5 features and 700 estimators\n",
      "Testing Done for 5 features and 800 estimators\n",
      "Testing Done for 5 features and 900 estimators\n",
      "Testing Done for 5 features and 1000 estimators\n",
      "Testing Done for 5 features and 1100 estimators\n",
      "Testing Done for 5 features and 1200 estimators\n",
      "Testing Done for 5 features and 1300 estimators\n",
      "Testing Done for 5 features and 1400 estimators\n",
      "Testing Done for 6 features and 100 estimators\n",
      "Testing Done for 6 features and 200 estimators\n",
      "Testing Done for 6 features and 300 estimators\n",
      "Testing Done for 6 features and 400 estimators\n",
      "Testing Done for 6 features and 500 estimators\n",
      "Testing Done for 6 features and 600 estimators\n",
      "Testing Done for 6 features and 700 estimators\n",
      "Testing Done for 6 features and 800 estimators\n",
      "Testing Done for 6 features and 900 estimators\n",
      "Testing Done for 6 features and 1000 estimators\n",
      "Testing Done for 6 features and 1100 estimators\n",
      "Testing Done for 6 features and 1200 estimators\n",
      "Testing Done for 6 features and 1300 estimators\n",
      "Testing Done for 6 features and 1400 estimators\n",
      "Testing Done for 7 features and 100 estimators\n",
      "Testing Done for 7 features and 200 estimators\n",
      "Testing Done for 7 features and 300 estimators\n",
      "Testing Done for 7 features and 400 estimators\n",
      "Testing Done for 7 features and 500 estimators\n",
      "Testing Done for 7 features and 600 estimators\n",
      "Testing Done for 7 features and 700 estimators\n",
      "Testing Done for 7 features and 800 estimators\n",
      "Testing Done for 7 features and 900 estimators\n",
      "Testing Done for 7 features and 1000 estimators\n",
      "Testing Done for 7 features and 1100 estimators\n",
      "Testing Done for 7 features and 1200 estimators\n",
      "Testing Done for 7 features and 1300 estimators\n",
      "Testing Done for 7 features and 1400 estimators\n",
      "Testing Done for 8 features and 100 estimators\n",
      "Testing Done for 8 features and 200 estimators\n",
      "Testing Done for 8 features and 300 estimators\n",
      "Testing Done for 8 features and 400 estimators\n",
      "Testing Done for 8 features and 500 estimators\n",
      "Testing Done for 8 features and 600 estimators\n",
      "Testing Done for 8 features and 700 estimators\n",
      "Testing Done for 8 features and 800 estimators\n",
      "Testing Done for 8 features and 900 estimators\n",
      "Testing Done for 8 features and 1000 estimators\n",
      "Testing Done for 8 features and 1100 estimators\n"
     ]
    }
   ],
   "source": [
    "data = load_data('Boston')\n",
    "x = data.drop(columns='medv')\n",
    "y = data['medv']\n",
    "x = sm.add_constant(x)\n",
    "\n",
    "cv = skm.ShuffleSplit(n_splits = 5, test_size = 0.2, random_state=0)\n",
    "\n",
    "# Range of values\n",
    "max_features = np.arange(1, x.shape[1] + 1)\n",
    "estimators = np.arange(100,1500, 100)\n",
    "rss_vals = np.zeros((len(max_features), len(estimators)))\n",
    "\n",
    "for features in max_features : \n",
    "    for estimator in estimators : \n",
    "        for train_idx, test_idx in cv.split(x) : \n",
    "            x_train, y_train = x.iloc[train_idx], y.iloc[train_idx]\n",
    "            x_test, y_test = x.iloc[test_idx], y.iloc[test_idx]\n",
    "            \n",
    "            # Fitting\n",
    "            rf = RF(n_estimators=estimator, max_features=features)\n",
    "            rf.fit(x_train, y_train)\n",
    "            y_pred = rf.predict(x_test)\n",
    "            rss_vals[features-1, estimator//100 - 1] += ((y_pred - y_test) ** 2).sum()\n",
    "\n",
    "        rss_vals[features-1, estimator//100 - 1] /= cv.get_n_splits()\n",
    "        print(f\"Testing Done for {features} features and {estimator} estimators\")"
   ]
  },
  {
   "cell_type": "code",
   "execution_count": null,
   "id": "d35caae7",
   "metadata": {},
   "outputs": [
    {
     "data": {
      "application/vnd.plotly.v1+json": {
       "config": {
        "displaylogo": false,
        "modeBarButtonsToAdd": [
         "downloadhtml"
        ],
        "plotlyServerURL": "https://plot.ly",
        "toImageButtonOptions": {
         "filename": "rss_3d_plot",
         "format": "png"
        }
       },
       "data": [
        {
         "hovertemplate": "Estimators: %{x}<br>Features: %{y}<br>RSS: %{z}<extra></extra>",
         "type": "surface",
         "x": [
          [
           100,
           200,
           300,
           400,
           500,
           600,
           700,
           800,
           900,
           1000,
           1100,
           1200,
           1300,
           1400
          ],
          [
           100,
           200,
           300,
           400,
           500,
           600,
           700,
           800,
           900,
           1000,
           1100,
           1200,
           1300,
           1400
          ],
          [
           100,
           200,
           300,
           400,
           500,
           600,
           700,
           800,
           900,
           1000,
           1100,
           1200,
           1300,
           1400
          ],
          [
           100,
           200,
           300,
           400,
           500,
           600,
           700,
           800,
           900,
           1000,
           1100,
           1200,
           1300,
           1400
          ],
          [
           100,
           200,
           300,
           400,
           500,
           600,
           700,
           800,
           900,
           1000,
           1100,
           1200,
           1300,
           1400
          ],
          [
           100,
           200,
           300,
           400,
           500,
           600,
           700,
           800,
           900,
           1000,
           1100,
           1200,
           1300,
           1400
          ],
          [
           100,
           200,
           300,
           400,
           500,
           600,
           700,
           800,
           900,
           1000,
           1100,
           1200,
           1300,
           1400
          ],
          [
           100,
           200,
           300,
           400,
           500,
           600,
           700,
           800,
           900,
           1000,
           1100,
           1200,
           1300,
           1400
          ],
          [
           100,
           200,
           300,
           400,
           500,
           600,
           700,
           800,
           900,
           1000,
           1100,
           1200,
           1300,
           1400
          ],
          [
           100,
           200,
           300,
           400,
           500,
           600,
           700,
           800,
           900,
           1000,
           1100,
           1200,
           1300,
           1400
          ],
          [
           100,
           200,
           300,
           400,
           500,
           600,
           700,
           800,
           900,
           1000,
           1100,
           1200,
           1300,
           1400
          ],
          [
           100,
           200,
           300,
           400,
           500,
           600,
           700,
           800,
           900,
           1000,
           1100,
           1200,
           1300,
           1400
          ],
          [
           100,
           200,
           300,
           400,
           500,
           600,
           700,
           800,
           900,
           1000,
           1100,
           1200,
           1300,
           1400
          ]
         ],
         "y": [
          [
           1,
           1,
           1,
           1,
           1,
           1,
           1,
           1,
           1,
           1,
           1,
           1,
           1,
           1
          ],
          [
           2,
           2,
           2,
           2,
           2,
           2,
           2,
           2,
           2,
           2,
           2,
           2,
           2,
           2
          ],
          [
           3,
           3,
           3,
           3,
           3,
           3,
           3,
           3,
           3,
           3,
           3,
           3,
           3,
           3
          ],
          [
           4,
           4,
           4,
           4,
           4,
           4,
           4,
           4,
           4,
           4,
           4,
           4,
           4,
           4
          ],
          [
           5,
           5,
           5,
           5,
           5,
           5,
           5,
           5,
           5,
           5,
           5,
           5,
           5,
           5
          ],
          [
           6,
           6,
           6,
           6,
           6,
           6,
           6,
           6,
           6,
           6,
           6,
           6,
           6,
           6
          ],
          [
           7,
           7,
           7,
           7,
           7,
           7,
           7,
           7,
           7,
           7,
           7,
           7,
           7,
           7
          ],
          [
           8,
           8,
           8,
           8,
           8,
           8,
           8,
           8,
           8,
           8,
           8,
           8,
           8,
           8
          ],
          [
           9,
           9,
           9,
           9,
           9,
           9,
           9,
           9,
           9,
           9,
           9,
           9,
           9,
           9
          ],
          [
           10,
           10,
           10,
           10,
           10,
           10,
           10,
           10,
           10,
           10,
           10,
           10,
           10,
           10
          ],
          [
           11,
           11,
           11,
           11,
           11,
           11,
           11,
           11,
           11,
           11,
           11,
           11,
           11,
           11
          ],
          [
           12,
           12,
           12,
           12,
           12,
           12,
           12,
           12,
           12,
           12,
           12,
           12,
           12,
           12
          ],
          [
           13,
           13,
           13,
           13,
           13,
           13,
           13,
           13,
           13,
           13,
           13,
           13,
           13,
           13
          ]
         ],
         "z": [
          [
           2310.501514199999,
           2250.0558406722184,
           2162.3758813634067,
           7554.666449578122,
           0,
           0,
           0,
           0,
           0,
           0,
           0,
           0,
           0,
           0
          ],
          [
           0,
           0,
           0,
           0,
           0,
           0,
           0,
           0,
           0,
           0,
           0,
           0,
           0,
           0
          ],
          [
           0,
           0,
           0,
           0,
           0,
           0,
           0,
           0,
           0,
           0,
           0,
           0,
           0,
           0
          ],
          [
           0,
           0,
           0,
           0,
           0,
           0,
           0,
           0,
           0,
           0,
           0,
           0,
           0,
           0
          ],
          [
           0,
           0,
           0,
           0,
           0,
           0,
           0,
           0,
           0,
           0,
           0,
           0,
           0,
           0
          ],
          [
           0,
           0,
           0,
           0,
           0,
           0,
           0,
           0,
           0,
           0,
           0,
           0,
           0,
           0
          ],
          [
           0,
           0,
           0,
           0,
           0,
           0,
           0,
           0,
           0,
           0,
           0,
           0,
           0,
           0
          ],
          [
           0,
           0,
           0,
           0,
           0,
           0,
           0,
           0,
           0,
           0,
           0,
           0,
           0,
           0
          ],
          [
           0,
           0,
           0,
           0,
           0,
           0,
           0,
           0,
           0,
           0,
           0,
           0,
           0,
           0
          ],
          [
           0,
           0,
           0,
           0,
           0,
           0,
           0,
           0,
           0,
           0,
           0,
           0,
           0,
           0
          ],
          [
           0,
           0,
           0,
           0,
           0,
           0,
           0,
           0,
           0,
           0,
           0,
           0,
           0,
           0
          ],
          [
           0,
           0,
           0,
           0,
           0,
           0,
           0,
           0,
           0,
           0,
           0,
           0,
           0,
           0
          ],
          [
           0,
           0,
           0,
           0,
           0,
           0,
           0,
           0,
           0,
           0,
           0,
           0,
           0,
           0
          ]
         ]
        }
       ],
       "layout": {
        "height": 800,
        "scene": {
         "xaxis": {
          "title": {
           "text": "Number of Estimators"
          }
         },
         "yaxis": {
          "title": {
           "text": "Number of Features"
          }
         },
         "zaxis": {
          "title": {
           "text": "RSS Value"
          }
         }
        },
        "template": {
         "data": {
          "bar": [
           {
            "error_x": {
             "color": "#2a3f5f"
            },
            "error_y": {
             "color": "#2a3f5f"
            },
            "marker": {
             "line": {
              "color": "#E5ECF6",
              "width": 0.5
             },
             "pattern": {
              "fillmode": "overlay",
              "size": 10,
              "solidity": 0.2
             }
            },
            "type": "bar"
           }
          ],
          "barpolar": [
           {
            "marker": {
             "line": {
              "color": "#E5ECF6",
              "width": 0.5
             },
             "pattern": {
              "fillmode": "overlay",
              "size": 10,
              "solidity": 0.2
             }
            },
            "type": "barpolar"
           }
          ],
          "carpet": [
           {
            "aaxis": {
             "endlinecolor": "#2a3f5f",
             "gridcolor": "white",
             "linecolor": "white",
             "minorgridcolor": "white",
             "startlinecolor": "#2a3f5f"
            },
            "baxis": {
             "endlinecolor": "#2a3f5f",
             "gridcolor": "white",
             "linecolor": "white",
             "minorgridcolor": "white",
             "startlinecolor": "#2a3f5f"
            },
            "type": "carpet"
           }
          ],
          "choropleth": [
           {
            "colorbar": {
             "outlinewidth": 0,
             "ticks": ""
            },
            "type": "choropleth"
           }
          ],
          "contour": [
           {
            "colorbar": {
             "outlinewidth": 0,
             "ticks": ""
            },
            "colorscale": [
             [
              0,
              "#0d0887"
             ],
             [
              0.1111111111111111,
              "#46039f"
             ],
             [
              0.2222222222222222,
              "#7201a8"
             ],
             [
              0.3333333333333333,
              "#9c179e"
             ],
             [
              0.4444444444444444,
              "#bd3786"
             ],
             [
              0.5555555555555556,
              "#d8576b"
             ],
             [
              0.6666666666666666,
              "#ed7953"
             ],
             [
              0.7777777777777778,
              "#fb9f3a"
             ],
             [
              0.8888888888888888,
              "#fdca26"
             ],
             [
              1,
              "#f0f921"
             ]
            ],
            "type": "contour"
           }
          ],
          "contourcarpet": [
           {
            "colorbar": {
             "outlinewidth": 0,
             "ticks": ""
            },
            "type": "contourcarpet"
           }
          ],
          "heatmap": [
           {
            "colorbar": {
             "outlinewidth": 0,
             "ticks": ""
            },
            "colorscale": [
             [
              0,
              "#0d0887"
             ],
             [
              0.1111111111111111,
              "#46039f"
             ],
             [
              0.2222222222222222,
              "#7201a8"
             ],
             [
              0.3333333333333333,
              "#9c179e"
             ],
             [
              0.4444444444444444,
              "#bd3786"
             ],
             [
              0.5555555555555556,
              "#d8576b"
             ],
             [
              0.6666666666666666,
              "#ed7953"
             ],
             [
              0.7777777777777778,
              "#fb9f3a"
             ],
             [
              0.8888888888888888,
              "#fdca26"
             ],
             [
              1,
              "#f0f921"
             ]
            ],
            "type": "heatmap"
           }
          ],
          "heatmapgl": [
           {
            "colorbar": {
             "outlinewidth": 0,
             "ticks": ""
            },
            "colorscale": [
             [
              0,
              "#0d0887"
             ],
             [
              0.1111111111111111,
              "#46039f"
             ],
             [
              0.2222222222222222,
              "#7201a8"
             ],
             [
              0.3333333333333333,
              "#9c179e"
             ],
             [
              0.4444444444444444,
              "#bd3786"
             ],
             [
              0.5555555555555556,
              "#d8576b"
             ],
             [
              0.6666666666666666,
              "#ed7953"
             ],
             [
              0.7777777777777778,
              "#fb9f3a"
             ],
             [
              0.8888888888888888,
              "#fdca26"
             ],
             [
              1,
              "#f0f921"
             ]
            ],
            "type": "heatmapgl"
           }
          ],
          "histogram": [
           {
            "marker": {
             "pattern": {
              "fillmode": "overlay",
              "size": 10,
              "solidity": 0.2
             }
            },
            "type": "histogram"
           }
          ],
          "histogram2d": [
           {
            "colorbar": {
             "outlinewidth": 0,
             "ticks": ""
            },
            "colorscale": [
             [
              0,
              "#0d0887"
             ],
             [
              0.1111111111111111,
              "#46039f"
             ],
             [
              0.2222222222222222,
              "#7201a8"
             ],
             [
              0.3333333333333333,
              "#9c179e"
             ],
             [
              0.4444444444444444,
              "#bd3786"
             ],
             [
              0.5555555555555556,
              "#d8576b"
             ],
             [
              0.6666666666666666,
              "#ed7953"
             ],
             [
              0.7777777777777778,
              "#fb9f3a"
             ],
             [
              0.8888888888888888,
              "#fdca26"
             ],
             [
              1,
              "#f0f921"
             ]
            ],
            "type": "histogram2d"
           }
          ],
          "histogram2dcontour": [
           {
            "colorbar": {
             "outlinewidth": 0,
             "ticks": ""
            },
            "colorscale": [
             [
              0,
              "#0d0887"
             ],
             [
              0.1111111111111111,
              "#46039f"
             ],
             [
              0.2222222222222222,
              "#7201a8"
             ],
             [
              0.3333333333333333,
              "#9c179e"
             ],
             [
              0.4444444444444444,
              "#bd3786"
             ],
             [
              0.5555555555555556,
              "#d8576b"
             ],
             [
              0.6666666666666666,
              "#ed7953"
             ],
             [
              0.7777777777777778,
              "#fb9f3a"
             ],
             [
              0.8888888888888888,
              "#fdca26"
             ],
             [
              1,
              "#f0f921"
             ]
            ],
            "type": "histogram2dcontour"
           }
          ],
          "mesh3d": [
           {
            "colorbar": {
             "outlinewidth": 0,
             "ticks": ""
            },
            "type": "mesh3d"
           }
          ],
          "parcoords": [
           {
            "line": {
             "colorbar": {
              "outlinewidth": 0,
              "ticks": ""
             }
            },
            "type": "parcoords"
           }
          ],
          "pie": [
           {
            "automargin": true,
            "type": "pie"
           }
          ],
          "scatter": [
           {
            "fillpattern": {
             "fillmode": "overlay",
             "size": 10,
             "solidity": 0.2
            },
            "type": "scatter"
           }
          ],
          "scatter3d": [
           {
            "line": {
             "colorbar": {
              "outlinewidth": 0,
              "ticks": ""
             }
            },
            "marker": {
             "colorbar": {
              "outlinewidth": 0,
              "ticks": ""
             }
            },
            "type": "scatter3d"
           }
          ],
          "scattercarpet": [
           {
            "marker": {
             "colorbar": {
              "outlinewidth": 0,
              "ticks": ""
             }
            },
            "type": "scattercarpet"
           }
          ],
          "scattergeo": [
           {
            "marker": {
             "colorbar": {
              "outlinewidth": 0,
              "ticks": ""
             }
            },
            "type": "scattergeo"
           }
          ],
          "scattergl": [
           {
            "marker": {
             "colorbar": {
              "outlinewidth": 0,
              "ticks": ""
             }
            },
            "type": "scattergl"
           }
          ],
          "scattermapbox": [
           {
            "marker": {
             "colorbar": {
              "outlinewidth": 0,
              "ticks": ""
             }
            },
            "type": "scattermapbox"
           }
          ],
          "scatterpolar": [
           {
            "marker": {
             "colorbar": {
              "outlinewidth": 0,
              "ticks": ""
             }
            },
            "type": "scatterpolar"
           }
          ],
          "scatterpolargl": [
           {
            "marker": {
             "colorbar": {
              "outlinewidth": 0,
              "ticks": ""
             }
            },
            "type": "scatterpolargl"
           }
          ],
          "scatterternary": [
           {
            "marker": {
             "colorbar": {
              "outlinewidth": 0,
              "ticks": ""
             }
            },
            "type": "scatterternary"
           }
          ],
          "surface": [
           {
            "colorbar": {
             "outlinewidth": 0,
             "ticks": ""
            },
            "colorscale": [
             [
              0,
              "#0d0887"
             ],
             [
              0.1111111111111111,
              "#46039f"
             ],
             [
              0.2222222222222222,
              "#7201a8"
             ],
             [
              0.3333333333333333,
              "#9c179e"
             ],
             [
              0.4444444444444444,
              "#bd3786"
             ],
             [
              0.5555555555555556,
              "#d8576b"
             ],
             [
              0.6666666666666666,
              "#ed7953"
             ],
             [
              0.7777777777777778,
              "#fb9f3a"
             ],
             [
              0.8888888888888888,
              "#fdca26"
             ],
             [
              1,
              "#f0f921"
             ]
            ],
            "type": "surface"
           }
          ],
          "table": [
           {
            "cells": {
             "fill": {
              "color": "#EBF0F8"
             },
             "line": {
              "color": "white"
             }
            },
            "header": {
             "fill": {
              "color": "#C8D4E3"
             },
             "line": {
              "color": "white"
             }
            },
            "type": "table"
           }
          ]
         },
         "layout": {
          "annotationdefaults": {
           "arrowcolor": "#2a3f5f",
           "arrowhead": 0,
           "arrowwidth": 1
          },
          "autotypenumbers": "strict",
          "coloraxis": {
           "colorbar": {
            "outlinewidth": 0,
            "ticks": ""
           }
          },
          "colorscale": {
           "diverging": [
            [
             0,
             "#8e0152"
            ],
            [
             0.1,
             "#c51b7d"
            ],
            [
             0.2,
             "#de77ae"
            ],
            [
             0.3,
             "#f1b6da"
            ],
            [
             0.4,
             "#fde0ef"
            ],
            [
             0.5,
             "#f7f7f7"
            ],
            [
             0.6,
             "#e6f5d0"
            ],
            [
             0.7,
             "#b8e186"
            ],
            [
             0.8,
             "#7fbc41"
            ],
            [
             0.9,
             "#4d9221"
            ],
            [
             1,
             "#276419"
            ]
           ],
           "sequential": [
            [
             0,
             "#0d0887"
            ],
            [
             0.1111111111111111,
             "#46039f"
            ],
            [
             0.2222222222222222,
             "#7201a8"
            ],
            [
             0.3333333333333333,
             "#9c179e"
            ],
            [
             0.4444444444444444,
             "#bd3786"
            ],
            [
             0.5555555555555556,
             "#d8576b"
            ],
            [
             0.6666666666666666,
             "#ed7953"
            ],
            [
             0.7777777777777778,
             "#fb9f3a"
            ],
            [
             0.8888888888888888,
             "#fdca26"
            ],
            [
             1,
             "#f0f921"
            ]
           ],
           "sequentialminus": [
            [
             0,
             "#0d0887"
            ],
            [
             0.1111111111111111,
             "#46039f"
            ],
            [
             0.2222222222222222,
             "#7201a8"
            ],
            [
             0.3333333333333333,
             "#9c179e"
            ],
            [
             0.4444444444444444,
             "#bd3786"
            ],
            [
             0.5555555555555556,
             "#d8576b"
            ],
            [
             0.6666666666666666,
             "#ed7953"
            ],
            [
             0.7777777777777778,
             "#fb9f3a"
            ],
            [
             0.8888888888888888,
             "#fdca26"
            ],
            [
             1,
             "#f0f921"
            ]
           ]
          },
          "colorway": [
           "#636efa",
           "#EF553B",
           "#00cc96",
           "#ab63fa",
           "#FFA15A",
           "#19d3f3",
           "#FF6692",
           "#B6E880",
           "#FF97FF",
           "#FECB52"
          ],
          "font": {
           "color": "#2a3f5f"
          },
          "geo": {
           "bgcolor": "white",
           "lakecolor": "white",
           "landcolor": "#E5ECF6",
           "showlakes": true,
           "showland": true,
           "subunitcolor": "white"
          },
          "hoverlabel": {
           "align": "left"
          },
          "hovermode": "closest",
          "mapbox": {
           "style": "light"
          },
          "paper_bgcolor": "white",
          "plot_bgcolor": "#E5ECF6",
          "polar": {
           "angularaxis": {
            "gridcolor": "white",
            "linecolor": "white",
            "ticks": ""
           },
           "bgcolor": "#E5ECF6",
           "radialaxis": {
            "gridcolor": "white",
            "linecolor": "white",
            "ticks": ""
           }
          },
          "scene": {
           "xaxis": {
            "backgroundcolor": "#E5ECF6",
            "gridcolor": "white",
            "gridwidth": 2,
            "linecolor": "white",
            "showbackground": true,
            "ticks": "",
            "zerolinecolor": "white"
           },
           "yaxis": {
            "backgroundcolor": "#E5ECF6",
            "gridcolor": "white",
            "gridwidth": 2,
            "linecolor": "white",
            "showbackground": true,
            "ticks": "",
            "zerolinecolor": "white"
           },
           "zaxis": {
            "backgroundcolor": "#E5ECF6",
            "gridcolor": "white",
            "gridwidth": 2,
            "linecolor": "white",
            "showbackground": true,
            "ticks": "",
            "zerolinecolor": "white"
           }
          },
          "shapedefaults": {
           "line": {
            "color": "#2a3f5f"
           }
          },
          "ternary": {
           "aaxis": {
            "gridcolor": "white",
            "linecolor": "white",
            "ticks": ""
           },
           "baxis": {
            "gridcolor": "white",
            "linecolor": "white",
            "ticks": ""
           },
           "bgcolor": "#E5ECF6",
           "caxis": {
            "gridcolor": "white",
            "linecolor": "white",
            "ticks": ""
           }
          },
          "title": {
           "x": 0.05
          },
          "xaxis": {
           "automargin": true,
           "gridcolor": "white",
           "linecolor": "white",
           "ticks": "",
           "title": {
            "standoff": 15
           },
           "zerolinecolor": "white",
           "zerolinewidth": 2
          },
          "yaxis": {
           "automargin": true,
           "gridcolor": "white",
           "linecolor": "white",
           "ticks": "",
           "title": {
            "standoff": 15
           },
           "zerolinecolor": "white",
           "zerolinewidth": 2
          }
         }
        },
        "title": {
         "text": "Interactive 3D Visualization of RSS Values"
        },
        "width": 1000
       }
      }
     },
     "metadata": {},
     "output_type": "display_data"
    }
   ],
   "source": [
    "import plotly.graph_objects as go\n",
    "\n",
    "# Create meshgrid for 3D surface\n",
    "X, Y = np.meshgrid(estimators, max_features)\n",
    "\n",
    "# Create interactive 3D surface plot\n",
    "fig = go.Figure(data=[go.Surface(x=X, y=Y, z=rss_vals)])\n",
    "\n",
    "# Update layout\n",
    "fig.update_layout(\n",
    "    title='Interactive 3D Visualization of RSS Values',\n",
    "    scene=dict(\n",
    "        xaxis_title='Number of Estimators',\n",
    "        yaxis_title='Number of Features',\n",
    "        zaxis_title='RSS Value'\n",
    "    ),\n",
    "    width=1000,\n",
    "    height=800\n",
    ")\n",
    "\n",
    "# Add hover template\n",
    "fig.update_traces(hovertemplate='Estimators: %{x}<br>Features: %{y}<br>RSS: %{z}<extra></extra>')\n",
    "\n",
    "# Add download buttons\n",
    "fig.show(config={'toImageButtonOptions': {'format': 'png', 'filename': 'rss_3d_plot'},\n",
    "                'displaylogo': False,\n",
    "                'modeBarButtonsToAdd':['downloadhtml']})"
   ]
  },
  {
   "cell_type": "markdown",
   "id": "d0c5a54f",
   "metadata": {},
   "source": [
    "#### Question 2\n",
    "- Carseats dataset and use `Sales` as quantitative response variable"
   ]
  },
  {
   "cell_type": "code",
   "execution_count": null,
   "id": "feb3579a",
   "metadata": {},
   "outputs": [
    {
     "data": {
      "application/vnd.microsoft.datawrangler.viewer.v0+json": {
       "columns": [
        {
         "name": "index",
         "rawType": "int64",
         "type": "integer"
        },
        {
         "name": "const",
         "rawType": "float64",
         "type": "float"
        },
        {
         "name": "CompPrice",
         "rawType": "int64",
         "type": "integer"
        },
        {
         "name": "Income",
         "rawType": "int64",
         "type": "integer"
        },
        {
         "name": "Advertising",
         "rawType": "int64",
         "type": "integer"
        },
        {
         "name": "Population",
         "rawType": "int64",
         "type": "integer"
        },
        {
         "name": "Price",
         "rawType": "int64",
         "type": "integer"
        },
        {
         "name": "Age",
         "rawType": "int64",
         "type": "integer"
        },
        {
         "name": "Education",
         "rawType": "int64",
         "type": "integer"
        },
        {
         "name": "Urban",
         "rawType": "int64",
         "type": "integer"
        },
        {
         "name": "US",
         "rawType": "int64",
         "type": "integer"
        },
        {
         "name": "ShelveLoc_Good",
         "rawType": "int64",
         "type": "integer"
        },
        {
         "name": "ShelveLoc_Medium",
         "rawType": "int64",
         "type": "integer"
        }
       ],
       "conversionMethod": "pd.DataFrame",
       "ref": "3af88ffc-9cc9-4233-a97b-00c825cbe3f2",
       "rows": [
        [
         "0",
         "1.0",
         "138",
         "73",
         "11",
         "276",
         "120",
         "42",
         "17",
         "1",
         "1",
         "0",
         "0"
        ],
        [
         "1",
         "1.0",
         "111",
         "48",
         "16",
         "260",
         "83",
         "65",
         "10",
         "1",
         "1",
         "0",
         "0"
        ],
        [
         "2",
         "1.0",
         "113",
         "35",
         "10",
         "269",
         "80",
         "59",
         "12",
         "1",
         "1",
         "0",
         "0"
        ],
        [
         "3",
         "1.0",
         "117",
         "100",
         "4",
         "466",
         "97",
         "55",
         "14",
         "1",
         "1",
         "0",
         "0"
        ],
        [
         "4",
         "1.0",
         "141",
         "64",
         "3",
         "340",
         "128",
         "38",
         "13",
         "1",
         "0",
         "0",
         "0"
        ]
       ],
       "shape": {
        "columns": 12,
        "rows": 5
       }
      },
      "text/html": [
       "<div>\n",
       "<style scoped>\n",
       "    .dataframe tbody tr th:only-of-type {\n",
       "        vertical-align: middle;\n",
       "    }\n",
       "\n",
       "    .dataframe tbody tr th {\n",
       "        vertical-align: top;\n",
       "    }\n",
       "\n",
       "    .dataframe thead th {\n",
       "        text-align: right;\n",
       "    }\n",
       "</style>\n",
       "<table border=\"1\" class=\"dataframe\">\n",
       "  <thead>\n",
       "    <tr style=\"text-align: right;\">\n",
       "      <th></th>\n",
       "      <th>const</th>\n",
       "      <th>CompPrice</th>\n",
       "      <th>Income</th>\n",
       "      <th>Advertising</th>\n",
       "      <th>Population</th>\n",
       "      <th>Price</th>\n",
       "      <th>Age</th>\n",
       "      <th>Education</th>\n",
       "      <th>Urban</th>\n",
       "      <th>US</th>\n",
       "      <th>ShelveLoc_Good</th>\n",
       "      <th>ShelveLoc_Medium</th>\n",
       "    </tr>\n",
       "  </thead>\n",
       "  <tbody>\n",
       "    <tr>\n",
       "      <th>0</th>\n",
       "      <td>1.0</td>\n",
       "      <td>138</td>\n",
       "      <td>73</td>\n",
       "      <td>11</td>\n",
       "      <td>276</td>\n",
       "      <td>120</td>\n",
       "      <td>42</td>\n",
       "      <td>17</td>\n",
       "      <td>1</td>\n",
       "      <td>1</td>\n",
       "      <td>0</td>\n",
       "      <td>0</td>\n",
       "    </tr>\n",
       "    <tr>\n",
       "      <th>1</th>\n",
       "      <td>1.0</td>\n",
       "      <td>111</td>\n",
       "      <td>48</td>\n",
       "      <td>16</td>\n",
       "      <td>260</td>\n",
       "      <td>83</td>\n",
       "      <td>65</td>\n",
       "      <td>10</td>\n",
       "      <td>1</td>\n",
       "      <td>1</td>\n",
       "      <td>0</td>\n",
       "      <td>0</td>\n",
       "    </tr>\n",
       "    <tr>\n",
       "      <th>2</th>\n",
       "      <td>1.0</td>\n",
       "      <td>113</td>\n",
       "      <td>35</td>\n",
       "      <td>10</td>\n",
       "      <td>269</td>\n",
       "      <td>80</td>\n",
       "      <td>59</td>\n",
       "      <td>12</td>\n",
       "      <td>1</td>\n",
       "      <td>1</td>\n",
       "      <td>0</td>\n",
       "      <td>0</td>\n",
       "    </tr>\n",
       "    <tr>\n",
       "      <th>3</th>\n",
       "      <td>1.0</td>\n",
       "      <td>117</td>\n",
       "      <td>100</td>\n",
       "      <td>4</td>\n",
       "      <td>466</td>\n",
       "      <td>97</td>\n",
       "      <td>55</td>\n",
       "      <td>14</td>\n",
       "      <td>1</td>\n",
       "      <td>1</td>\n",
       "      <td>0</td>\n",
       "      <td>0</td>\n",
       "    </tr>\n",
       "    <tr>\n",
       "      <th>4</th>\n",
       "      <td>1.0</td>\n",
       "      <td>141</td>\n",
       "      <td>64</td>\n",
       "      <td>3</td>\n",
       "      <td>340</td>\n",
       "      <td>128</td>\n",
       "      <td>38</td>\n",
       "      <td>13</td>\n",
       "      <td>1</td>\n",
       "      <td>0</td>\n",
       "      <td>0</td>\n",
       "      <td>0</td>\n",
       "    </tr>\n",
       "  </tbody>\n",
       "</table>\n",
       "</div>"
      ],
      "text/plain": [
       "   const  CompPrice  Income  Advertising  Population  Price  Age  Education  \\\n",
       "0    1.0        138      73           11         276    120   42         17   \n",
       "1    1.0        111      48           16         260     83   65         10   \n",
       "2    1.0        113      35           10         269     80   59         12   \n",
       "3    1.0        117     100            4         466     97   55         14   \n",
       "4    1.0        141      64            3         340    128   38         13   \n",
       "\n",
       "   Urban  US  ShelveLoc_Good  ShelveLoc_Medium  \n",
       "0      1   1               0                 0  \n",
       "1      1   1               0                 0  \n",
       "2      1   1               0                 0  \n",
       "3      1   1               0                 0  \n",
       "4      1   0               0                 0  "
      ]
     },
     "execution_count": 5,
     "metadata": {},
     "output_type": "execute_result"
    }
   ],
   "source": [
    "data = load_data('Carseats')\n",
    "cv = skm.ShuffleSplit(n_splits = 1, test_size = 0.3, random_state=0)\n",
    "x = data.drop(columns='Sales')\n",
    "x[\"Urban\"]  = np.where(x[\"Urban\"] == \"Yes\", 1, 0)\n",
    "x[\"US\"]  = np.where(x[\"US\"] == \"Yes\", 1, 0)\n",
    "x = pd.get_dummies(x, drop_first=True)\n",
    "x[\"ShelveLoc_Good\"] = np.where(x[\"ShelveLoc_Good\"] == \"True\", 1, 0)\n",
    "x[\"ShelveLoc_Medium\"] = np.where(x[\"ShelveLoc_Medium\"] == \"True\", 1, 0)\n",
    "y = data['Sales']\n",
    "x = sm.add_constant(x)\n",
    "x.head()"
   ]
  },
  {
   "cell_type": "code",
   "execution_count": null,
   "id": "e56967d7",
   "metadata": {},
   "outputs": [
    {
     "name": "stdout",
     "output_type": "stream",
     "text": [
      "RSS for depth 1 : 6.193522783011738\n",
      "RSS for depth 2 : 5.97078216899392\n",
      "RSS for depth 3 : 6.1541232235938805\n",
      "RSS for depth 4 : 6.466964057087536\n",
      "RSS for depth 5 : 6.809382007542687\n",
      "RSS for depth 6 : 6.811311018281704\n",
      "RSS for depth 7 : 7.632459660713405\n",
      "RSS for depth 8 : 7.6080910750038315\n",
      "RSS for depth 9 : 8.37708896379846\n",
      "RSS for depth 10 : 8.334771772845556\n"
     ]
    }
   ],
   "source": [
    "train_idx, test_idx = next(cv.split(x))\n",
    "x_train, y_train = x.iloc[train_idx], y.iloc[train_idx]\n",
    "y_test = y.iloc[test_idx]\n",
    "x_test = x.iloc[test_idx]\n",
    "\n",
    "# Fitting\n",
    "max_depth = np.arange(1, 11)\n",
    "\n",
    "for depth in max_depth : \n",
    "    dt = DTR(max_depth=depth)\n",
    "    dt.fit(x_train, y_train)\n",
    "    y_pred = dt.predict(x_test)\n",
    "    rss = np.mean((y_pred - y_test) ** 2)\n",
    "    print(f\"RSS for depth {depth} : {rss}\")\n",
    "\n"
   ]
  },
  {
   "cell_type": "markdown",
   "id": "49ec706d",
   "metadata": {},
   "source": [
    "We will be going with `depth` = 2. Test MSE is around 5.97."
   ]
  },
  {
   "cell_type": "code",
   "execution_count": null,
   "id": "7a3badf7",
   "metadata": {},
   "outputs": [
    {
     "name": "stdout",
     "output_type": "stream",
     "text": [
      "Best alpha : {'ccp_alpha': 0.38799268596327363}\n",
      "Best RSS : 6.306024924121663\n"
     ]
    }
   ],
   "source": [
    "# Tree Pruning\n",
    "dt = DTR(max_depth=2)\n",
    "pruning = dt.cost_complexity_pruning_path(x_train, y_train)\n",
    "kfold = skm.ShuffleSplit(n_splits=5, test_size=0.2, random_state=0)\n",
    "alpha = pruning.ccp_alphas\n",
    "grid = skm.GridSearchCV(dt, {\"ccp_alpha\": alpha}, cv=kfold, scoring='neg_mean_squared_error')\n",
    "grid.fit(x, y)\n",
    "print(f\"Best alpha : {grid.best_params_}\")\n",
    "print(f\"Best RSS : {-grid.best_score_}\")"
   ]
  },
  {
   "cell_type": "markdown",
   "id": "3cd8011a",
   "metadata": {},
   "source": [
    "Tree pruning doesn't help to improve the RSS, it does definetly worsen it."
   ]
  },
  {
   "cell_type": "code",
   "execution_count": null,
   "id": "30ad86af",
   "metadata": {},
   "outputs": [
    {
     "name": "stdout",
     "output_type": "stream",
     "text": [
      "RSS for 100 estimators : 4.971652086583333\n",
      "RSS for 200 estimators : 4.896542191854168\n",
      "RSS for 300 estimators : 4.8445321301574085\n",
      "RSS for 400 estimators : 4.873734201114583\n",
      "RSS for 500 estimators : 4.845313934490006\n",
      "RSS for 600 estimators : 4.853444127965285\n",
      "RSS for 700 estimators : 4.90065623661395\n",
      "RSS for 800 estimators : 4.875421623429694\n",
      "RSS for 900 estimators : 4.873433630335399\n"
     ]
    }
   ],
   "source": [
    "# Bagging\n",
    "estimators = np.arange(100, 1000, 100)\n",
    "\n",
    "for estimator in estimators : \n",
    "    bag = RF(n_estimators=estimator, max_features=x.shape[1])\n",
    "    bag.fit(x_train, y_train)\n",
    "    y_pred = bag.predict(x_test)\n",
    "    rss = np.mean((y_pred - y_test) ** 2)\n",
    "    print(f\"RSS for {estimator} estimators : {rss}\")\n",
    "\n",
    "# 300 Estimators seems to be the right one\n",
    "\n"
   ]
  },
  {
   "cell_type": "code",
   "execution_count": null,
   "id": "d05990cf",
   "metadata": {},
   "outputs": [
    {
     "data": {
      "image/png": "[encoded data removed]",
      "text/plain": [
       "<Figure size 1200x800 with 1 Axes>"
      ]
     },
     "metadata": {},
     "output_type": "display_data"
    }
   ],
   "source": [
    "# Feature Importance\n",
    "bag = RF(n_estimators=300, max_features=x.shape[1])\n",
    "bag.fit(x_train, y_train)\n",
    "importance = bag.feature_importances_\n",
    "importance = pd.Series(importance, index=x.columns)\n",
    "importance = importance.sort_values(ascending=False)\n",
    "plt.figure(figsize=(12, 8))\n",
    "importance.plot(kind='bar')\n",
    "plt.title('Feature Importance from Bagging')\n",
    "plt.xlabel('Features')\n",
    "plt.ylabel('Importance Score')\n",
    "plt.tight_layout()\n",
    "plt.show()"
   ]
  },
  {
   "cell_type": "code",
   "execution_count": null,
   "id": "4cf440ad",
   "metadata": {},
   "outputs": [
    {
     "name": "stdout",
     "output_type": "stream",
     "text": [
      "RSS for Random Forest : 4.761317981314814\n"
     ]
    },
    {
     "data": {
      "image/png": "[encoded data removed]",
      "text/plain": [
       "<Figure size 1200x800 with 1 Axes>"
      ]
     },
     "metadata": {},
     "output_type": "display_data"
    }
   ],
   "source": [
    "# Random Forest\n",
    "max_feat = int(np.sqrt(x.shape[1]))\n",
    "rf = RF(n_estimators=300, max_features=max_feat)\n",
    "rf.fit(x_train, y_train)\n",
    "y_pred = rf.predict(x_test)\n",
    "rss = np.mean((y_pred - y_test) ** 2)\n",
    "print(f\"RSS for Random Forest : {rss}\")\n",
    "\n",
    "# Feature Importance\n",
    "importance = rf.feature_importances_\n",
    "importance = pd.Series(importance, index=x.columns)\n",
    "importance = importance.sort_values(ascending=False)\n",
    "plt.figure(figsize=(12, 8))\n",
    "importance.plot(kind='bar')\n",
    "plt.title('Feature Importance from Random Forest')\n",
    "plt.xlabel('Features')\n",
    "plt.ylabel('Importance Score')\n",
    "plt.tight_layout()\n",
    "plt.show()"
   ]
  },
  {
   "cell_type": "code",
   "execution_count": null,
   "id": "d1a08eea",
   "metadata": {},
   "outputs": [
    {
     "name": "stdout",
     "output_type": "stream",
     "text": [
      "RSS for Gradient Boosting : 4.966749337466965\n"
     ]
    },
    {
     "data": {
      "image/png": "[encoded data removed]",
      "text/plain": [
       "<Figure size 1200x800 with 1 Axes>"
      ]
     },
     "metadata": {},
     "output_type": "display_data"
    }
   ],
   "source": [
    "# Gradient Boosting\n",
    "gb = GBR(n_estimators=300, learning_rate=0.03, max_depth=max_feat, random_state=0)\n",
    "gb.fit(x_train, y_train)\n",
    "y_pred = gb.predict(x_test)\n",
    "rss = np.mean((y_pred - y_test) ** 2)\n",
    "print(f\"RSS for Gradient Boosting : {rss}\")\n",
    "\n",
    "# Feature Importance\n",
    "importance = gb.feature_importances_\n",
    "importance = pd.Series(importance, index=x.columns)\n",
    "importance = importance.sort_values(ascending=False)\n",
    "plt.figure(figsize=(12, 8))\n",
    "importance.plot(kind='bar')\n",
    "plt.title('Feature Importance from Gradient Boosting')\n",
    "plt.xlabel('Features')\n",
    "plt.ylabel('Importance Score')\n",
    "plt.tight_layout()\n",
    "plt.show()\n"
   ]
  },
  {
   "cell_type": "code",
   "execution_count": null,
   "id": "17977174",
   "metadata": {},
   "outputs": [
    {
     "name": "stdout",
     "output_type": "stream",
     "text": [
      "RSS for BART : 4.085473266888379\n"
     ]
    },
    {
     "data": {
      "image/png": "[encoded data removed]",
      "text/plain": [
       "<Figure size 1200x800 with 1 Axes>"
      ]
     },
     "metadata": {},
     "output_type": "display_data"
    }
   ],
   "source": [
    "# BART\n",
    "bart = BART(burnin=5, ndraw=15, random_state=0)\n",
    "bart.fit(x_train, y_train)\n",
    "y_pred = bart.predict(x_test)\n",
    "rss = np.mean((y_pred - y_test) ** 2)\n",
    "print(f\"RSS for BART : {rss}\")\n",
    "\n",
    "# Feature Importance\n",
    "importance = bart.variable_inclusion_.mean(0)\n",
    "var = pd.Series(importance, index=x.columns).sort_values(ascending=False)\n",
    "plt.figure(figsize=(12, 8))\n",
    "var.plot(kind='bar')\n",
    "plt.title('Feature Importance from BART')\n",
    "plt.xlabel('Features')\n",
    "plt.ylabel('Importance Score')\n",
    "plt.tight_layout()\n",
    "plt.show()"
   ]
  },
  {
   "cell_type": "markdown",
   "id": "6c308eb4",
   "metadata": {},
   "source": [
    "Some how BART performs better than Random Forest, Gradient Boosting and Other methods. Need to learn how does it do it and what is happening in the hood because for an ensemble method it is very powerful then."
   ]
  },
  {
   "cell_type": "code",
   "execution_count": null,
   "id": "fa1058fe",
   "metadata": {},
   "outputs": [
    {
     "data": {
      "application/vnd.microsoft.datawrangler.viewer.v0+json": {
       "columns": [
        {
         "name": "index",
         "rawType": "int64",
         "type": "integer"
        },
        {
         "name": "Purchase",
         "rawType": "category",
         "type": "unknown"
        },
        {
         "name": "WeekofPurchase",
         "rawType": "int64",
         "type": "integer"
        },
        {
         "name": "StoreID",
         "rawType": "int64",
         "type": "integer"
        },
        {
         "name": "PriceCH",
         "rawType": "float64",
         "type": "float"
        },
        {
         "name": "PriceMM",
         "rawType": "float64",
         "type": "float"
        },
        {
         "name": "DiscCH",
         "rawType": "float64",
         "type": "float"
        },
        {
         "name": "DiscMM",
         "rawType": "float64",
         "type": "float"
        },
        {
         "name": "SpecialCH",
         "rawType": "int64",
         "type": "integer"
        },
        {
         "name": "SpecialMM",
         "rawType": "int64",
         "type": "integer"
        },
        {
         "name": "LoyalCH",
         "rawType": "float64",
         "type": "float"
        },
        {
         "name": "SalePriceMM",
         "rawType": "float64",
         "type": "float"
        },
        {
         "name": "SalePriceCH",
         "rawType": "float64",
         "type": "float"
        },
        {
         "name": "PriceDiff",
         "rawType": "float64",
         "type": "float"
        },
        {
         "name": "Store7",
         "rawType": "category",
         "type": "unknown"
        },
        {
         "name": "PctDiscMM",
         "rawType": "float64",
         "type": "float"
        },
        {
         "name": "PctDiscCH",
         "rawType": "float64",
         "type": "float"
        },
        {
         "name": "ListPriceDiff",
         "rawType": "float64",
         "type": "float"
        },
        {
         "name": "STORE",
         "rawType": "int64",
         "type": "integer"
        }
       ],
       "conversionMethod": "pd.DataFrame",
       "ref": "f1e06e17-0c2b-4e41-af56-98f34e6f69f3",
       "rows": [
        [
         "0",
         "CH",
         "237",
         "1",
         "1.75",
         "1.99",
         "0.0",
         "0.0",
         "0",
         "0",
         "0.5",
         "1.99",
         "1.75",
         "0.24",
         "No",
         "0.0",
         "0.0",
         "0.24",
         "1"
        ],
        [
         "1",
         "CH",
         "239",
         "1",
         "1.75",
         "1.99",
         "0.0",
         "0.3",
         "0",
         "1",
         "0.6",
         "1.69",
         "1.75",
         "-0.06",
         "No",
         "0.150754",
         "0.0",
         "0.24",
         "1"
        ],
        [
         "2",
         "CH",
         "245",
         "1",
         "1.86",
         "2.09",
         "0.17",
         "0.0",
         "0",
         "0",
         "0.68",
         "2.09",
         "1.69",
         "0.4",
         "No",
         "0.0",
         "0.091398",
         "0.23",
         "1"
        ],
        [
         "3",
         "MM",
         "227",
         "1",
         "1.69",
         "1.69",
         "0.0",
         "0.0",
         "0",
         "0",
         "0.4",
         "1.69",
         "1.69",
         "0.0",
         "No",
         "0.0",
         "0.0",
         "0.0",
         "1"
        ],
        [
         "4",
         "CH",
         "228",
         "7",
         "1.69",
         "1.69",
         "0.0",
         "0.0",
         "0",
         "0",
         "0.956535",
         "1.69",
         "1.69",
         "0.0",
         "Yes",
         "0.0",
         "0.0",
         "0.0",
         "0"
        ]
       ],
       "shape": {
        "columns": 18,
        "rows": 5
       }
      },
      "text/html": [
       "<div>\n",
       "<style scoped>\n",
       "    .dataframe tbody tr th:only-of-type {\n",
       "        vertical-align: middle;\n",
       "    }\n",
       "\n",
       "    .dataframe tbody tr th {\n",
       "        vertical-align: top;\n",
       "    }\n",
       "\n",
       "    .dataframe thead th {\n",
       "        text-align: right;\n",
       "    }\n",
       "</style>\n",
       "<table border=\"1\" class=\"dataframe\">\n",
       "  <thead>\n",
       "    <tr style=\"text-align: right;\">\n",
       "      <th></th>\n",
       "      <th>Purchase</th>\n",
       "      <th>WeekofPurchase</th>\n",
       "      <th>StoreID</th>\n",
       "      <th>PriceCH</th>\n",
       "      <th>PriceMM</th>\n",
       "      <th>DiscCH</th>\n",
       "      <th>DiscMM</th>\n",
       "      <th>SpecialCH</th>\n",
       "      <th>SpecialMM</th>\n",
       "      <th>LoyalCH</th>\n",
       "      <th>SalePriceMM</th>\n",
       "      <th>SalePriceCH</th>\n",
       "      <th>PriceDiff</th>\n",
       "      <th>Store7</th>\n",
       "      <th>PctDiscMM</th>\n",
       "      <th>PctDiscCH</th>\n",
       "      <th>ListPriceDiff</th>\n",
       "      <th>STORE</th>\n",
       "    </tr>\n",
       "  </thead>\n",
       "  <tbody>\n",
       "    <tr>\n",
       "      <th>0</th>\n",
       "      <td>CH</td>\n",
       "      <td>237</td>\n",
       "      <td>1</td>\n",
       "      <td>1.75</td>\n",
       "      <td>1.99</td>\n",
       "      <td>0.00</td>\n",
       "      <td>0.0</td>\n",
       "      <td>0</td>\n",
       "      <td>0</td>\n",
       "      <td>0.500000</td>\n",
       "      <td>1.99</td>\n",
       "      <td>1.75</td>\n",
       "      <td>0.24</td>\n",
       "      <td>No</td>\n",
       "      <td>0.000000</td>\n",
       "      <td>0.000000</td>\n",
       "      <td>0.24</td>\n",
       "      <td>1</td>\n",
       "    </tr>\n",
       "    <tr>\n",
       "      <th>1</th>\n",
       "      <td>CH</td>\n",
       "      <td>239</td>\n",
       "      <td>1</td>\n",
       "      <td>1.75</td>\n",
       "      <td>1.99</td>\n",
       "      <td>0.00</td>\n",
       "      <td>0.3</td>\n",
       "      <td>0</td>\n",
       "      <td>1</td>\n",
       "      <td>0.600000</td>\n",
       "      <td>1.69</td>\n",
       "      <td>1.75</td>\n",
       "      <td>-0.06</td>\n",
       "      <td>No</td>\n",
       "      <td>0.150754</td>\n",
       "      <td>0.000000</td>\n",
       "      <td>0.24</td>\n",
       "      <td>1</td>\n",
       "    </tr>\n",
       "    <tr>\n",
       "      <th>2</th>\n",
       "      <td>CH</td>\n",
       "      <td>245</td>\n",
       "      <td>1</td>\n",
       "      <td>1.86</td>\n",
       "      <td>2.09</td>\n",
       "      <td>0.17</td>\n",
       "      <td>0.0</td>\n",
       "      <td>0</td>\n",
       "      <td>0</td>\n",
       "      <td>0.680000</td>\n",
       "      <td>2.09</td>\n",
       "      <td>1.69</td>\n",
       "      <td>0.40</td>\n",
       "      <td>No</td>\n",
       "      <td>0.000000</td>\n",
       "      <td>0.091398</td>\n",
       "      <td>0.23</td>\n",
       "      <td>1</td>\n",
       "    </tr>\n",
       "    <tr>\n",
       "      <th>3</th>\n",
       "      <td>MM</td>\n",
       "      <td>227</td>\n",
       "      <td>1</td>\n",
       "      <td>1.69</td>\n",
       "      <td>1.69</td>\n",
       "      <td>0.00</td>\n",
       "      <td>0.0</td>\n",
       "      <td>0</td>\n",
       "      <td>0</td>\n",
       "      <td>0.400000</td>\n",
       "      <td>1.69</td>\n",
       "      <td>1.69</td>\n",
       "      <td>0.00</td>\n",
       "      <td>No</td>\n",
       "      <td>0.000000</td>\n",
       "      <td>0.000000</td>\n",
       "      <td>0.00</td>\n",
       "      <td>1</td>\n",
       "    </tr>\n",
       "    <tr>\n",
       "      <th>4</th>\n",
       "      <td>CH</td>\n",
       "      <td>228</td>\n",
       "      <td>7</td>\n",
       "      <td>1.69</td>\n",
       "      <td>1.69</td>\n",
       "      <td>0.00</td>\n",
       "      <td>0.0</td>\n",
       "      <td>0</td>\n",
       "      <td>0</td>\n",
       "      <td>0.956535</td>\n",
       "      <td>1.69</td>\n",
       "      <td>1.69</td>\n",
       "      <td>0.00</td>\n",
       "      <td>Yes</td>\n",
       "      <td>0.000000</td>\n",
       "      <td>0.000000</td>\n",
       "      <td>0.00</td>\n",
       "      <td>0</td>\n",
       "    </tr>\n",
       "  </tbody>\n",
       "</table>\n",
       "</div>"
      ],
      "text/plain": [
       "  Purchase  WeekofPurchase  StoreID  PriceCH  PriceMM  DiscCH  DiscMM  \\\n",
       "0       CH             237        1     1.75     1.99    0.00     0.0   \n",
       "1       CH             239        1     1.75     1.99    0.00     0.3   \n",
       "2       CH             245        1     1.86     2.09    0.17     0.0   \n",
       "3       MM             227        1     1.69     1.69    0.00     0.0   \n",
       "4       CH             228        7     1.69     1.69    0.00     0.0   \n",
       "\n",
       "   SpecialCH  SpecialMM   LoyalCH  SalePriceMM  SalePriceCH  PriceDiff Store7  \\\n",
       "0          0          0  0.500000         1.99         1.75       0.24     No   \n",
       "1          0          1  0.600000         1.69         1.75      -0.06     No   \n",
       "2          0          0  0.680000         2.09         1.69       0.40     No   \n",
       "3          0          0  0.400000         1.69         1.69       0.00     No   \n",
       "4          0          0  0.956535         1.69         1.69       0.00    Yes   \n",
       "\n",
       "   PctDiscMM  PctDiscCH  ListPriceDiff  STORE  \n",
       "0   0.000000   0.000000           0.24      1  \n",
       "1   0.150754   0.000000           0.24      1  \n",
       "2   0.000000   0.091398           0.23      1  \n",
       "3   0.000000   0.000000           0.00      1  \n",
       "4   0.000000   0.000000           0.00      0  "
      ]
     },
     "execution_count": 9,
     "metadata": {},
     "output_type": "execute_result"
    }
   ],
   "source": [
    "data = load_data('OJ')\n",
    "data.head()\n",
    "\n"
   ]
  },
  {
   "cell_type": "code",
   "execution_count": null,
   "id": "040e3c3d",
   "metadata": {},
   "outputs": [],
   "source": [
    "cv = skm.ShuffleSplit(n_splits = 1, test_size = 278, random_state=0)\n",
    "x = data.drop(columns='Purchase')\n",
    "x[\"Store7\"]  = np.where(x[\"Store7\"] == \"Yes\", 1, 0)\n",
    "y = data['Purchase']\n",
    "y = np.where(y == \"CH\", 1, 0)\n",
    "\n",
    "train_idx, test_idx = next(cv.split(x))\n",
    "x_train, y_train = x.iloc[train_idx], y[train_idx]\n",
    "y_test = y[test_idx]\n",
    "x_test = x.iloc[test_idx]\n"
   ]
  },
  {
   "cell_type": "code",
   "execution_count": null,
   "id": "cec7b0fd",
   "metadata": {},
   "outputs": [
    {
     "name": "stdout",
     "output_type": "stream",
     "text": [
      "Accuracy for depth 2 : 0.7913669064748201\n",
      "\n",
      "\n",
      "Accuracy for depth 3 : 0.8129496402877698\n",
      "\n",
      "\n",
      "Accuracy for depth 4 : 0.7733812949640287\n",
      "\n",
      "\n",
      "Accuracy for depth 5 : 0.7661870503597122\n",
      "\n",
      "\n",
      "Accuracy for depth 6 : 0.7841726618705036\n",
      "\n",
      "\n",
      "Accuracy : 0.8129496402877698\n",
      "Log Loss : 6.741978331777309\n"
     ]
    }
   ],
   "source": [
    "depth = np.arange(2,7)\n",
    "\n",
    "for d in depth : \n",
    "    dt = DTC(max_depth=d, criterion=\"entropy\")\n",
    "    dt.fit(x_train, y_train)\n",
    "    y_pred = dt.predict(x_test)\n",
    "    acc = accuracy_score(y_test, y_pred)\n",
    "    print(f\"Accuracy for depth {d} : {acc}\")\n",
    "    \n",
    "    print(\"\\n\")\n",
    "\n",
    "# Seems like depth 3 is the best one.\n",
    "\n",
    "dt = DTC(max_depth=3)\n",
    "dt.fit(x_train, y_train)\n",
    "y_pred = dt.predict(x_test)\n",
    "confusion = confusion_table(y_test, y_pred)\n",
    "print(f\"Accuracy : {accuracy_score(y_test, y_pred)}\")\n",
    "print(f\"Log Loss : {log_loss(y_test, y_pred)}\")\n"
   ]
  },
  {
   "cell_type": "code",
   "execution_count": null,
   "id": "a8f4046c",
   "metadata": {},
   "outputs": [
    {
     "data": {
      "image/png": "[encoded data removed]",
      "text/plain": [
       "<Figure size 1200x800 with 1 Axes>"
      ]
     },
     "metadata": {},
     "output_type": "display_data"
    }
   ],
   "source": [
    "fig, ax = plt.subplots(figsize=(12, 8))\n",
    "plot_tree(dt, feature_names=x.columns, class_names=[\"CH\", \"MM\"], filled=True, ax=ax)\n",
    "plt.title('Decision Tree Visualization')\n",
    "plt.show()"
   ]
  },
  {
   "cell_type": "code",
   "execution_count": null,
   "id": "cd621e50",
   "metadata": {},
   "outputs": [
    {
     "name": "stdout",
     "output_type": "stream",
     "text": [
      "|--- LoyalCH <= 0.51\n",
      "|   |--- LoyalCH <= 0.28\n",
      "|   |   |--- LoyalCH <= 0.06\n",
      "|   |   |   |--- class: CH\n",
      "|   |   |--- LoyalCH >  0.06\n",
      "|   |   |   |--- class: CH\n",
      "|   |--- LoyalCH >  0.28\n",
      "|   |   |--- PriceDiff <= 0.05\n",
      "|   |   |   |--- class: CH\n",
      "|   |   |--- PriceDiff >  0.05\n",
      "|   |   |   |--- class: MM\n",
      "|--- LoyalCH >  0.51\n",
      "|   |--- LoyalCH <= 0.71\n",
      "|   |   |--- PriceDiff <= 0.27\n",
      "|   |   |   |--- class: MM\n",
      "|   |   |--- PriceDiff >  0.27\n",
      "|   |   |   |--- class: MM\n",
      "|   |--- LoyalCH >  0.71\n",
      "|   |   |--- PriceDiff <= -0.39\n",
      "|   |   |   |--- class: MM\n",
      "|   |   |--- PriceDiff >  -0.39\n",
      "|   |   |   |--- class: MM\n",
      "\n"
     ]
    },
    {
     "data": {
      "text/plain": [
       "8"
      ]
     },
     "execution_count": 49,
     "metadata": {},
     "output_type": "execute_result"
    }
   ],
   "source": [
    "print(export_text(dt, feature_names=list(x.columns), class_names = [\"CH\", \"MM\"]))\n",
    "dt.tree_.n_leaves"
   ]
  },
  {
   "cell_type": "markdown",
   "id": "d1553fda",
   "metadata": {},
   "source": [
    "The tree is very short and doesn't have much leaves, focus on only 2 parameters accurately identified.  Something like loyalCH and PriceDiff which totally makes sense."
   ]
  },
  {
   "cell_type": "code",
   "execution_count": null,
   "id": "290c4c64",
   "metadata": {},
   "outputs": [
    {
     "name": "stdout",
     "output_type": "stream",
     "text": [
      "Best alpha : {'ccp_alpha': 0.01206214336701894}\n",
      "Best accuracy : 0.8373831775700935\n",
      "Best depth : 3\n",
      "Best number of leaves : 4\n",
      "Best number of nodes : 7\n",
      "Best number of features : 17\n",
      "Best number of classes : 2\n",
      "|--- LoyalCH <= 0.48\n",
      "|   |--- class: CH\n",
      "|--- LoyalCH >  0.48\n",
      "|   |--- LoyalCH <= 0.71\n",
      "|   |   |--- PriceDiff <= 0.01\n",
      "|   |   |   |--- class: CH\n",
      "|   |   |--- PriceDiff >  0.01\n",
      "|   |   |   |--- class: MM\n",
      "|   |--- LoyalCH >  0.71\n",
      "|   |   |--- class: MM\n",
      "\n"
     ]
    }
   ],
   "source": [
    "ccp = dt.cost_complexity_pruning_path(x,y)\n",
    "alpha = ccp.ccp_alphas\n",
    "cv = skm.ShuffleSplit(n_splits=5, test_size=0.2, random_state=0)\n",
    "gridcv = skm.GridSearchCV(dt, {\"ccp_alpha\": alpha}, cv=cv, scoring='accuracy')\n",
    "gridcv.fit(x, y)\n",
    "\n",
    "print(f\"Best alpha : {gridcv.best_params_}\")\n",
    "print(f\"Best accuracy : {gridcv.best_score_}\")\n",
    "print(f\"Best depth : {gridcv.best_estimator_.tree_.max_depth}\")\n",
    "print(f\"Best number of leaves : {gridcv.best_estimator_.tree_.n_leaves}\")\n",
    "print(f\"Best number of nodes : {gridcv.best_estimator_.tree_.node_count}\")\n",
    "print(f\"Best number of features : {gridcv.best_estimator_.n_features_in_}\")\n",
    "print(f\"Best number of classes : {gridcv.best_estimator_.n_classes_}\")\n",
    "print(export_text(gridcv.best_estimator_, feature_names=list(x.columns), class_names = [\"CH\", \"MM\"]))"
   ]
  },
  {
   "cell_type": "markdown",
   "id": "e7d1484c",
   "metadata": {},
   "source": [
    "Not going to say but pruning helped a lot while improving the accuracy. Cut down the leaves from 8 to 4 while getting a better accuracy on KFold."
   ]
  },
  {
   "cell_type": "markdown",
   "id": "e5dc39af",
   "metadata": {},
   "source": [
    "#### Question 4\n",
    "- Boosting to predict Salary in Hitters DataSet"
   ]
  },
  {
   "cell_type": "code",
   "execution_count": 2,
   "id": "fc03d90c",
   "metadata": {},
   "outputs": [
    {
     "data": {
      "text/plain": [
       "(263, 20)"
      ]
     },
     "execution_count": 2,
     "metadata": {},
     "output_type": "execute_result"
    }
   ],
   "source": [
    "data = load_data('Hitters')\n",
    "data = data.dropna()\n",
    "\n",
    "data.shape"
   ]
  },
  {
   "cell_type": "code",
   "execution_count": 3,
   "id": "37444c34",
   "metadata": {},
   "outputs": [],
   "source": [
    "data.head()\n",
    "design = MS(data.columns.drop('Salary'))\n",
    "x = design.fit_transform(data)\n",
    "y = data['Salary']\n",
    "\n",
    "cv = skm.ShuffleSplit(n_splits = 1, test_size = 0.25, random_state=0)\n",
    "\n",
    "train_idx, test_idx = next(cv.split(x))\n",
    "x_train, y_train = x.iloc[train_idx], y.iloc[train_idx]\n",
    "y_test = y.iloc[test_idx]\n",
    "x_test = x.iloc[test_idx]\n"
   ]
  },
  {
   "cell_type": "code",
   "execution_count": 7,
   "id": "c884c255",
   "metadata": {},
   "outputs": [],
   "source": [
    "# Log Transformation\n",
    "y_train, y_test = np.log(y_train), np.log(y_test)\n",
    "\n",
    "learning_rate = np.linspace(0.001,0.04)\n",
    "train_mse = np.zeros(learning_rate.shape[0])\n",
    "\n",
    "for i, lr in enumerate(learning_rate) :\n",
    "    gb = GBR(n_estimators=1000, learning_rate=lr, random_state=0)\n",
    "    gb.fit(x_train, y_train)\n",
    "    y_pred = gb.predict(x_test)\n",
    "    train_mse[i] = np.mean((y_pred - y_test) ** 2)"
   ]
  },
  {
   "cell_type": "code",
   "execution_count": 11,
   "id": "0a7d5d27",
   "metadata": {},
   "outputs": [
    {
     "data": {
      "image/png": "[encoded data removed]",
      "text/plain": [
       "<Figure size 1200x800 with 1 Axes>"
      ]
     },
     "metadata": {},
     "output_type": "display_data"
    }
   ],
   "source": [
    "# Plotting\n",
    "plt.figure(figsize=(12, 8))\n",
    "plt.plot(learning_rate, train_mse)\n",
    "plt.title('Learning Rate vs MSE')\n",
    "plt.xlabel('Learning Rate')\n",
    "plt.ylabel('MSE')\n",
    "plt.grid()\n",
    "plt.show()"
   ]
  },
  {
   "cell_type": "code",
   "execution_count": 13,
   "id": "9801222d",
   "metadata": {},
   "outputs": [
    {
     "name": "stdout",
     "output_type": "stream",
     "text": [
      "Best RSS : 0.0012034490774963738\n"
     ]
    }
   ],
   "source": [
    "best_GBR = GBR(n_estimators=1000, learning_rate=0.00816326530612245, random_state=0)\n",
    "best_GBR.fit(x_train, y_train)\n",
    "y_pred = best_GBR.predict(x_test)\n",
    "rss = np.mean((y_pred - y_test) ** 2)\n",
    "print(f\"Best RSS : {rss}\")"
   ]
  },
  {
   "cell_type": "code",
   "execution_count": null,
   "id": "48fc5769",
   "metadata": {},
   "outputs": [
    {
     "name": "stdout",
     "output_type": "stream",
     "text": [
      "Linear RSS : 0.004500896507054046\n",
      "Ridge RSS : 0.004470351848092633\n"
     ]
    },
    {
     "name": "stderr",
     "output_type": "stream",
     "text": [
      "/Users/krishuagarwal/Desktop/Programming/python/dataScience/datasci-env/lib/python3.12/site-packages/sklearn/linear_model/_coordinate_descent.py:697: ConvergenceWarning: Objective did not converge. You might want to increase the number of iterations, check the scale of the features or consider increasing regularisation. Duality gap: 3.525e-01, tolerance: 1.512e-04 Linear regression models with null weight for the l1 regularization term are more efficiently fitted using one of the solvers implemented in sklearn.linear_model.Ridge/RidgeCV instead.\n",
      "  model = cd_fast.enet_coordinate_descent(\n"
     ]
    }
   ],
   "source": [
    "# Comparision\n",
    "linear = sm.OLS(y_train, x_train).fit()\n",
    "y_pred = linear.predict(x_test)\n",
    "rss = np.mean((y_pred - y_test) ** 2)\n",
    "print(f\"Linear RSS : {rss}\")\n",
    "\n",
    "# Ridge \n",
    "import sklearn.linear_model as skl\n",
    "\n",
    "ridge = skl.ElasticNet(alpha=0.01, l1_ratio=0.0)\n",
    "ridge.fit(x_train, y_train)\n",
    "y_pred = ridge.predict(x_test)\n",
    "rss = np.mean((y_pred - y_test) ** 2)\n",
    "print(f\"Ridge RSS : {rss}\")"
   ]
  },
  {
   "cell_type": "markdown",
   "id": "f8fe7cc1",
   "metadata": {},
   "source": [
    "So we are experiencing around 4x drop in the RSS Value using Gradient boosting ? Shit the method is sick"
   ]
  },
  {
   "cell_type": "code",
   "execution_count": 26,
   "id": "5380119d",
   "metadata": {},
   "outputs": [
    {
     "data": {
      "image/png": "[encoded data removed]",
      "text/plain": [
       "<Figure size 1200x800 with 1 Axes>"
      ]
     },
     "metadata": {},
     "output_type": "display_data"
    }
   ],
   "source": [
    "importance = best_GBR.feature_importances_\n",
    "importance = pd.Series(importance, index=x.columns)\n",
    "importance = importance.sort_values(ascending=False)\n",
    "\n",
    "plt.figure(figsize=(12, 8))\n",
    "importance.plot(kind='bar')\n",
    "plt.title('Feature Importance from Gradient Boosting')\n",
    "plt.xlabel('Features')\n",
    "plt.ylabel('Importance Score')\n",
    "plt.tight_layout()\n",
    "plt.show()"
   ]
  },
  {
   "cell_type": "code",
   "execution_count": 32,
   "id": "02973e1e",
   "metadata": {},
   "outputs": [
    {
     "name": "stdout",
     "output_type": "stream",
     "text": [
      "Bagging RSS : 0.0013334476269294035\n"
     ]
    },
    {
     "data": {
      "image/png": "[encoded data removed]",
      "text/plain": [
       "<Figure size 1200x800 with 1 Axes>"
      ]
     },
     "metadata": {},
     "output_type": "display_data"
    }
   ],
   "source": [
    "# Bagging\n",
    "bag = RF(n_estimators=1000, max_features=x.shape[1], random_state=0)\n",
    "bag.fit(x_train, y_train)\n",
    "y_pred = bag.predict(x_test)\n",
    "rss = np.mean((y_pred - y_test) ** 2)\n",
    "print(f\"Bagging RSS : {rss}\")\n",
    "\n",
    "# Feature Importance\n",
    "importance = bag.feature_importances_\n",
    "importance = pd.Series(importance, index=x.columns)\n",
    "importance = importance.sort_values(ascending=False)\n",
    "plt.figure(figsize=(12, 8))\n",
    "importance.plot(kind='bar')\n",
    "plt.title('Feature Importance from Bagging')\n",
    "plt.xlabel('Features')\n",
    "plt.ylabel('Importance Score')\n",
    "plt.tight_layout()\n",
    "plt.show()"
   ]
  },
  {
   "cell_type": "markdown",
   "id": "5a48de60",
   "metadata": {},
   "source": [
    "Wow Bagging and Boosting are almost same and there feature importance scores are also almost same. Dammmmm sick algorithmns\n",
    "\n",
    "### Question 11"
   ]
  },
  {
   "cell_type": "code",
   "execution_count": 35,
   "id": "7c767641",
   "metadata": {},
   "outputs": [
    {
     "data": {
      "application/vnd.microsoft.datawrangler.viewer.v0+json": {
       "columns": [
        {
         "name": "index",
         "rawType": "int64",
         "type": "integer"
        },
        {
         "name": "MOSTYPE",
         "rawType": "int64",
         "type": "integer"
        },
        {
         "name": "MAANTHUI",
         "rawType": "int64",
         "type": "integer"
        },
        {
         "name": "MGEMOMV",
         "rawType": "int64",
         "type": "integer"
        },
        {
         "name": "MGEMLEEF",
         "rawType": "int64",
         "type": "integer"
        },
        {
         "name": "MOSHOOFD",
         "rawType": "int64",
         "type": "integer"
        },
        {
         "name": "MGODRK",
         "rawType": "int64",
         "type": "integer"
        },
        {
         "name": "MGODPR",
         "rawType": "int64",
         "type": "integer"
        },
        {
         "name": "MGODOV",
         "rawType": "int64",
         "type": "integer"
        },
        {
         "name": "MGODGE",
         "rawType": "int64",
         "type": "integer"
        },
        {
         "name": "MRELGE",
         "rawType": "int64",
         "type": "integer"
        },
        {
         "name": "MRELSA",
         "rawType": "int64",
         "type": "integer"
        },
        {
         "name": "MRELOV",
         "rawType": "int64",
         "type": "integer"
        },
        {
         "name": "MFALLEEN",
         "rawType": "int64",
         "type": "integer"
        },
        {
         "name": "MFGEKIND",
         "rawType": "int64",
         "type": "integer"
        },
        {
         "name": "MFWEKIND",
         "rawType": "int64",
         "type": "integer"
        },
        {
         "name": "MOPLHOOG",
         "rawType": "int64",
         "type": "integer"
        },
        {
         "name": "MOPLMIDD",
         "rawType": "int64",
         "type": "integer"
        },
        {
         "name": "MOPLLAAG",
         "rawType": "int64",
         "type": "integer"
        },
        {
         "name": "MBERHOOG",
         "rawType": "int64",
         "type": "integer"
        },
        {
         "name": "MBERZELF",
         "rawType": "int64",
         "type": "integer"
        },
        {
         "name": "MBERBOER",
         "rawType": "int64",
         "type": "integer"
        },
        {
         "name": "MBERMIDD",
         "rawType": "int64",
         "type": "integer"
        },
        {
         "name": "MBERARBG",
         "rawType": "int64",
         "type": "integer"
        },
        {
         "name": "MBERARBO",
         "rawType": "int64",
         "type": "integer"
        },
        {
         "name": "MSKA",
         "rawType": "int64",
         "type": "integer"
        },
        {
         "name": "MSKB1",
         "rawType": "int64",
         "type": "integer"
        },
        {
         "name": "MSKB2",
         "rawType": "int64",
         "type": "integer"
        },
        {
         "name": "MSKC",
         "rawType": "int64",
         "type": "integer"
        },
        {
         "name": "MSKD",
         "rawType": "int64",
         "type": "integer"
        },
        {
         "name": "MHHUUR",
         "rawType": "int64",
         "type": "integer"
        },
        {
         "name": "MHKOOP",
         "rawType": "int64",
         "type": "integer"
        },
        {
         "name": "MAUT1",
         "rawType": "int64",
         "type": "integer"
        },
        {
         "name": "MAUT2",
         "rawType": "int64",
         "type": "integer"
        },
        {
         "name": "MAUT0",
         "rawType": "int64",
         "type": "integer"
        },
        {
         "name": "MZFONDS",
         "rawType": "int64",
         "type": "integer"
        },
        {
         "name": "MZPART",
         "rawType": "int64",
         "type": "integer"
        },
        {
         "name": "MINKM30",
         "rawType": "int64",
         "type": "integer"
        },
        {
         "name": "MINK3045",
         "rawType": "int64",
         "type": "integer"
        },
        {
         "name": "MINK4575",
         "rawType": "int64",
         "type": "integer"
        },
        {
         "name": "MINK7512",
         "rawType": "int64",
         "type": "integer"
        },
        {
         "name": "MINK123M",
         "rawType": "int64",
         "type": "integer"
        },
        {
         "name": "MINKGEM",
         "rawType": "int64",
         "type": "integer"
        },
        {
         "name": "MKOOPKLA",
         "rawType": "int64",
         "type": "integer"
        },
        {
         "name": "PWAPART",
         "rawType": "int64",
         "type": "integer"
        },
        {
         "name": "PWABEDR",
         "rawType": "int64",
         "type": "integer"
        },
        {
         "name": "PWALAND",
         "rawType": "int64",
         "type": "integer"
        },
        {
         "name": "PPERSAUT",
         "rawType": "int64",
         "type": "integer"
        },
        {
         "name": "PBESAUT",
         "rawType": "int64",
         "type": "integer"
        },
        {
         "name": "PMOTSCO",
         "rawType": "int64",
         "type": "integer"
        },
        {
         "name": "PVRAAUT",
         "rawType": "int64",
         "type": "integer"
        },
        {
         "name": "PAANHANG",
         "rawType": "int64",
         "type": "integer"
        },
        {
         "name": "PTRACTOR",
         "rawType": "int64",
         "type": "integer"
        },
        {
         "name": "PWERKT",
         "rawType": "int64",
         "type": "integer"
        },
        {
         "name": "PBROM",
         "rawType": "int64",
         "type": "integer"
        },
        {
         "name": "PLEVEN",
         "rawType": "int64",
         "type": "integer"
        },
        {
         "name": "PPERSONG",
         "rawType": "int64",
         "type": "integer"
        },
        {
         "name": "PGEZONG",
         "rawType": "int64",
         "type": "integer"
        },
        {
         "name": "PWAOREG",
         "rawType": "int64",
         "type": "integer"
        },
        {
         "name": "PBRAND",
         "rawType": "int64",
         "type": "integer"
        },
        {
         "name": "PZEILPL",
         "rawType": "int64",
         "type": "integer"
        },
        {
         "name": "PPLEZIER",
         "rawType": "int64",
         "type": "integer"
        },
        {
         "name": "PFIETS",
         "rawType": "int64",
         "type": "integer"
        },
        {
         "name": "PINBOED",
         "rawType": "int64",
         "type": "integer"
        },
        {
         "name": "PBYSTAND",
         "rawType": "int64",
         "type": "integer"
        },
        {
         "name": "AWAPART",
         "rawType": "int64",
         "type": "integer"
        },
        {
         "name": "AWABEDR",
         "rawType": "int64",
         "type": "integer"
        },
        {
         "name": "AWALAND",
         "rawType": "int64",
         "type": "integer"
        },
        {
         "name": "APERSAUT",
         "rawType": "int64",
         "type": "integer"
        },
        {
         "name": "ABESAUT",
         "rawType": "int64",
         "type": "integer"
        },
        {
         "name": "AMOTSCO",
         "rawType": "int64",
         "type": "integer"
        },
        {
         "name": "AVRAAUT",
         "rawType": "int64",
         "type": "integer"
        },
        {
         "name": "AAANHANG",
         "rawType": "int64",
         "type": "integer"
        },
        {
         "name": "ATRACTOR",
         "rawType": "int64",
         "type": "integer"
        },
        {
         "name": "AWERKT",
         "rawType": "int64",
         "type": "integer"
        },
        {
         "name": "ABROM",
         "rawType": "int64",
         "type": "integer"
        },
        {
         "name": "ALEVEN",
         "rawType": "int64",
         "type": "integer"
        },
        {
         "name": "APERSONG",
         "rawType": "int64",
         "type": "integer"
        },
        {
         "name": "AGEZONG",
         "rawType": "int64",
         "type": "integer"
        },
        {
         "name": "AWAOREG",
         "rawType": "int64",
         "type": "integer"
        },
        {
         "name": "ABRAND",
         "rawType": "int64",
         "type": "integer"
        },
        {
         "name": "AZEILPL",
         "rawType": "int64",
         "type": "integer"
        },
        {
         "name": "APLEZIER",
         "rawType": "int64",
         "type": "integer"
        },
        {
         "name": "AFIETS",
         "rawType": "int64",
         "type": "integer"
        },
        {
         "name": "AINBOED",
         "rawType": "int64",
         "type": "integer"
        },
        {
         "name": "ABYSTAND",
         "rawType": "int64",
         "type": "integer"
        },
        {
         "name": "Purchase",
         "rawType": "category",
         "type": "unknown"
        }
       ],
       "conversionMethod": "pd.DataFrame",
       "ref": "a44dd825-3f1b-4c4d-992d-c9be8a315fe5",
       "rows": [
        [
         "0",
         "33",
         "1",
         "3",
         "2",
         "8",
         "0",
         "5",
         "1",
         "3",
         "7",
         "0",
         "2",
         "1",
         "2",
         "6",
         "1",
         "2",
         "7",
         "1",
         "0",
         "1",
         "2",
         "5",
         "2",
         "1",
         "1",
         "2",
         "6",
         "1",
         "1",
         "8",
         "8",
         "0",
         "1",
         "8",
         "1",
         "0",
         "4",
         "5",
         "0",
         "0",
         "4",
         "3",
         "0",
         "0",
         "0",
         "6",
         "0",
         "0",
         "0",
         "0",
         "0",
         "0",
         "0",
         "0",
         "0",
         "0",
         "0",
         "5",
         "0",
         "0",
         "0",
         "0",
         "0",
         "0",
         "0",
         "0",
         "1",
         "0",
         "0",
         "0",
         "0",
         "0",
         "0",
         "0",
         "0",
         "0",
         "0",
         "0",
         "1",
         "0",
         "0",
         "0",
         "0",
         "0",
         "No"
        ],
        [
         "1",
         "37",
         "1",
         "2",
         "2",
         "8",
         "1",
         "4",
         "1",
         "4",
         "6",
         "2",
         "2",
         "0",
         "4",
         "5",
         "0",
         "5",
         "4",
         "0",
         "0",
         "0",
         "5",
         "0",
         "4",
         "0",
         "2",
         "3",
         "5",
         "0",
         "2",
         "7",
         "7",
         "1",
         "2",
         "6",
         "3",
         "2",
         "0",
         "5",
         "2",
         "0",
         "5",
         "4",
         "2",
         "0",
         "0",
         "0",
         "0",
         "0",
         "0",
         "0",
         "0",
         "0",
         "0",
         "0",
         "0",
         "0",
         "0",
         "2",
         "0",
         "0",
         "0",
         "0",
         "0",
         "2",
         "0",
         "0",
         "0",
         "0",
         "0",
         "0",
         "0",
         "0",
         "0",
         "0",
         "0",
         "0",
         "0",
         "0",
         "1",
         "0",
         "0",
         "0",
         "0",
         "0",
         "No"
        ],
        [
         "2",
         "37",
         "1",
         "2",
         "2",
         "8",
         "0",
         "4",
         "2",
         "4",
         "3",
         "2",
         "4",
         "4",
         "4",
         "2",
         "0",
         "5",
         "4",
         "0",
         "0",
         "0",
         "7",
         "0",
         "2",
         "0",
         "5",
         "0",
         "4",
         "0",
         "7",
         "2",
         "7",
         "0",
         "2",
         "9",
         "0",
         "4",
         "5",
         "0",
         "0",
         "0",
         "3",
         "4",
         "2",
         "0",
         "0",
         "6",
         "0",
         "0",
         "0",
         "0",
         "0",
         "0",
         "0",
         "0",
         "0",
         "0",
         "0",
         "2",
         "0",
         "0",
         "0",
         "0",
         "0",
         "1",
         "0",
         "0",
         "1",
         "0",
         "0",
         "0",
         "0",
         "0",
         "0",
         "0",
         "0",
         "0",
         "0",
         "0",
         "1",
         "0",
         "0",
         "0",
         "0",
         "0",
         "No"
        ],
        [
         "3",
         "9",
         "1",
         "3",
         "3",
         "3",
         "2",
         "3",
         "2",
         "4",
         "5",
         "2",
         "2",
         "2",
         "3",
         "4",
         "3",
         "4",
         "2",
         "4",
         "0",
         "0",
         "3",
         "1",
         "2",
         "3",
         "2",
         "1",
         "4",
         "0",
         "5",
         "4",
         "9",
         "0",
         "0",
         "7",
         "2",
         "1",
         "5",
         "3",
         "0",
         "0",
         "4",
         "4",
         "0",
         "0",
         "0",
         "6",
         "0",
         "0",
         "0",
         "0",
         "0",
         "0",
         "0",
         "0",
         "0",
         "0",
         "0",
         "2",
         "0",
         "0",
         "0",
         "0",
         "0",
         "0",
         "0",
         "0",
         "1",
         "0",
         "0",
         "0",
         "0",
         "0",
         "0",
         "0",
         "0",
         "0",
         "0",
         "0",
         "1",
         "0",
         "0",
         "0",
         "0",
         "0",
         "No"
        ],
        [
         "4",
         "40",
         "1",
         "4",
         "2",
         "10",
         "1",
         "4",
         "1",
         "4",
         "7",
         "1",
         "2",
         "2",
         "4",
         "4",
         "5",
         "4",
         "0",
         "0",
         "5",
         "4",
         "0",
         "0",
         "0",
         "9",
         "0",
         "0",
         "0",
         "0",
         "4",
         "5",
         "6",
         "2",
         "1",
         "5",
         "4",
         "0",
         "0",
         "9",
         "0",
         "0",
         "6",
         "3",
         "0",
         "0",
         "0",
         "0",
         "0",
         "0",
         "0",
         "0",
         "0",
         "0",
         "0",
         "0",
         "0",
         "0",
         "0",
         "6",
         "0",
         "0",
         "0",
         "0",
         "0",
         "0",
         "0",
         "0",
         "0",
         "0",
         "0",
         "0",
         "0",
         "0",
         "0",
         "0",
         "0",
         "0",
         "0",
         "0",
         "1",
         "0",
         "0",
         "0",
         "0",
         "0",
         "No"
        ]
       ],
       "shape": {
        "columns": 86,
        "rows": 5
       }
      },
      "text/html": [
       "<div>\n",
       "<style scoped>\n",
       "    .dataframe tbody tr th:only-of-type {\n",
       "        vertical-align: middle;\n",
       "    }\n",
       "\n",
       "    .dataframe tbody tr th {\n",
       "        vertical-align: top;\n",
       "    }\n",
       "\n",
       "    .dataframe thead th {\n",
       "        text-align: right;\n",
       "    }\n",
       "</style>\n",
       "<table border=\"1\" class=\"dataframe\">\n",
       "  <thead>\n",
       "    <tr style=\"text-align: right;\">\n",
       "      <th></th>\n",
       "      <th>MOSTYPE</th>\n",
       "      <th>MAANTHUI</th>\n",
       "      <th>MGEMOMV</th>\n",
       "      <th>MGEMLEEF</th>\n",
       "      <th>MOSHOOFD</th>\n",
       "      <th>MGODRK</th>\n",
       "      <th>MGODPR</th>\n",
       "      <th>MGODOV</th>\n",
       "      <th>MGODGE</th>\n",
       "      <th>MRELGE</th>\n",
       "      <th>...</th>\n",
       "      <th>APERSONG</th>\n",
       "      <th>AGEZONG</th>\n",
       "      <th>AWAOREG</th>\n",
       "      <th>ABRAND</th>\n",
       "      <th>AZEILPL</th>\n",
       "      <th>APLEZIER</th>\n",
       "      <th>AFIETS</th>\n",
       "      <th>AINBOED</th>\n",
       "      <th>ABYSTAND</th>\n",
       "      <th>Purchase</th>\n",
       "    </tr>\n",
       "  </thead>\n",
       "  <tbody>\n",
       "    <tr>\n",
       "      <th>0</th>\n",
       "      <td>33</td>\n",
       "      <td>1</td>\n",
       "      <td>3</td>\n",
       "      <td>2</td>\n",
       "      <td>8</td>\n",
       "      <td>0</td>\n",
       "      <td>5</td>\n",
       "      <td>1</td>\n",
       "      <td>3</td>\n",
       "      <td>7</td>\n",
       "      <td>...</td>\n",
       "      <td>0</td>\n",
       "      <td>0</td>\n",
       "      <td>0</td>\n",
       "      <td>1</td>\n",
       "      <td>0</td>\n",
       "      <td>0</td>\n",
       "      <td>0</td>\n",
       "      <td>0</td>\n",
       "      <td>0</td>\n",
       "      <td>No</td>\n",
       "    </tr>\n",
       "    <tr>\n",
       "      <th>1</th>\n",
       "      <td>37</td>\n",
       "      <td>1</td>\n",
       "      <td>2</td>\n",
       "      <td>2</td>\n",
       "      <td>8</td>\n",
       "      <td>1</td>\n",
       "      <td>4</td>\n",
       "      <td>1</td>\n",
       "      <td>4</td>\n",
       "      <td>6</td>\n",
       "      <td>...</td>\n",
       "      <td>0</td>\n",
       "      <td>0</td>\n",
       "      <td>0</td>\n",
       "      <td>1</td>\n",
       "      <td>0</td>\n",
       "      <td>0</td>\n",
       "      <td>0</td>\n",
       "      <td>0</td>\n",
       "      <td>0</td>\n",
       "      <td>No</td>\n",
       "    </tr>\n",
       "    <tr>\n",
       "      <th>2</th>\n",
       "      <td>37</td>\n",
       "      <td>1</td>\n",
       "      <td>2</td>\n",
       "      <td>2</td>\n",
       "      <td>8</td>\n",
       "      <td>0</td>\n",
       "      <td>4</td>\n",
       "      <td>2</td>\n",
       "      <td>4</td>\n",
       "      <td>3</td>\n",
       "      <td>...</td>\n",
       "      <td>0</td>\n",
       "      <td>0</td>\n",
       "      <td>0</td>\n",
       "      <td>1</td>\n",
       "      <td>0</td>\n",
       "      <td>0</td>\n",
       "      <td>0</td>\n",
       "      <td>0</td>\n",
       "      <td>0</td>\n",
       "      <td>No</td>\n",
       "    </tr>\n",
       "    <tr>\n",
       "      <th>3</th>\n",
       "      <td>9</td>\n",
       "      <td>1</td>\n",
       "      <td>3</td>\n",
       "      <td>3</td>\n",
       "      <td>3</td>\n",
       "      <td>2</td>\n",
       "      <td>3</td>\n",
       "      <td>2</td>\n",
       "      <td>4</td>\n",
       "      <td>5</td>\n",
       "      <td>...</td>\n",
       "      <td>0</td>\n",
       "      <td>0</td>\n",
       "      <td>0</td>\n",
       "      <td>1</td>\n",
       "      <td>0</td>\n",
       "      <td>0</td>\n",
       "      <td>0</td>\n",
       "      <td>0</td>\n",
       "      <td>0</td>\n",
       "      <td>No</td>\n",
       "    </tr>\n",
       "    <tr>\n",
       "      <th>4</th>\n",
       "      <td>40</td>\n",
       "      <td>1</td>\n",
       "      <td>4</td>\n",
       "      <td>2</td>\n",
       "      <td>10</td>\n",
       "      <td>1</td>\n",
       "      <td>4</td>\n",
       "      <td>1</td>\n",
       "      <td>4</td>\n",
       "      <td>7</td>\n",
       "      <td>...</td>\n",
       "      <td>0</td>\n",
       "      <td>0</td>\n",
       "      <td>0</td>\n",
       "      <td>1</td>\n",
       "      <td>0</td>\n",
       "      <td>0</td>\n",
       "      <td>0</td>\n",
       "      <td>0</td>\n",
       "      <td>0</td>\n",
       "      <td>No</td>\n",
       "    </tr>\n",
       "  </tbody>\n",
       "</table>\n",
       "<p>5 rows × 86 columns</p>\n",
       "</div>"
      ],
      "text/plain": [
       "   MOSTYPE  MAANTHUI  MGEMOMV  MGEMLEEF  MOSHOOFD  MGODRK  MGODPR  MGODOV  \\\n",
       "0       33         1        3         2         8       0       5       1   \n",
       "1       37         1        2         2         8       1       4       1   \n",
       "2       37         1        2         2         8       0       4       2   \n",
       "3        9         1        3         3         3       2       3       2   \n",
       "4       40         1        4         2        10       1       4       1   \n",
       "\n",
       "   MGODGE  MRELGE  ...  APERSONG  AGEZONG  AWAOREG  ABRAND  AZEILPL  APLEZIER  \\\n",
       "0       3       7  ...         0        0        0       1        0         0   \n",
       "1       4       6  ...         0        0        0       1        0         0   \n",
       "2       4       3  ...         0        0        0       1        0         0   \n",
       "3       4       5  ...         0        0        0       1        0         0   \n",
       "4       4       7  ...         0        0        0       1        0         0   \n",
       "\n",
       "   AFIETS  AINBOED  ABYSTAND  Purchase  \n",
       "0       0        0         0        No  \n",
       "1       0        0         0        No  \n",
       "2       0        0         0        No  \n",
       "3       0        0         0        No  \n",
       "4       0        0         0        No  \n",
       "\n",
       "[5 rows x 86 columns]"
      ]
     },
     "execution_count": 35,
     "metadata": {},
     "output_type": "execute_result"
    }
   ],
   "source": [
    "data = load_data('Caravan')\n",
    "data.head()"
   ]
  },
  {
   "cell_type": "code",
   "execution_count": 60,
   "id": "bb4fb12d",
   "metadata": {},
   "outputs": [],
   "source": [
    "x = data.drop(columns='Purchase')\n",
    "y = data['Purchase']\n",
    "y = np.where(y == \"Yes\", 1, 0)\n",
    "\n",
    "# Division\n",
    "cv = skm.ShuffleSplit(n_splits = 1, test_size = 0.3, random_state=0)\n",
    "train_idx, test_idx = next(cv.split(x))\n",
    "x_train, y_train = x.iloc[train_idx], y[train_idx]\n",
    "y_test = y[test_idx]\n",
    "x_test = x.iloc[test_idx]\n",
    "\n"
   ]
  },
  {
   "cell_type": "code",
   "execution_count": 61,
   "id": "7c36d1e4",
   "metadata": {},
   "outputs": [],
   "source": [
    "boost = GBR(n_estimators=1000, learning_rate=0.01, random_state=0)\n",
    "boost.fit(x_train, y_train)\n",
    "y_pred = boost.predict(x_test)"
   ]
  },
  {
   "cell_type": "code",
   "execution_count": 65,
   "id": "2cb66cb7",
   "metadata": {},
   "outputs": [
    {
     "name": "stdout",
     "output_type": "stream",
     "text": [
      "Accuracy : 0.909559244419004\n",
      "Log Loss : 3.259815246411282\n"
     ]
    },
    {
     "data": {
      "application/vnd.microsoft.datawrangler.viewer.v0+json": {
       "columns": [
        {
         "name": "Predicted",
         "rawType": "int64",
         "type": "integer"
        },
        {
         "name": "0",
         "rawType": "int64",
         "type": "integer"
        },
        {
         "name": "1",
         "rawType": "int64",
         "type": "integer"
        }
       ],
       "conversionMethod": "pd.DataFrame",
       "ref": "9211eafa-4caf-4e11-a60c-b092dbc645c1",
       "rows": [
        [
         "0",
         "1574",
         "65"
        ],
        [
         "1",
         "93",
         "15"
        ]
       ],
       "shape": {
        "columns": 2,
        "rows": 2
       }
      },
      "text/html": [
       "<div>\n",
       "<style scoped>\n",
       "    .dataframe tbody tr th:only-of-type {\n",
       "        vertical-align: middle;\n",
       "    }\n",
       "\n",
       "    .dataframe tbody tr th {\n",
       "        vertical-align: top;\n",
       "    }\n",
       "\n",
       "    .dataframe thead th {\n",
       "        text-align: right;\n",
       "    }\n",
       "</style>\n",
       "<table border=\"1\" class=\"dataframe\">\n",
       "  <thead>\n",
       "    <tr style=\"text-align: right;\">\n",
       "      <th>Truth</th>\n",
       "      <th>0</th>\n",
       "      <th>1</th>\n",
       "    </tr>\n",
       "    <tr>\n",
       "      <th>Predicted</th>\n",
       "      <th></th>\n",
       "      <th></th>\n",
       "    </tr>\n",
       "  </thead>\n",
       "  <tbody>\n",
       "    <tr>\n",
       "      <th>0</th>\n",
       "      <td>1574</td>\n",
       "      <td>65</td>\n",
       "    </tr>\n",
       "    <tr>\n",
       "      <th>1</th>\n",
       "      <td>93</td>\n",
       "      <td>15</td>\n",
       "    </tr>\n",
       "  </tbody>\n",
       "</table>\n",
       "</div>"
      ],
      "text/plain": [
       "Truth         0   1\n",
       "Predicted          \n",
       "0          1574  65\n",
       "1            93  15"
      ]
     },
     "execution_count": 65,
     "metadata": {},
     "output_type": "execute_result"
    }
   ],
   "source": [
    "y_pred = np.where(y_pred > 0.2, 1, 0)\n",
    "confusion = confusion_table(y_test, y_pred)\n",
    "print(f\"Accuracy : {accuracy_score(y_test, y_pred)}\")\n",
    "print(f\"Log Loss : {log_loss(y_test, y_pred)}\")\n",
    "\n",
    "confusion"
   ]
  },
  {
   "cell_type": "markdown",
   "id": "76274d32",
   "metadata": {},
   "source": [
    "Suffers from high specificity and sensitivity i.e. false positives and negatives are high and the data is structured in such a manner where more than 90% of the dataset is not purchasing so the benchmark should be random sample of whether the purchase happens or not."
   ]
  },
  {
   "cell_type": "code",
   "execution_count": 82,
   "id": "9a2f4075",
   "metadata": {},
   "outputs": [
    {
     "data": {
      "image/png": "[encoded data removed]",
      "text/plain": [
       "<Figure size 1200x800 with 1 Axes>"
      ]
     },
     "metadata": {},
     "output_type": "display_data"
    }
   ],
   "source": [
    "importance = boost.feature_importances_\n",
    "importance = pd.Series(importance, index=x.columns)\n",
    "importance = importance.sort_values(ascending=False)\n",
    "plt.figure(figsize=(12, 8))\n",
    "importance.plot(kind='bar')\n",
    "plt.title('Feature Importance from Gradient Boosting')\n",
    "plt.xlabel('Features')\n",
    "plt.ylabel('Importance Score')\n",
    "plt.tight_layout()\n",
    "plt.show()\n"
   ]
  },
  {
   "cell_type": "code",
   "execution_count": 68,
   "id": "6a0c0951",
   "metadata": {},
   "outputs": [
    {
     "name": "stdout",
     "output_type": "stream",
     "text": [
      "Accuracy : 0.9101316542644533\n",
      "Log Loss : 3.2391835043453883\n"
     ]
    }
   ],
   "source": [
    "# Logistic Regression\n",
    "\n",
    "logit = sm.GLM(y_train, x_train, family=sm.families.Binomial()).fit()\n",
    "y_pred = logit.predict(x_test)\n",
    "y_pred = np.where(y_pred > 0.2, 1, 0)\n",
    "confusion = confusion_table(y_test, y_pred)\n",
    "print(f\"Accuracy : {accuracy_score(y_test, y_pred)}\")\n",
    "print(f\"Log Loss : {log_loss(y_test, y_pred)}\")"
   ]
  },
  {
   "cell_type": "code",
   "execution_count": 83,
   "id": "3edb25ae",
   "metadata": {},
   "outputs": [
    {
     "name": "stdout",
     "output_type": "stream",
     "text": [
      "Accuracy : 0.9341728677733258\n",
      "Log Loss : 2.372650337577832\n"
     ]
    }
   ],
   "source": [
    "# KNN\n",
    "\n",
    "from sklearn.neighbors import KNeighborsClassifier\n",
    "knn = KNeighborsClassifier(n_neighbors=2)\n",
    "knn.fit(x_train, y_train)\n",
    "y_pred = knn.predict(x_test)\n",
    "confusion = confusion_table(y_test, y_pred)\n",
    "print(f\"Accuracy : {accuracy_score(y_test, y_pred)}\")\n",
    "print(f\"Log Loss : {log_loss(y_test, y_pred)}\")"
   ]
  },
  {
   "cell_type": "code",
   "execution_count": 81,
   "id": "45ae5927",
   "metadata": {},
   "outputs": [
    {
     "data": {
      "text/plain": [
       "Purchase\n",
       "No     0.940227\n",
       "Yes    0.059773\n",
       "Name: count, dtype: float64"
      ]
     },
     "execution_count": 81,
     "metadata": {},
     "output_type": "execute_result"
    }
   ],
   "source": [
    "data[\"Purchase\"].value_counts() / data.shape[0]"
   ]
  },
  {
   "cell_type": "markdown",
   "id": "cfc85569",
   "metadata": {},
   "source": [
    "Even we take a random sample then around 94% of the people are not going to purchase and with the algorithmns with have, boosting predicts around 90% correctly, Logistic regression does around 91% and KNN around 93.5%. \n",
    "\n",
    "Here i don't see any value in using the algorithmns because they are not useful to be honest or better than a random guess.\n",
    "\n",
    "Lesson : Data Quality is very important."
   ]
  }
 ],
 "metadata": {
  "kernelspec": {
   "display_name": "datasci-env",
   "language": "python",
   "name": "python3"
  },
  "language_info": {
   "codemirror_mode": {
    "name": "ipython",
    "version": 3
   },
   "file_extension": ".py",
   "mimetype": "text/x-python",
   "name": "python",
   "nbconvert_exporter": "python",
   "pygments_lexer": "ipython3",
   "version": "3.12.8"
  }
 },
 "nbformat": 4,
 "nbformat_minor": 5
}
