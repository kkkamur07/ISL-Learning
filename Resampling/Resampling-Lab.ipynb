{
 "cells": [
  {
   "cell_type": "markdown",
   "metadata": {},
   "source": [
    "#### Lab : Resampling methods\n",
    "\n",
    "We will learn the following methods : \n",
    "- Cross validation : Primarily used for test error estimation\n",
    "- Bootstrap : Primarily used for standard deviation estimation"
   ]
  },
  {
   "cell_type": "code",
   "execution_count": 2,
   "metadata": {},
   "outputs": [],
   "source": [
    "import numpy as np\n",
    "import statsmodels.api as sm\n",
    "from ISLP import load_data \n",
    "from ISLP.models import (ModelSpec as MS, summarize, poly)\n",
    "from sklearn.model_selection import train_test_split\n",
    "from functools import partial\n",
    "from sklearn.model_selection import (cross_validate, KFold, ShuffleSplit)\n",
    "from sklearn.base import clone\n",
    "from ISLP.models import sklearn_sm"
   ]
  },
  {
   "cell_type": "markdown",
   "metadata": {},
   "source": [
    "We are going to use the `Auto` dataset"
   ]
  },
  {
   "cell_type": "code",
   "execution_count": 74,
   "metadata": {},
   "outputs": [
    {
     "data": {
      "text/html": [
       "<div>\n",
       "<style scoped>\n",
       "    .dataframe tbody tr th:only-of-type {\n",
       "        vertical-align: middle;\n",
       "    }\n",
       "\n",
       "    .dataframe tbody tr th {\n",
       "        vertical-align: top;\n",
       "    }\n",
       "\n",
       "    .dataframe thead th {\n",
       "        text-align: right;\n",
       "    }\n",
       "</style>\n",
       "<table border=\"1\" class=\"dataframe\">\n",
       "  <thead>\n",
       "    <tr style=\"text-align: right;\">\n",
       "      <th></th>\n",
       "      <th>mpg</th>\n",
       "      <th>cylinders</th>\n",
       "      <th>displacement</th>\n",
       "      <th>horsepower</th>\n",
       "      <th>weight</th>\n",
       "      <th>acceleration</th>\n",
       "      <th>year</th>\n",
       "      <th>origin</th>\n",
       "    </tr>\n",
       "    <tr>\n",
       "      <th>name</th>\n",
       "      <th></th>\n",
       "      <th></th>\n",
       "      <th></th>\n",
       "      <th></th>\n",
       "      <th></th>\n",
       "      <th></th>\n",
       "      <th></th>\n",
       "      <th></th>\n",
       "    </tr>\n",
       "  </thead>\n",
       "  <tbody>\n",
       "    <tr>\n",
       "      <th>chevrolet chevelle malibu</th>\n",
       "      <td>18.0</td>\n",
       "      <td>8</td>\n",
       "      <td>307.0</td>\n",
       "      <td>130</td>\n",
       "      <td>3504</td>\n",
       "      <td>12.0</td>\n",
       "      <td>70</td>\n",
       "      <td>1</td>\n",
       "    </tr>\n",
       "    <tr>\n",
       "      <th>buick skylark 320</th>\n",
       "      <td>15.0</td>\n",
       "      <td>8</td>\n",
       "      <td>350.0</td>\n",
       "      <td>165</td>\n",
       "      <td>3693</td>\n",
       "      <td>11.5</td>\n",
       "      <td>70</td>\n",
       "      <td>1</td>\n",
       "    </tr>\n",
       "    <tr>\n",
       "      <th>plymouth satellite</th>\n",
       "      <td>18.0</td>\n",
       "      <td>8</td>\n",
       "      <td>318.0</td>\n",
       "      <td>150</td>\n",
       "      <td>3436</td>\n",
       "      <td>11.0</td>\n",
       "      <td>70</td>\n",
       "      <td>1</td>\n",
       "    </tr>\n",
       "    <tr>\n",
       "      <th>amc rebel sst</th>\n",
       "      <td>16.0</td>\n",
       "      <td>8</td>\n",
       "      <td>304.0</td>\n",
       "      <td>150</td>\n",
       "      <td>3433</td>\n",
       "      <td>12.0</td>\n",
       "      <td>70</td>\n",
       "      <td>1</td>\n",
       "    </tr>\n",
       "    <tr>\n",
       "      <th>ford torino</th>\n",
       "      <td>17.0</td>\n",
       "      <td>8</td>\n",
       "      <td>302.0</td>\n",
       "      <td>140</td>\n",
       "      <td>3449</td>\n",
       "      <td>10.5</td>\n",
       "      <td>70</td>\n",
       "      <td>1</td>\n",
       "    </tr>\n",
       "  </tbody>\n",
       "</table>\n",
       "</div>"
      ],
      "text/plain": [
       "                            mpg  cylinders  ...  year  origin\n",
       "name                                        ...              \n",
       "chevrolet chevelle malibu  18.0          8  ...    70       1\n",
       "buick skylark 320          15.0          8  ...    70       1\n",
       "plymouth satellite         18.0          8  ...    70       1\n",
       "amc rebel sst              16.0          8  ...    70       1\n",
       "ford torino                17.0          8  ...    70       1\n",
       "\n",
       "[5 rows x 8 columns]"
      ]
     },
     "execution_count": 74,
     "metadata": {},
     "output_type": "execute_result"
    }
   ],
   "source": [
    "data = load_data('Auto')\n",
    "data.head()"
   ]
  },
  {
   "cell_type": "markdown",
   "metadata": {},
   "source": [
    "### Validation set approach\n",
    "\n",
    "Here we split the dataset into 2 parts, one where we train and the other where we test. \n",
    "Benefits : \n",
    "1. Gives us more precise estimates of error\n",
    "\n",
    "Problems : \n",
    "1. Tends to overestimate the error because we are not training the dataset on every sample\n",
    "2. Depending upon on the testing and training size we have variability in the results & selection of samples as well"
   ]
  },
  {
   "cell_type": "code",
   "execution_count": 9,
   "metadata": {},
   "outputs": [
    {
     "data": {
      "text/plain": [
       "((196, 8), (196, 8))"
      ]
     },
     "execution_count": 9,
     "metadata": {},
     "output_type": "execute_result"
    }
   ],
   "source": [
    "data_train, data_validate = train_test_split(data, test_size=196, random_state=0)\n",
    "data_train.shape, data_validate.shape"
   ]
  },
  {
   "cell_type": "code",
   "execution_count": 11,
   "metadata": {},
   "outputs": [
    {
     "data": {
      "text/plain": [
       "23.61661706966988"
      ]
     },
     "execution_count": 11,
     "metadata": {},
     "output_type": "execute_result"
    }
   ],
   "source": [
    "# Fitting a linear regression model mpg ~ horsepower\n",
    "hp_mm = MS([\"horsepower\"])\n",
    "x_train = hp_mm.fit_transform(data_train)\n",
    "x_validate  = hp_mm.transform(data_validate)\n",
    "y_train = data_train.loc[:, \"mpg\"]\n",
    "y_validate = data_validate.loc[:, \"mpg\"]   \n",
    "\n",
    "linear_model = sm.OLS(y_train, x_train).fit()\n",
    "preds = linear_model.predict(x_validate)\n",
    "mse = np.mean((y_validate - preds)**2) \n",
    "mse\n"
   ]
  },
  {
   "cell_type": "code",
   "execution_count": 46,
   "metadata": {},
   "outputs": [
    {
     "data": {
      "text/plain": [
       "22.026387306979778"
      ]
     },
     "execution_count": 46,
     "metadata": {},
     "output_type": "execute_result"
    }
   ],
   "source": [
    "# Defining a function to calculate the MSE of a model\n",
    "\n",
    "def mse(data, terms, response, test_size=196): \n",
    "    mm = MS(terms)\n",
    "    data_train, data_validate = train_test_split(data, test_size=test_size, random_state=0)\n",
    "    x_train = mm.fit_transform(data_train)\n",
    "    x_validate  = mm.transform(data_validate)\n",
    "    y_train = data_train.loc[:, response]\n",
    "    y_validate = data_validate.loc[:, response]\n",
    "    linear_model = sm.OLS(y_train, x_train).fit()\n",
    "    preds = linear_model.predict(x_validate)\n",
    "    mse = np.mean((y_validate - preds) ** 2)\n",
    "    return mse\n",
    "\n",
    "mse(data, [\"horsepower\"], \"mpg\", test_size=0.2)"
   ]
  },
  {
   "cell_type": "code",
   "execution_count": 51,
   "metadata": {},
   "outputs": [
    {
     "data": {
      "text/plain": [
       "array([22.02638731, 16.01289462, 15.91065108])"
      ]
     },
     "execution_count": 51,
     "metadata": {},
     "output_type": "execute_result"
    }
   ],
   "source": [
    "MSE = np.zeros(3)\n",
    "\n",
    "for i, degree in enumerate(range(1,4)) : \n",
    "    terms = poly(\"horsepower\", degree)\n",
    "    MSE[i] = mse(data, [terms], \"mpg\", test_size=0.2)\n",
    "    \n",
    "MSE"
   ]
  },
  {
   "cell_type": "markdown",
   "metadata": {},
   "source": [
    "So we see that maybe have a quadratic fit of `horsepower` has a sharp decrease to MSE. Though there is no evidence of improvement in cubic term"
   ]
  },
  {
   "cell_type": "markdown",
   "metadata": {},
   "source": [
    "#### Cross Validation\n",
    "Simplest way to use cross validation is `sklearn` but `sklearn` has a different interface than `statsmodels` hence we will be using the wrapper in `sklearn_sm()` to use the same\n",
    "\n",
    "Arguments to `cross_validate()` are : (Didn't Understand this)\n",
    "1. fit()\n",
    "2. predict()\n",
    "3. score()\n",
    "\n",
    "`KFold()` to partition data into the components we want to test on. \n",
    "`KFold(n_splits = n, random_state = 0)`\n",
    "\n",
    "`ShuffleSplit()` -> makes things more easier"
   ]
  },
  {
   "cell_type": "code",
   "execution_count": 57,
   "metadata": {},
   "outputs": [
    {
     "data": {
      "text/plain": [
       "24.23151351792924"
      ]
     },
     "execution_count": 57,
     "metadata": {},
     "output_type": "execute_result"
    }
   ],
   "source": [
    "hp_model = sklearn_sm(sm.OLS, MS([\"horsepower\"]))\n",
    "x, y = data.drop(columns=[\"mpg\"]), data.loc[:, \"mpg\"]\n",
    "\n",
    "# Here we are trying LOOCV\n",
    "cv_results = cross_validate(hp_model, x,y, cv = data.shape[0])\n",
    "\n",
    "cv_err = np.mean(cv_results[\"test_score\"])\n",
    "cv_err"
   ]
  },
  {
   "cell_type": "code",
   "execution_count": null,
   "metadata": {},
   "outputs": [
    {
     "data": {
      "text/plain": [
       "array([24.23151352, 19.24821312, 19.33498406, 19.42443033, 19.03323827])"
      ]
     },
     "execution_count": 59,
     "metadata": {},
     "output_type": "execute_result"
    }
   ],
   "source": [
    "# Complex fitting for polynomial with different degree\n",
    "cv_error = np.zeros(5)\n",
    "model = sklearn_sm(sm.OLS)\n",
    "response = np.array(data[\"horsepower\"])\n",
    "\n",
    "for i, degree in enumerate(range(1,6)) : \n",
    "    # Basically create a set of polynomial features\n",
    "    x = np.power.outer(response, np.arange(degree+1))\n",
    "    cv = cross_validate(model, x, y, cv = data.shape[0])\n",
    "    \n",
    "    cv_error[i] = np.mean(cv[\"test_score\"])\n",
    "    \n",
    "cv_error"
   ]
  },
  {
   "cell_type": "markdown",
   "metadata": {},
   "source": [
    "We see gains for going from linear to quadractic, we don't see any further gains"
   ]
  },
  {
   "cell_type": "code",
   "execution_count": 64,
   "metadata": {},
   "outputs": [
    {
     "data": {
      "text/plain": [
       "array([24.20766449, 19.18533142, 19.27626666, 19.47848403, 19.13720581])"
      ]
     },
     "execution_count": 64,
     "metadata": {},
     "output_type": "execute_result"
    }
   ],
   "source": [
    "cv_error = np.zeros(5)\n",
    "cv = KFold(n_splits=10, random_state=0, shuffle=True)\n",
    "\n",
    "model = sklearn_sm(sm.OLS)\n",
    "response = np.array(data[\"horsepower\"])\n",
    "\n",
    "for i, degree in enumerate(range(1,6)) : \n",
    "    # Basically create a set of polynomial features\n",
    "    x = np.power.outer(response, np.arange(degree+1))\n",
    "    cv_results = cross_validate(model, x, y, cv = cv)\n",
    "    \n",
    "    cv_error[i] = np.mean(cv_results[\"test_score\"])\n",
    "    \n",
    "    \n",
    "cv_error"
   ]
  },
  {
   "cell_type": "markdown",
   "metadata": {},
   "source": [
    "Still no gains going from linear to quadratic"
   ]
  },
  {
   "cell_type": "code",
   "execution_count": 90,
   "metadata": {},
   "outputs": [
    {
     "data": {
      "text/plain": [
       "(23.802232661034168, 1.421845094109185)"
      ]
     },
     "execution_count": 90,
     "metadata": {},
     "output_type": "execute_result"
    }
   ],
   "source": [
    "# Using shuffle split\n",
    "hp_model = sklearn_sm(sm.OLS, MS([\"horsepower\"]))\n",
    "validation = ShuffleSplit(n_splits=10, test_size = 196, random_state=0)\n",
    "\n",
    "results = cross_validate(hp_model,data.drop(['mpg'], axis=1), data['mpg'],cv=validation)\n",
    "results[\"test_score\"].mean(), results[\"test_score\"].std()  "
   ]
  },
  {
   "cell_type": "markdown",
   "metadata": {},
   "source": [
    "### Bootstrap Method\n",
    "\n",
    "\n",
    "$Pros$ : \n",
    "- Applied in almost all situations\n",
    "- No complicated mathematical calculations required\n",
    "\n",
    "$Cons$ : \n",
    "- Uses sampling by replacement\n",
    "\n",
    "Mostly used for estimating the accuracy - why ?"
   ]
  },
  {
   "cell_type": "code",
   "execution_count": 4,
   "metadata": {},
   "outputs": [
    {
     "data": {
      "text/plain": [
       "0.57583207459283"
      ]
     },
     "execution_count": 4,
     "metadata": {},
     "output_type": "execute_result"
    }
   ],
   "source": [
    "# Using the portfolio data set\n",
    "data = load_data(\"Portfolio\")\n",
    "\n",
    "# D has X & Y and idx : indices for estimating\n",
    "# Here we will be applying the minumum variance formula\n",
    "def alpha_funcx(D, idx) : \n",
    "    cov = np.cov(D[[\"X\", \"Y\"]].loc[idx], rowvar=False)\n",
    "    return (cov[1,1] - cov[0,1]) / (cov[0,0] + cov[1,1] - 2*cov[0,1])\n",
    "\n",
    "alpha_funcx(data, range(100))"
   ]
  },
  {
   "cell_type": "code",
   "execution_count": 10,
   "metadata": {},
   "outputs": [
    {
     "data": {
      "text/plain": [
       "0.6074452469619004"
      ]
     },
     "execution_count": 10,
     "metadata": {},
     "output_type": "execute_result"
    }
   ],
   "source": [
    "# Random selection of the indices\n",
    "rng = np.random.default_rng(0)\n",
    "alpha_funcx(data, rng.choice(100, 100, replace=True)) # replacement = True for bootstrap"
   ]
  },
  {
   "cell_type": "code",
   "execution_count": 13,
   "metadata": {},
   "outputs": [
    {
     "data": {
      "text/plain": [
       "0.09118176521277699"
      ]
     },
     "execution_count": 13,
     "metadata": {},
     "output_type": "execute_result"
    }
   ],
   "source": [
    "# Bootstrapping\n",
    "def boot_se(func, DataFrame, n = None, B = 1000, seed = 0) : \n",
    "    rng = np.random.default_rng(seed)\n",
    "    first, second = 0, 0\n",
    "    n = n or DataFrame.shape[0] # taking entire data set\n",
    "    \n",
    "    for i in range(B) : \n",
    "        idx = rng.choice(DataFrame.index, n, replace=True)\n",
    "        alpha = func(DataFrame, idx)\n",
    "        first += alpha\n",
    "        second += alpha**2\n",
    "    return np.sqrt((second/B) - (first/B)**2)\n",
    "\n",
    "# It is running for 1000 times\n",
    "boot_se(alpha_funcx, data, n=100)"
   ]
  },
  {
   "cell_type": "code",
   "execution_count": 24,
   "metadata": {},
   "outputs": [
    {
     "data": {
      "text/html": [
       "<div>\n",
       "<style scoped>\n",
       "    .dataframe tbody tr th:only-of-type {\n",
       "        vertical-align: middle;\n",
       "    }\n",
       "\n",
       "    .dataframe tbody tr th {\n",
       "        vertical-align: top;\n",
       "    }\n",
       "\n",
       "    .dataframe thead th {\n",
       "        text-align: right;\n",
       "    }\n",
       "</style>\n",
       "<table border=\"1\" class=\"dataframe\">\n",
       "  <thead>\n",
       "    <tr style=\"text-align: right;\">\n",
       "      <th></th>\n",
       "      <th>mpg</th>\n",
       "      <th>cylinders</th>\n",
       "      <th>displacement</th>\n",
       "      <th>horsepower</th>\n",
       "      <th>weight</th>\n",
       "      <th>acceleration</th>\n",
       "      <th>year</th>\n",
       "      <th>origin</th>\n",
       "    </tr>\n",
       "    <tr>\n",
       "      <th>name</th>\n",
       "      <th></th>\n",
       "      <th></th>\n",
       "      <th></th>\n",
       "      <th></th>\n",
       "      <th></th>\n",
       "      <th></th>\n",
       "      <th></th>\n",
       "      <th></th>\n",
       "    </tr>\n",
       "  </thead>\n",
       "  <tbody>\n",
       "    <tr>\n",
       "      <th>chevrolet chevelle malibu</th>\n",
       "      <td>18.0</td>\n",
       "      <td>8</td>\n",
       "      <td>307.0</td>\n",
       "      <td>130</td>\n",
       "      <td>3504</td>\n",
       "      <td>12.0</td>\n",
       "      <td>70</td>\n",
       "      <td>1</td>\n",
       "    </tr>\n",
       "    <tr>\n",
       "      <th>buick skylark 320</th>\n",
       "      <td>15.0</td>\n",
       "      <td>8</td>\n",
       "      <td>350.0</td>\n",
       "      <td>165</td>\n",
       "      <td>3693</td>\n",
       "      <td>11.5</td>\n",
       "      <td>70</td>\n",
       "      <td>1</td>\n",
       "    </tr>\n",
       "    <tr>\n",
       "      <th>plymouth satellite</th>\n",
       "      <td>18.0</td>\n",
       "      <td>8</td>\n",
       "      <td>318.0</td>\n",
       "      <td>150</td>\n",
       "      <td>3436</td>\n",
       "      <td>11.0</td>\n",
       "      <td>70</td>\n",
       "      <td>1</td>\n",
       "    </tr>\n",
       "    <tr>\n",
       "      <th>amc rebel sst</th>\n",
       "      <td>16.0</td>\n",
       "      <td>8</td>\n",
       "      <td>304.0</td>\n",
       "      <td>150</td>\n",
       "      <td>3433</td>\n",
       "      <td>12.0</td>\n",
       "      <td>70</td>\n",
       "      <td>1</td>\n",
       "    </tr>\n",
       "    <tr>\n",
       "      <th>ford torino</th>\n",
       "      <td>17.0</td>\n",
       "      <td>8</td>\n",
       "      <td>302.0</td>\n",
       "      <td>140</td>\n",
       "      <td>3449</td>\n",
       "      <td>10.5</td>\n",
       "      <td>70</td>\n",
       "      <td>1</td>\n",
       "    </tr>\n",
       "  </tbody>\n",
       "</table>\n",
       "</div>"
      ],
      "text/plain": [
       "                            mpg  cylinders  displacement  horsepower  weight  \\\n",
       "name                                                                           \n",
       "chevrolet chevelle malibu  18.0          8         307.0         130    3504   \n",
       "buick skylark 320          15.0          8         350.0         165    3693   \n",
       "plymouth satellite         18.0          8         318.0         150    3436   \n",
       "amc rebel sst              16.0          8         304.0         150    3433   \n",
       "ford torino                17.0          8         302.0         140    3449   \n",
       "\n",
       "                           acceleration  year  origin  \n",
       "name                                                   \n",
       "chevrolet chevelle malibu          12.0    70       1  \n",
       "buick skylark 320                  11.5    70       1  \n",
       "plymouth satellite                 11.0    70       1  \n",
       "amc rebel sst                      12.0    70       1  \n",
       "ford torino                        10.5    70       1  "
      ]
     },
     "execution_count": 24,
     "metadata": {},
     "output_type": "execute_result"
    }
   ],
   "source": [
    "# Bootstrapping for OLS\n",
    "data = load_data(\"Auto\")\n",
    "\n",
    "def boot_ols(data, idx, response, terms) : \n",
    "    data_new = data.loc[idx]\n",
    "    mm  = MS([terms])\n",
    "    x = mm.fit_transform(data_new)\n",
    "    y = data_new.loc[:, response]\n",
    "    model = sm.OLS(y, x).fit().params\n",
    "    return model\n",
    "\n"
   ]
  }
 ],
 "metadata": {
  "kernelspec": {
   "display_name": "datasci-env",
   "language": "python",
   "name": "datasci-env"
  },
  "language_info": {
   "codemirror_mode": {
    "name": "ipython",
    "version": 3
   },
   "file_extension": ".py",
   "mimetype": "text/x-python",
   "name": "python",
   "nbconvert_exporter": "python",
   "pygments_lexer": "ipython3",
   "version": "3.12.8"
  }
 },
 "nbformat": 4,
 "nbformat_minor": 2
}
