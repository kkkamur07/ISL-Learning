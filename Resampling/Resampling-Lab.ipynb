{
 "cells": [
  {
   "cell_type": "markdown",
   "id": "6bfa8b8a-6e52-4bbf-8523-bbf4b293d2fa",
   "metadata": {},
   "source": [
    "#### Resampling Methods Lab\n",
    "\n",
    "Primarily $3$ Methods will be covered here : \n",
    "- `Validation Set` approach\n",
    "- `Cross Validation` approach\n",
    "- `Bootstrap` approach\n",
    "\n",
    "Cross validation is mostly used to estimate the test error rates in both quantitative and qualitative situations. <br> \n",
    "Bootstrap is mostly used to estimate the variance of the estimated parameters - basically to quantify the uncertainity in parameters. "
   ]
  },
  {
   "cell_type": "code",
   "execution_count": 115,
   "id": "6a045160-db4f-415b-a477-b07229693a71",
   "metadata": {},
   "outputs": [],
   "source": [
    "import numpy as np\n",
    "import pandas as pd\n",
    "import statsmodels.api as sm\n",
    "from ISLP import load_data\n",
    "from ISLP.models import (ModelSpec as MS, summarize, poly )\n",
    "from sklearn.model_selection import train_test_split, cross_validate, KFold, ShuffleSplit\n",
    "from ISLP.models import sklearn_sm\n",
    "from sklearn.base import clone\n",
    "from functools import partial"
   ]
  },
  {
   "cell_type": "markdown",
   "id": "857e314f-1855-4121-aee8-2b8d4a4f2a9f",
   "metadata": {},
   "source": [
    "## Code used explanation\n",
    "\n",
    "1. `train_test_split()` → arguments are test_size, random_state, to split the data into training and testing\n",
    "\n",
    "A and B are two functions, then to use A(B(Data)), we need a wrapper `sklearn_sm()` which allows us to use the CV tools of `sklearn` with models fit by `statsmodels`\n",
    "\n",
    "2. `sklearn_sm()` → arguments are model_str & model_args\n",
    "3. `cross_validate()` → arguments are fit(), predict() & score()\n",
    "4. `ShuffleSplit()` → easily implement cross validation and validation set approach"
   ]
  },
  {
   "cell_type": "code",
   "execution_count": 8,
   "id": "984f955a-8770-496f-bb2b-951770552d61",
   "metadata": {},
   "outputs": [],
   "source": [
    "data = load_data(\"Auto\")\n",
    "d_train, d_validate = train_test_split(data, test_size=196, random_state=0)"
   ]
  },
  {
   "cell_type": "code",
   "execution_count": 25,
   "id": "4f272875-4346-4c9d-8104-57522dacdb38",
   "metadata": {},
   "outputs": [
    {
     "data": {
      "text/plain": [
       "23.61661706966988"
      ]
     },
     "execution_count": 25,
     "metadata": {},
     "output_type": "execute_result"
    }
   ],
   "source": [
    "# Fitting a simple OLS model\n",
    "x_train = MS([\"horsepower\"]).fit_transform(d_train)\n",
    "y_train = d_train[\"mpg\"]\n",
    "x_validate = MS([\"horsepower\"]).fit_transform(d_validate)\n",
    "y_validate = d_validate[\"mpg\"]\n",
    "\n",
    "model = sm.OLS(y_train, x_train).fit()\n",
    "preds = model.predict(x_validate)\n",
    "np.mean((y_validate - preds) ** 2)"
   ]
  },
  {
   "cell_type": "code",
   "execution_count": 148,
   "id": "62729816-ac4c-41d4-a872-ef734e317007",
   "metadata": {},
   "outputs": [
    {
     "name": "stdout",
     "output_type": "stream",
     "text": [
      "Progress is 9%\n"
     ]
    }
   ],
   "source": [
    "# Writing this in a function form\n",
    "def evalMSE(terms, response, test_size, data) : \n",
    "    mm = MS(terms)\n",
    "    d_train, d_validate = train_test_split(data, test_size = test_size)\n",
    "    x_train = mm.fit_transform(d_train)\n",
    "    x_validate = mm.fit_transform(d_validate)\n",
    "    y_train = d_train[response]\n",
    "    y_validate = d_validate[response]\n",
    "\n",
    "    model = sm.OLS(y_train, x_train).fit()\n",
    "    preds = model.predict(x_validate)\n",
    "    mse = np.mean((y_validate - preds) ** 2)\n",
    "    return mse\n",
    "\n",
    "# If you run this continously, you will get the distribution of the mse.\n",
    "evalMSE([\"horsepower\"], \"mpg\", 196, data)\n",
    "\n",
    "import sys\n",
    "\n",
    "mse_results = []\n",
    "for i in range(1000):\n",
    "    if i % 100 == 0:\n",
    "        progress = f\"\\rProgress is {i/100:.0f}%\"\n",
    "        sys.stdout.write(progress)\n",
    "    mse_results.append(evalMSE([\"horsepower\"], \"mpg\", 196, data))\n",
    "\n",
    "# Print a newline at the end to avoid overwriting\n",
    "print()"
   ]
  },
  {
   "cell_type": "code",
   "execution_count": 144,
   "id": "8b2532b9-6616-423d-8707-de24826a2dde",
   "metadata": {},
   "outputs": [
    {
     "data": {
      "text/plain": [
       "array([20.75540796, 16.94510676, 16.97437833])"
      ]
     },
     "execution_count": 144,
     "metadata": {},
     "output_type": "execute_result"
    }
   ],
   "source": [
    "def evalMSE(terms, response , train , test):\n",
    "    mm = MS(terms)\n",
    "    X_train = mm.fit_transform(train) \n",
    "    y_train = train[response]\n",
    "    X_test = mm.transform(test) \n",
    "    y_test = test[response]\n",
    "    results = sm.OLS(y_train, X_train).fit()\n",
    "    test_pred = results.predict(X_test)\n",
    "    return np.mean((y_test - test_pred)**2)\n",
    "\n",
    "Auto_train, Auto_valid = train_test_split(data, test_size=196,random_state = 3)\n",
    "MSE = np.zeros(3)\n",
    "for idx, degree in enumerate(range(1, 4)):\n",
    "    MSE[idx] = evalMSE([poly('horsepower', degree)], 'mpg', Auto_train, Auto_valid)\n",
    "MSE"
   ]
  },
  {
   "cell_type": "code",
   "execution_count": 129,
   "id": "871fe802-f3e7-4b48-99da-f4ae9c855778",
   "metadata": {},
   "outputs": [
    {
     "data": {
      "image/png": "[encoded data removed]",
      "text/plain": [
       "<Figure size 640x480 with 1 Axes>"
      ]
     },
     "metadata": {},
     "output_type": "display_data"
    }
   ],
   "source": [
    "import matplotlib.pyplot as plt\n",
    "plt.hist(mse_results, bins=30, color='skyblue', edgecolor='black', alpha=0.7)\n",
    "plt.title(\"Distribution of MSE Results\", fontsize=16, fontweight='bold')\n",
    "plt.xlabel(\"MSE Values\", fontsize=14)\n",
    "plt.ylabel(\"Frequency\", fontsize=14)\n",
    "plt.tight_layout() \n",
    "plt.show()"
   ]
  },
  {
   "cell_type": "markdown",
   "id": "ccedca2e-c7cd-440c-b4d3-a24d9aead788",
   "metadata": {},
   "source": [
    "As we can see that the MSE Values are highly variable depending on the data - which is one of the problem with `validation set` approach, the other problem is that it doesn't include the validation data for training hence grossly overestimating the test error"
   ]
  },
  {
   "cell_type": "code",
   "execution_count": 159,
   "id": "bf74f462-2d12-4d7a-8d24-16e2acb55a24",
   "metadata": {},
   "outputs": [
    {
     "data": {
      "text/plain": [
       "24.23151351792924"
      ]
     },
     "execution_count": 159,
     "metadata": {},
     "output_type": "execute_result"
    }
   ],
   "source": [
    "# Cross Validation\n",
    "hp_model = sklearn_sm(sm.OLS, MS(['horsepower']))\n",
    "x,y = data.drop(columns = [\"mpg\"]), data[\"mpg\"]\n",
    "\n",
    "cv_results = cross_validate(hp_model, x, y, cv = data.shape[0])\n",
    "cv_err = np.mean(cv_results[\"test_score\"])\n",
    "cv_err"
   ]
  },
  {
   "cell_type": "code",
   "execution_count": 164,
   "id": "f08baa6f-b4b5-43cc-909e-a7e25d800f86",
   "metadata": {},
   "outputs": [
    {
     "data": {
      "text/plain": [
       "array([24.20766449, 19.18533142, 19.27626666, 19.47848403, 19.13720581])"
      ]
     },
     "execution_count": 164,
     "metadata": {},
     "output_type": "execute_result"
    }
   ],
   "source": [
    "# Using the KFold Function\n",
    "cv_error = np.zeros(5)\n",
    "cv = KFold(n_splits = 10, shuffle = True, random_state = 0)\n",
    "h = np.array(data[\"horsepower\"])\n",
    "m = sklearn_sm(sm.OLS)\n",
    "\n",
    "for i, d in enumerate(range(1,6)) : \n",
    "    x = np.power.outer(h, np.arange(d+1))\n",
    "    m_cv = cross_validate(m,x,y, cv = cv)\n",
    "    cv_error[i] = np.mean(m_cv[\"test_score\"])\n",
    "\n",
    "cv_error"
   ]
  },
  {
   "cell_type": "markdown",
   "id": "ac11c7f2-629b-4443-ad7d-bbffdb6aa6bf",
   "metadata": {},
   "source": [
    "Sharp drop in MSE from 24.20 to 19.18, seems that quadratic fit is good."
   ]
  },
  {
   "cell_type": "code",
   "execution_count": 170,
   "id": "3513b8a5-b0ce-4717-a497-697cb8abe6bb",
   "metadata": {},
   "outputs": [
    {
     "data": {
      "text/plain": [
       "(23.802232661034168, 1.421845094109185)"
      ]
     },
     "execution_count": 170,
     "metadata": {},
     "output_type": "execute_result"
    }
   ],
   "source": [
    "# Implementation of ShuffleSplit\n",
    "\n",
    "validation = ShuffleSplit(n_splits = 10, test_size = 196, random_state = 0)\n",
    "results = cross_validate(hp_model,\n",
    "                         data.drop([\"mpg\"],axis =1),\n",
    "                         data[\"mpg\"],\n",
    "                         cv = validation)\n",
    "np.mean(results['test_score']), results[\"test_score\"].std()"
   ]
  },
  {
   "cell_type": "markdown",
   "id": "118f4d56-9ca1-4abb-994b-4716aba5a676",
   "metadata": {},
   "source": [
    "Here, the standard deviation is not a valid estimate of sampling variability because of the correlations introduced by overlap in the samples. "
   ]
  },
  {
   "cell_type": "code",
   "execution_count": null,
   "id": "ec792c0a-9895-40f7-99bd-e9c7dab95638",
   "metadata": {},
   "outputs": [],
   "source": []
  }
 ],
 "metadata": {
  "kernelspec": {
   "display_name": "Python 3 (ipykernel)",
   "language": "python",
   "name": "python3"
  },
  "language_info": {
   "codemirror_mode": {
    "name": "ipython",
    "version": 3
   },
   "file_extension": ".py",
   "mimetype": "text/x-python",
   "name": "python",
   "nbconvert_exporter": "python",
   "pygments_lexer": "ipython3",
   "version": "3.12.8"
  }
 },
 "nbformat": 4,
 "nbformat_minor": 5
}
