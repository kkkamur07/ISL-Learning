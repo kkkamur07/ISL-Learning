{
 "cells": [
  {
   "cell_type": "markdown",
   "metadata": {},
   "source": [
    "### Resampling methods exercises\n",
    "\n",
    "Exercises are pretty good. Need to go through them thoroughly. "
   ]
  },
  {
   "cell_type": "markdown",
   "metadata": {},
   "source": [
    "##### Question 2(g) -> Probability\n",
    "Basically how the probability that `j` sample is in bootstrap is $\\approx$ 0.635"
   ]
  },
  {
   "cell_type": "code",
   "execution_count": 2,
   "metadata": {},
   "outputs": [
    {
     "data": {
      "image/png": "[encoded data removed]",
      "text/plain": [
       "<Figure size 400x400 with 1 Axes>"
      ]
     },
     "metadata": {},
     "output_type": "display_data"
    }
   ],
   "source": [
    "import numpy as np\n",
    "from matplotlib.pyplot import subplots\n",
    "import matplotlib.pyplot as plt\n",
    "\n",
    "n = np.arange(1,100)\n",
    "def f(n) : \n",
    "    return 1 - ((1 - 1/n)**n)\n",
    "\n",
    "y = f(n)\n",
    "fig, ax = subplots(figsize=(4, 4))\n",
    "ax.plot(n, y, label='Probability of bootstrap')\n",
    "ax.set_xlabel('n')\n",
    "ax.set_ylabel('Probability')\n",
    "ax.set_ylim(0,1)\n",
    "plt.show()"
   ]
  },
  {
   "cell_type": "code",
   "execution_count": 3,
   "metadata": {},
   "outputs": [
    {
     "data": {
      "text/plain": [
       "0.63799"
      ]
     },
     "execution_count": 3,
     "metadata": {},
     "output_type": "execute_result"
    }
   ],
   "source": [
    "# Question 2 (h)\n",
    "rng = np.random.default_rng(10)\n",
    "store = np.empty(100000) # stores the result of the bootstrap sample\n",
    "\n",
    "for i in range(100000):\n",
    "    sample = rng.choice(n, size=100, replace=True) == 4\n",
    "    store[i] = np.sum(sample) > 0\n",
    "    \n",
    "np.mean(store) # Theoretical convergence. "
   ]
  },
  {
   "cell_type": "markdown",
   "metadata": {},
   "source": [
    "### Question 5\n",
    "\n",
    "Test error of `logisitic` regression model using `validation-set` approach"
   ]
  },
  {
   "cell_type": "code",
   "execution_count": 4,
   "metadata": {},
   "outputs": [],
   "source": [
    "import numpy as np\n",
    "import pandas as pd\n",
    "import matplotlib.pyplot as plt\n",
    "import statsmodels.api as sm\n",
    "from ISLP import load_data\n",
    "from ISLP.models import (ModelSpec as MS, summarize, poly)\n",
    "from sklearn.model_selection import train_test_split\n",
    "from sklearn.model_selection import (cross_validate, KFold, ShuffleSplit)\n",
    "from ISLP import confusion_table\n"
   ]
  },
  {
   "cell_type": "code",
   "execution_count": 5,
   "metadata": {},
   "outputs": [
    {
     "data": {
      "text/html": [
       "<div>\n",
       "<style scoped>\n",
       "    .dataframe tbody tr th:only-of-type {\n",
       "        vertical-align: middle;\n",
       "    }\n",
       "\n",
       "    .dataframe tbody tr th {\n",
       "        vertical-align: top;\n",
       "    }\n",
       "\n",
       "    .dataframe thead th {\n",
       "        text-align: right;\n",
       "    }\n",
       "</style>\n",
       "<table border=\"1\" class=\"dataframe\">\n",
       "  <thead>\n",
       "    <tr style=\"text-align: right;\">\n",
       "      <th></th>\n",
       "      <th>default</th>\n",
       "      <th>student</th>\n",
       "      <th>balance</th>\n",
       "      <th>income</th>\n",
       "    </tr>\n",
       "  </thead>\n",
       "  <tbody>\n",
       "    <tr>\n",
       "      <th>0</th>\n",
       "      <td>No</td>\n",
       "      <td>No</td>\n",
       "      <td>729.526495</td>\n",
       "      <td>44361.625074</td>\n",
       "    </tr>\n",
       "    <tr>\n",
       "      <th>1</th>\n",
       "      <td>No</td>\n",
       "      <td>Yes</td>\n",
       "      <td>817.180407</td>\n",
       "      <td>12106.134700</td>\n",
       "    </tr>\n",
       "    <tr>\n",
       "      <th>2</th>\n",
       "      <td>No</td>\n",
       "      <td>No</td>\n",
       "      <td>1073.549164</td>\n",
       "      <td>31767.138947</td>\n",
       "    </tr>\n",
       "    <tr>\n",
       "      <th>3</th>\n",
       "      <td>No</td>\n",
       "      <td>No</td>\n",
       "      <td>529.250605</td>\n",
       "      <td>35704.493935</td>\n",
       "    </tr>\n",
       "    <tr>\n",
       "      <th>4</th>\n",
       "      <td>No</td>\n",
       "      <td>No</td>\n",
       "      <td>785.655883</td>\n",
       "      <td>38463.495879</td>\n",
       "    </tr>\n",
       "  </tbody>\n",
       "</table>\n",
       "</div>"
      ],
      "text/plain": [
       "  default student      balance        income\n",
       "0      No      No   729.526495  44361.625074\n",
       "1      No     Yes   817.180407  12106.134700\n",
       "2      No      No  1073.549164  31767.138947\n",
       "3      No      No   529.250605  35704.493935\n",
       "4      No      No   785.655883  38463.495879"
      ]
     },
     "execution_count": 5,
     "metadata": {},
     "output_type": "execute_result"
    }
   ],
   "source": [
    "data = load_data(\"Default\")\n",
    "data.head()\n",
    "\n",
    "# Student as an indicator variable."
   ]
  },
  {
   "cell_type": "code",
   "execution_count": 6,
   "metadata": {},
   "outputs": [
    {
     "name": "stderr",
     "output_type": "stream",
     "text": [
      "/var/folders/h3/pvdfbwyx1txcx5ftyxsw_chr0000gn/T/ipykernel_53110/2668108949.py:1: FutureWarning: Downcasting behavior in `replace` is deprecated and will be removed in a future version. To retain the old behavior, explicitly call `result.infer_objects(copy=False)`. To opt-in to the future behavior, set `pd.set_option('future.no_silent_downcasting', True)`\n",
      "  data_trans = data.replace({\"No\" : 0, \"Yes\" : 1})\n",
      "/var/folders/h3/pvdfbwyx1txcx5ftyxsw_chr0000gn/T/ipykernel_53110/2668108949.py:1: FutureWarning: The behavior of Series.replace (and DataFrame.replace) with CategoricalDtype is deprecated. In a future version, replace will only be used for cases that preserve the categories. To change the categories, use ser.cat.rename_categories instead.\n",
      "  data_trans = data.replace({\"No\" : 0, \"Yes\" : 1})\n",
      "/var/folders/h3/pvdfbwyx1txcx5ftyxsw_chr0000gn/T/ipykernel_53110/2668108949.py:1: FutureWarning: Downcasting behavior in `replace` is deprecated and will be removed in a future version. To retain the old behavior, explicitly call `result.infer_objects(copy=False)`. To opt-in to the future behavior, set `pd.set_option('future.no_silent_downcasting', True)`\n",
      "  data_trans = data.replace({\"No\" : 0, \"Yes\" : 1})\n",
      "/var/folders/h3/pvdfbwyx1txcx5ftyxsw_chr0000gn/T/ipykernel_53110/2668108949.py:1: FutureWarning: The behavior of Series.replace (and DataFrame.replace) with CategoricalDtype is deprecated. In a future version, replace will only be used for cases that preserve the categories. To change the categories, use ser.cat.rename_categories instead.\n",
      "  data_trans = data.replace({\"No\" : 0, \"Yes\" : 1})\n"
     ]
    },
    {
     "data": {
      "text/html": [
       "<div>\n",
       "<style scoped>\n",
       "    .dataframe tbody tr th:only-of-type {\n",
       "        vertical-align: middle;\n",
       "    }\n",
       "\n",
       "    .dataframe tbody tr th {\n",
       "        vertical-align: top;\n",
       "    }\n",
       "\n",
       "    .dataframe thead th {\n",
       "        text-align: right;\n",
       "    }\n",
       "</style>\n",
       "<table border=\"1\" class=\"dataframe\">\n",
       "  <thead>\n",
       "    <tr style=\"text-align: right;\">\n",
       "      <th></th>\n",
       "      <th>default</th>\n",
       "      <th>student</th>\n",
       "      <th>balance</th>\n",
       "      <th>income</th>\n",
       "    </tr>\n",
       "  </thead>\n",
       "  <tbody>\n",
       "    <tr>\n",
       "      <th>0</th>\n",
       "      <td>0</td>\n",
       "      <td>0</td>\n",
       "      <td>729.526495</td>\n",
       "      <td>44361.625074</td>\n",
       "    </tr>\n",
       "    <tr>\n",
       "      <th>1</th>\n",
       "      <td>0</td>\n",
       "      <td>1</td>\n",
       "      <td>817.180407</td>\n",
       "      <td>12106.134700</td>\n",
       "    </tr>\n",
       "    <tr>\n",
       "      <th>2</th>\n",
       "      <td>0</td>\n",
       "      <td>0</td>\n",
       "      <td>1073.549164</td>\n",
       "      <td>31767.138947</td>\n",
       "    </tr>\n",
       "    <tr>\n",
       "      <th>3</th>\n",
       "      <td>0</td>\n",
       "      <td>0</td>\n",
       "      <td>529.250605</td>\n",
       "      <td>35704.493935</td>\n",
       "    </tr>\n",
       "    <tr>\n",
       "      <th>4</th>\n",
       "      <td>0</td>\n",
       "      <td>0</td>\n",
       "      <td>785.655883</td>\n",
       "      <td>38463.495879</td>\n",
       "    </tr>\n",
       "  </tbody>\n",
       "</table>\n",
       "</div>"
      ],
      "text/plain": [
       "  default student      balance        income\n",
       "0       0       0   729.526495  44361.625074\n",
       "1       0       1   817.180407  12106.134700\n",
       "2       0       0  1073.549164  31767.138947\n",
       "3       0       0   529.250605  35704.493935\n",
       "4       0       0   785.655883  38463.495879"
      ]
     },
     "execution_count": 6,
     "metadata": {},
     "output_type": "execute_result"
    }
   ],
   "source": [
    "data_trans = data.replace({\"No\" : 0, \"Yes\" : 1})\n",
    "data_trans.head()"
   ]
  },
  {
   "cell_type": "code",
   "execution_count": 7,
   "metadata": {},
   "outputs": [
    {
     "name": "stdout",
     "output_type": "stream",
     "text": [
      "Accuracy: 0.9732\n"
     ]
    },
    {
     "data": {
      "text/plain": [
       "intercept    -10.869000\n",
       "student[1]    -0.646800\n",
       "balance        0.005700\n",
       "income         0.000003\n",
       "Name: coef, dtype: float64"
      ]
     },
     "execution_count": 7,
     "metadata": {},
     "output_type": "execute_result"
    }
   ],
   "source": [
    "# Fitting the logistic regression model.\n",
    "x = MS(data_trans.columns.drop(\"default\")).fit_transform(data_trans)\n",
    "y = data_trans.loc[:,\"default\"]\n",
    "model = sm.GLM(y, x, family=sm.families.Binomial()).fit()\n",
    "preds = np.where(model.predict(x) > 0.5, 1, 0)\n",
    "confusion_table(y, preds)\n",
    "\n",
    "ct = pd.DataFrame(confusion_table(y, preds))\n",
    "accuracy = (ct.iloc[0,0] + ct.iloc[1,1]) /(ct.sum().sum())\n",
    "print(f\"Accuracy: {accuracy}\")\n",
    "\n",
    "summarize(model).loc[:, \"coef\"]"
   ]
  },
  {
   "cell_type": "code",
   "execution_count": 8,
   "metadata": {},
   "outputs": [
    {
     "name": "stdout",
     "output_type": "stream",
     "text": [
      "Accuracy: 0.9715\n",
      "Accuracy: 0.974\n",
      "Accuracy: 0.972\n",
      "Accuracy: 0.98\n",
      "Accuracy: 0.9745\n",
      "Accuracy: 0.9745\n",
      "Accuracy: 0.973\n",
      "Accuracy: 0.9735\n",
      "Accuracy: 0.976\n",
      "Accuracy: 0.9805\n",
      "Mean accuracy: 0.97495\n"
     ]
    }
   ],
   "source": [
    "def validation_set(data, random_state, response, test_size) : \n",
    "    data_train, data_test = train_test_split(data, test_size=test_size, random_state=random_state)\n",
    "    design = MS(data.columns.drop([response]))\n",
    "    x_train = design.fit_transform(data_train)\n",
    "    x_test = design.transform(data_test)\n",
    "    y_train = data_train.loc[:,response]\n",
    "    y_test = data_test.loc[:,response]\n",
    "    model =  sm.GLM(y_train, x_train, family=sm.families.Binomial()).fit()\n",
    "    preds = np.where(model.predict(x_test) > 0.5, 1, 0)\n",
    "    ct = pd.DataFrame(confusion_table(y_test, preds))\n",
    "    accuracy = (ct.iloc[0,0] + ct.iloc[1,1]) /(ct.sum().sum())\n",
    "    return accuracy\n",
    "\n",
    "vals = np.empty(10)\n",
    "for i in range(0,10): \n",
    "    accuracy = validation_set(data_trans, i, \"default\", test_size = 0.2)\n",
    "    vals[i] = accuracy\n",
    "    print(f\"Accuracy: {accuracy}\")\n",
    "    \n",
    "print(f\"Mean accuracy: {np.mean(vals)}\")  "
   ]
  },
  {
   "cell_type": "markdown",
   "metadata": {},
   "source": [
    "The test results are variable it feels. But closely in the range of 97.2% - 98.05%. There is performance deprovement but i don't whether that is substantial or not by including student in the dataset."
   ]
  },
  {
   "cell_type": "code",
   "execution_count": null,
   "metadata": {},
   "outputs": [
    {
     "name": "stdout",
     "output_type": "stream",
     "text": [
      "Bootstrap iteration: 0\n",
      "Bootstrap iteration: 100\n",
      "Bootstrap iteration: 200\n",
      "Bootstrap iteration: 300\n",
      "Bootstrap iteration: 400\n",
      "Bootstrap iteration: 500\n",
      "Bootstrap iteration: 600\n",
      "Bootstrap iteration: 700\n",
      "Bootstrap iteration: 800\n",
      "Bootstrap iteration: 900\n"
     ]
    }
   ],
   "source": [
    "# Estimating the standard error of the test error - using bootstrap and standard error. \n",
    "\n",
    "def se_validation(data, random_state, response, test_size, column = \"std err\") : \n",
    "    data_train, data_test = train_test_split(data, test_size=test_size, random_state=random_state)\n",
    "    design = MS(data.columns.drop([response]))\n",
    "    x_train = design.fit_transform(data_train)\n",
    "    x_test = design.transform(data_test)\n",
    "    y_train = data_train.loc[:,response]\n",
    "    y_test = data_test.loc[:,response]\n",
    "    model =  sm.GLM(y_train, x_train, family=sm.families.Binomial()).fit()\n",
    "    std_err = pd.DataFrame(summarize(model).loc[:, column])\n",
    "    return std_err\n",
    "\n",
    "def boot_fit(data, response, column = \"coef\") : \n",
    "    design = MS(data.columns.drop([response]))\n",
    "    x = design.fit_transform(data)\n",
    "    y = data.loc[:,response]\n",
    "    model = sm.GLM(y, x, family=sm.families.Binomial()).fit()\n",
    "    return summarize(model).loc[:, column]\n",
    "\n",
    "def boot_fu(data, random_state, response, bootstrap_size=100) :\n",
    "    no_coef = len(data.columns.drop(response)) + 1\n",
    "    rng = np.random.default_rng(random_state)\n",
    "    store = np.empty((bootstrap_size, no_coef))\n",
    "    for i in range(bootstrap_size) : \n",
    "        sample = rng.choice(data.index, size=data.shape[0], replace=True)\n",
    "        data_sample = data.loc[sample]\n",
    "        se = boot_fit(data_sample,response, column=\"coef\")\n",
    "        store[i, :] = se.values.flatten()\n",
    "        if (i % 100 == 0) : \n",
    "            print(f\"Bootstrap iteration: {i}\")\n",
    "    \n",
    "    store_names = ['intercept', 'student[1]', 'balance', 'income']\n",
    "    return pd.DataFrame(store, columns=store_names)\n",
    "\n",
    "boot = boot_fu(data_trans, 10, \"default\", bootstrap_size = 1000)"
   ]
  },
  {
   "cell_type": "code",
   "execution_count": 10,
   "metadata": {},
   "outputs": [
    {
     "data": {
      "image/png": "[encoded data removed]",
      "text/plain": [
       "<Figure size 640x480 with 4 Axes>"
      ]
     },
     "metadata": {},
     "output_type": "display_data"
    },
    {
     "name": "stdout",
     "output_type": "stream",
     "text": [
      "             std err\n",
      "intercept   0.559000\n",
      "student[1]  0.267000\n",
      "balance     0.000000\n",
      "income      0.000009\n"
     ]
    },
    {
     "data": {
      "text/plain": [
       "intercept     0.490810\n",
       "student[1]    0.254046\n",
       "balance       0.000236\n",
       "income        0.000008\n",
       "dtype: float64"
      ]
     },
     "execution_count": 10,
     "metadata": {},
     "output_type": "execute_result"
    }
   ],
   "source": [
    "boot.hist(bins=30)\n",
    "plt.show()\n",
    "print(se_validation(data_trans, 10, \"default\", test_size = 0.2, column=\"std err\"))\n",
    "boot.std()"
   ]
  },
  {
   "cell_type": "markdown",
   "metadata": {},
   "source": [
    "There seems to be reduction in standard error using the bootstrap approach. "
   ]
  },
  {
   "cell_type": "markdown",
   "metadata": {},
   "source": [
    "### Cross Validation\n",
    "\n",
    "Approach : \n",
    "- Compute quantities using `sm.OLS` & `predict()` in the `for` loop"
   ]
  },
  {
   "cell_type": "code",
   "execution_count": 11,
   "metadata": {},
   "outputs": [
    {
     "data": {
      "text/html": [
       "<div>\n",
       "<style scoped>\n",
       "    .dataframe tbody tr th:only-of-type {\n",
       "        vertical-align: middle;\n",
       "    }\n",
       "\n",
       "    .dataframe tbody tr th {\n",
       "        vertical-align: top;\n",
       "    }\n",
       "\n",
       "    .dataframe thead th {\n",
       "        text-align: right;\n",
       "    }\n",
       "</style>\n",
       "<table border=\"1\" class=\"dataframe\">\n",
       "  <thead>\n",
       "    <tr style=\"text-align: right;\">\n",
       "      <th></th>\n",
       "      <th>Year</th>\n",
       "      <th>Lag1</th>\n",
       "      <th>Lag2</th>\n",
       "      <th>Lag3</th>\n",
       "      <th>Lag4</th>\n",
       "      <th>Lag5</th>\n",
       "      <th>Volume</th>\n",
       "      <th>Today</th>\n",
       "      <th>Direction</th>\n",
       "    </tr>\n",
       "  </thead>\n",
       "  <tbody>\n",
       "    <tr>\n",
       "      <th>0</th>\n",
       "      <td>1990</td>\n",
       "      <td>0.816</td>\n",
       "      <td>1.572</td>\n",
       "      <td>-3.936</td>\n",
       "      <td>-0.229</td>\n",
       "      <td>-3.484</td>\n",
       "      <td>0.154976</td>\n",
       "      <td>-0.270</td>\n",
       "      <td>Down</td>\n",
       "    </tr>\n",
       "    <tr>\n",
       "      <th>1</th>\n",
       "      <td>1990</td>\n",
       "      <td>-0.270</td>\n",
       "      <td>0.816</td>\n",
       "      <td>1.572</td>\n",
       "      <td>-3.936</td>\n",
       "      <td>-0.229</td>\n",
       "      <td>0.148574</td>\n",
       "      <td>-2.576</td>\n",
       "      <td>Down</td>\n",
       "    </tr>\n",
       "    <tr>\n",
       "      <th>2</th>\n",
       "      <td>1990</td>\n",
       "      <td>-2.576</td>\n",
       "      <td>-0.270</td>\n",
       "      <td>0.816</td>\n",
       "      <td>1.572</td>\n",
       "      <td>-3.936</td>\n",
       "      <td>0.159837</td>\n",
       "      <td>3.514</td>\n",
       "      <td>Up</td>\n",
       "    </tr>\n",
       "    <tr>\n",
       "      <th>3</th>\n",
       "      <td>1990</td>\n",
       "      <td>3.514</td>\n",
       "      <td>-2.576</td>\n",
       "      <td>-0.270</td>\n",
       "      <td>0.816</td>\n",
       "      <td>1.572</td>\n",
       "      <td>0.161630</td>\n",
       "      <td>0.712</td>\n",
       "      <td>Up</td>\n",
       "    </tr>\n",
       "    <tr>\n",
       "      <th>4</th>\n",
       "      <td>1990</td>\n",
       "      <td>0.712</td>\n",
       "      <td>3.514</td>\n",
       "      <td>-2.576</td>\n",
       "      <td>-0.270</td>\n",
       "      <td>0.816</td>\n",
       "      <td>0.153728</td>\n",
       "      <td>1.178</td>\n",
       "      <td>Up</td>\n",
       "    </tr>\n",
       "  </tbody>\n",
       "</table>\n",
       "</div>"
      ],
      "text/plain": [
       "   Year   Lag1   Lag2   Lag3   Lag4   Lag5    Volume  Today Direction\n",
       "0  1990  0.816  1.572 -3.936 -0.229 -3.484  0.154976 -0.270      Down\n",
       "1  1990 -0.270  0.816  1.572 -3.936 -0.229  0.148574 -2.576      Down\n",
       "2  1990 -2.576 -0.270  0.816  1.572 -3.936  0.159837  3.514        Up\n",
       "3  1990  3.514 -2.576 -0.270  0.816  1.572  0.161630  0.712        Up\n",
       "4  1990  0.712  3.514 -2.576 -0.270  0.816  0.153728  1.178        Up"
      ]
     },
     "execution_count": 11,
     "metadata": {},
     "output_type": "execute_result"
    }
   ],
   "source": [
    "data = load_data(\"Weekly\")\n",
    "data.head()"
   ]
  },
  {
   "cell_type": "code",
   "execution_count": 12,
   "metadata": {},
   "outputs": [],
   "source": [
    "design = MS([\"Lag1\", \"Lag2\"])\n",
    "data_first_removed = data.iloc[1:, :]\n",
    "x = design.fit_transform(data_first_removed)\n",
    "y = np.where(data_first_removed.loc[:,\"Direction\"] == \"Up\", 1, 0)\n",
    "\n",
    "model = sm.GLM(y, x, family=sm.families.Binomial()).fit()\n",
    "\n",
    "# First observation - 0 Index\n",
    "first_obs = data.iloc[[0], :]\n",
    "x_new = pd.DataFrame({\"intercept\" : 1, \"Lag1\" : first_obs.loc[:,\"Lag1\"], \"Lag2\" : first_obs.loc[:,\"Lag2\"]})\n",
    "y_new = np.where(first_obs.loc[:,\"Direction\"] == \"Up\", 1, 0)\n",
    "preds = np.where(model.predict(x_new) > 0.5, 1, 0)\n",
    "\n",
    "# No the observations was not correctly classified."
   ]
  },
  {
   "cell_type": "code",
   "execution_count": 13,
   "metadata": {},
   "outputs": [
    {
     "name": "stdout",
     "output_type": "stream",
     "text": [
      "Observation: 0\n",
      "Observation: 100\n",
      "Observation: 200\n",
      "Observation: 300\n",
      "Observation: 400\n",
      "Observation: 500\n",
      "Observation: 600\n",
      "Observation: 700\n",
      "Observation: 800\n",
      "Observation: 900\n",
      "Observation: 1000\n",
      "The LOOCV Error is 0.44995408631772266\n"
     ]
    }
   ],
   "source": [
    "# Implementing LOOCV\n",
    "def error(y_test, preds) : \n",
    "    if (y_test == preds) : \n",
    "        return 0\n",
    "    else :\n",
    "        return 1\n",
    "\n",
    "\n",
    "def LOOCV(data, response, terms, func) : \n",
    "    design = MS(terms)\n",
    "    no_obs = data.shape[0]\n",
    "    store = np.empty(no_obs)\n",
    "    for i in range(no_obs) : \n",
    "        data_train = data.drop(i) # Did forget this method.\n",
    "        data_test = data.iloc[[i], :]\n",
    "        x_train = design.fit_transform(data_train)\n",
    "        x_test = design.transform(data_test)\n",
    "        y_train = np.where(data_train.loc[:,response] == \"Up\", 1, 0)\n",
    "        y_test = np.where(data_test.loc[:,response] == \"Up\", 1, 0)\n",
    "        \n",
    "        # Computing the posterior probabilities\n",
    "        model = func(y_train, x_train, family=sm.families.Binomial()).fit()\n",
    "        preds = np.where(model.predict(x_test) > 0.5, 1, 0)\n",
    "        \n",
    "        store[i] = error(y_test, preds)\n",
    "        if (i % 100 == 0) : \n",
    "            print(f\"Observation: {i}\")\n",
    "    return print(f\"The LOOCV Error is {np.mean(store)}\")\n",
    "\n",
    "LOOCV(data, \"Direction\", [\"Lag1\", \"Lag2\"], sm.GLM)"
   ]
  },
  {
   "cell_type": "code",
   "execution_count": 14,
   "metadata": {},
   "outputs": [
    {
     "data": {
      "image/png": "[encoded data removed]",
      "text/plain": [
       "<Figure size 640x480 with 1 Axes>"
      ]
     },
     "metadata": {},
     "output_type": "display_data"
    },
    {
     "data": {
      "text/plain": [
       "(100,)"
      ]
     },
     "execution_count": 14,
     "metadata": {},
     "output_type": "execute_result"
    }
   ],
   "source": [
    "rng = np.random.default_rng(10)\n",
    "x = rng.normal(size=100)\n",
    "y = x - 2*x**2 + rng.normal(size=100)\n",
    "\n",
    "# Creating a scatter plot\n",
    "fig, ax = plt.subplots()\n",
    "ax.scatter(x, y)\n",
    "plt.show()\n",
    "\n",
    "x.shape"
   ]
  },
  {
   "cell_type": "markdown",
   "metadata": {},
   "source": [
    "The data is being simulated from $Y = x - 2x^2 + Error$\n",
    "\n",
    "Answers : \n",
    "- Here n = 100 and P = 2\n",
    "- Inverted Parabola : Non linear relationship"
   ]
  },
  {
   "cell_type": "code",
   "execution_count": 15,
   "metadata": {},
   "outputs": [
    {
     "name": "stdout",
     "output_type": "stream",
     "text": [
      "         coef  std err      t  P>|t|\n",
      "const -1.5722    0.239 -6.574    0.0\n",
      "x1     1.9392    0.280  6.914    0.0\n",
      "         coef  std err       t  P>|t|\n",
      "const -0.1226    0.134  -0.913  0.363\n",
      "x1     0.9143    0.140   6.522  0.000\n",
      "x2    -2.2545    0.119 -18.974  0.000\n",
      "         coef  std err       t  P>|t|\n",
      "const -0.0918    0.140  -0.657  0.513\n",
      "x1     1.0603    0.228   4.656  0.000\n",
      "x2    -2.3119    0.138 -16.709  0.000\n",
      "x3    -0.0846    0.104  -0.814  0.417\n",
      "         coef  std err      t  P>|t|\n",
      "const  0.0109    0.163  0.067  0.947\n",
      "x1     0.9229    0.254  3.640  0.000\n",
      "x2    -2.6874    0.338 -7.961  0.000\n",
      "x3     0.0104    0.130  0.080  0.936\n",
      "x4     0.1257    0.103  1.219  0.226\n"
     ]
    },
    {
     "name": "stderr",
     "output_type": "stream",
     "text": [
      "/var/folders/h3/pvdfbwyx1txcx5ftyxsw_chr0000gn/T/ipykernel_53110/855467774.py:21: DeprecationWarning: Conversion of an array with ndim > 0 to a scalar is deprecated, and will error in future. Ensure you extract a single element from your array before performing this operation. (Deprecated NumPy 1.25.)\n",
      "  store[j] = (y_test - pred)**2\n",
      "/var/folders/h3/pvdfbwyx1txcx5ftyxsw_chr0000gn/T/ipykernel_53110/855467774.py:21: DeprecationWarning: Conversion of an array with ndim > 0 to a scalar is deprecated, and will error in future. Ensure you extract a single element from your array before performing this operation. (Deprecated NumPy 1.25.)\n",
      "  store[j] = (y_test - pred)**2\n",
      "/var/folders/h3/pvdfbwyx1txcx5ftyxsw_chr0000gn/T/ipykernel_53110/855467774.py:21: DeprecationWarning: Conversion of an array with ndim > 0 to a scalar is deprecated, and will error in future. Ensure you extract a single element from your array before performing this operation. (Deprecated NumPy 1.25.)\n",
      "  store[j] = (y_test - pred)**2\n",
      "/var/folders/h3/pvdfbwyx1txcx5ftyxsw_chr0000gn/T/ipykernel_53110/855467774.py:21: DeprecationWarning: Conversion of an array with ndim > 0 to a scalar is deprecated, and will error in future. Ensure you extract a single element from your array before performing this operation. (Deprecated NumPy 1.25.)\n",
      "  store[j] = (y_test - pred)**2\n"
     ]
    },
    {
     "data": {
      "text/plain": [
       "array([5.67128389, 1.15942622, 1.17206401, 1.17264866])"
      ]
     },
     "execution_count": 15,
     "metadata": {},
     "output_type": "execute_result"
    }
   ],
   "source": [
    "def polynomial_loocv(x, y, max_degree=5):\n",
    "    results = np.empty(max_degree - 1)\n",
    "    \n",
    "    for deg in range(2, max_degree + 1):\n",
    "        n = len(x)\n",
    "        data = np.column_stack([np.power(x, i) for i in range(deg)])        \n",
    "        store = np.empty(n)\n",
    "        \n",
    "        for j in range(n):\n",
    "            mask = np.arange(n) != j\n",
    "\n",
    "            x_train = data[mask]\n",
    "            y_train = y[mask]\n",
    "            x_test = data[~mask]\n",
    "            y_test = y[~mask]\n",
    "            \n",
    "            model = sm.OLS(y_train, x_train).fit()\n",
    "            if(j == 0):\n",
    "                print(summarize(model))\n",
    "            pred = model.predict(x_test)\n",
    "            store[j] = (y_test - pred)**2\n",
    "            \n",
    "        results[deg - 2] = np.mean(store)\n",
    "        \n",
    "    return results\n",
    "\n",
    "polynomial_loocv(x,y,max_degree=5)"
   ]
  },
  {
   "cell_type": "markdown",
   "metadata": {},
   "source": [
    "There is a sharp decrease in the MSE from 5.671 to 1.159 and even in the significance only polynomial regression upto $X_2^2$ is significant."
   ]
  },
  {
   "cell_type": "markdown",
   "metadata": {},
   "source": [
    "### Question 9"
   ]
  },
  {
   "cell_type": "code",
   "execution_count": 16,
   "metadata": {},
   "outputs": [
    {
     "data": {
      "text/html": [
       "<div>\n",
       "<style scoped>\n",
       "    .dataframe tbody tr th:only-of-type {\n",
       "        vertical-align: middle;\n",
       "    }\n",
       "\n",
       "    .dataframe tbody tr th {\n",
       "        vertical-align: top;\n",
       "    }\n",
       "\n",
       "    .dataframe thead th {\n",
       "        text-align: right;\n",
       "    }\n",
       "</style>\n",
       "<table border=\"1\" class=\"dataframe\">\n",
       "  <thead>\n",
       "    <tr style=\"text-align: right;\">\n",
       "      <th></th>\n",
       "      <th>crim</th>\n",
       "      <th>zn</th>\n",
       "      <th>indus</th>\n",
       "      <th>chas</th>\n",
       "      <th>nox</th>\n",
       "      <th>rm</th>\n",
       "      <th>age</th>\n",
       "      <th>dis</th>\n",
       "      <th>rad</th>\n",
       "      <th>tax</th>\n",
       "      <th>ptratio</th>\n",
       "      <th>lstat</th>\n",
       "      <th>medv</th>\n",
       "    </tr>\n",
       "  </thead>\n",
       "  <tbody>\n",
       "    <tr>\n",
       "      <th>0</th>\n",
       "      <td>0.00632</td>\n",
       "      <td>18.0</td>\n",
       "      <td>2.31</td>\n",
       "      <td>0</td>\n",
       "      <td>0.538</td>\n",
       "      <td>6.575</td>\n",
       "      <td>65.2</td>\n",
       "      <td>4.0900</td>\n",
       "      <td>1</td>\n",
       "      <td>296</td>\n",
       "      <td>15.3</td>\n",
       "      <td>4.98</td>\n",
       "      <td>24.0</td>\n",
       "    </tr>\n",
       "    <tr>\n",
       "      <th>1</th>\n",
       "      <td>0.02731</td>\n",
       "      <td>0.0</td>\n",
       "      <td>7.07</td>\n",
       "      <td>0</td>\n",
       "      <td>0.469</td>\n",
       "      <td>6.421</td>\n",
       "      <td>78.9</td>\n",
       "      <td>4.9671</td>\n",
       "      <td>2</td>\n",
       "      <td>242</td>\n",
       "      <td>17.8</td>\n",
       "      <td>9.14</td>\n",
       "      <td>21.6</td>\n",
       "    </tr>\n",
       "    <tr>\n",
       "      <th>2</th>\n",
       "      <td>0.02729</td>\n",
       "      <td>0.0</td>\n",
       "      <td>7.07</td>\n",
       "      <td>0</td>\n",
       "      <td>0.469</td>\n",
       "      <td>7.185</td>\n",
       "      <td>61.1</td>\n",
       "      <td>4.9671</td>\n",
       "      <td>2</td>\n",
       "      <td>242</td>\n",
       "      <td>17.8</td>\n",
       "      <td>4.03</td>\n",
       "      <td>34.7</td>\n",
       "    </tr>\n",
       "    <tr>\n",
       "      <th>3</th>\n",
       "      <td>0.03237</td>\n",
       "      <td>0.0</td>\n",
       "      <td>2.18</td>\n",
       "      <td>0</td>\n",
       "      <td>0.458</td>\n",
       "      <td>6.998</td>\n",
       "      <td>45.8</td>\n",
       "      <td>6.0622</td>\n",
       "      <td>3</td>\n",
       "      <td>222</td>\n",
       "      <td>18.7</td>\n",
       "      <td>2.94</td>\n",
       "      <td>33.4</td>\n",
       "    </tr>\n",
       "    <tr>\n",
       "      <th>4</th>\n",
       "      <td>0.06905</td>\n",
       "      <td>0.0</td>\n",
       "      <td>2.18</td>\n",
       "      <td>0</td>\n",
       "      <td>0.458</td>\n",
       "      <td>7.147</td>\n",
       "      <td>54.2</td>\n",
       "      <td>6.0622</td>\n",
       "      <td>3</td>\n",
       "      <td>222</td>\n",
       "      <td>18.7</td>\n",
       "      <td>5.33</td>\n",
       "      <td>36.2</td>\n",
       "    </tr>\n",
       "  </tbody>\n",
       "</table>\n",
       "</div>"
      ],
      "text/plain": [
       "      crim    zn  indus  chas    nox     rm   age     dis  rad  tax  ptratio  \\\n",
       "0  0.00632  18.0   2.31     0  0.538  6.575  65.2  4.0900    1  296     15.3   \n",
       "1  0.02731   0.0   7.07     0  0.469  6.421  78.9  4.9671    2  242     17.8   \n",
       "2  0.02729   0.0   7.07     0  0.469  7.185  61.1  4.9671    2  242     17.8   \n",
       "3  0.03237   0.0   2.18     0  0.458  6.998  45.8  6.0622    3  222     18.7   \n",
       "4  0.06905   0.0   2.18     0  0.458  7.147  54.2  6.0622    3  222     18.7   \n",
       "\n",
       "   lstat  medv  \n",
       "0   4.98  24.0  \n",
       "1   9.14  21.6  \n",
       "2   4.03  34.7  \n",
       "3   2.94  33.4  \n",
       "4   5.33  36.2  "
      ]
     },
     "execution_count": 16,
     "metadata": {},
     "output_type": "execute_result"
    }
   ],
   "source": [
    "data = load_data(\"Boston\")\n",
    "data.head()"
   ]
  },
  {
   "cell_type": "code",
   "execution_count": 17,
   "metadata": {},
   "outputs": [
    {
     "name": "stdout",
     "output_type": "stream",
     "text": [
      "Estimate for population mean: 22.53\n",
      "Standard error for population mean: 0.41\n",
      "Median: 21.20\n"
     ]
    }
   ],
   "source": [
    "# Estimate for population mean\n",
    "medv = data.loc[:,\"medv\"]\n",
    "mu = np.mean(medv) \n",
    "mu_se = np.std(medv) / np.sqrt(len(medv)) # Standard error\n",
    "median = np.median(medv)\n",
    "\n",
    "print(f\"Estimate for population mean: {mu:.2f}\")\n",
    "print(f\"Standard error for population mean: {mu_se:.2f}\")\n",
    "print(f\"Median: {median:.2f}\")\n"
   ]
  },
  {
   "cell_type": "code",
   "execution_count": 18,
   "metadata": {},
   "outputs": [
    {
     "name": "stdout",
     "output_type": "stream",
     "text": [
      "Bootstrap standard error: 0.40\n",
      "The confidence interval is : 21.74  & 23.34\n",
      "The confidence interval is : 21.72  & 23.35\n"
     ]
    }
   ],
   "source": [
    "# Estimate standard error using bootstrap\n",
    "def boot(data, bootstrap_size=1000, seed = 10, func = np.mean, hide = False) : \n",
    "    rng = np.random.default_rng(seed)\n",
    "    store = np.empty(bootstrap_size)\n",
    "    for i in range(bootstrap_size) : \n",
    "        sample = rng.choice(data, size = len(data), replace=True)\n",
    "        store[i] = func(sample)\n",
    "        if(hide) : \n",
    "            if (i % 100 == 0) : \n",
    "                print(f\"Bootstrap iteration: {i}\")\n",
    "    return store\n",
    "\n",
    "results = boot(medv)\n",
    "print(f\"Bootstrap standard error: {np.std(results):.2f}\")\n",
    "print(f\"The confidence interval is : {np.mean(results) - 2*np.std(results):.2f}  & {np.mean(results) + 2*np.std(results):.2f}\")\n",
    "print(f\"The confidence interval is : {(mu - 2 * mu_se):.2f}  & {(mu + 2 * mu_se):.2f}\")"
   ]
  },
  {
   "cell_type": "markdown",
   "metadata": {},
   "source": [
    "Comparatively `BootStrap` Standard Error is almost the same as standard error for population mean, but for confidence interval i think the bounds are narrower. Even if there is no standard error formula for `median` & `10th percentile` we can estimate it using bootstrap.\n",
    "\n",
    "We can expect some heterogeneity in the distribution of the standard error - quite evident in bootstrap estimates of standard error"
   ]
  },
  {
   "cell_type": "code",
   "execution_count": 19,
   "metadata": {},
   "outputs": [
    {
     "name": "stdout",
     "output_type": "stream",
     "text": [
      "Bootstrap standard error for median: 0.38\n",
      "Bootstrap standard error for 10th percentile: 0.49\n"
     ]
    }
   ],
   "source": [
    "# Bootstrap estimate for the median\n",
    "results = np.std(boot(medv, func=np.median))\n",
    "print(f\"Bootstrap standard error for median: {results:.2f}\")\n",
    "\n",
    "# Bootstrap estimate for the 10th percentile\n",
    "mu_10 = np.percentile(medv, 10)\n",
    "results = np.std(boot(medv, func=lambda x: np.percentile(x, 10)))\n",
    "print(f\"Bootstrap standard error for 10th percentile: {results:.2f}\")"
   ]
  },
  {
   "cell_type": "code",
   "execution_count": 20,
   "metadata": {},
   "outputs": [
    {
     "data": {
      "image/png": "[encoded data removed]",
      "text/plain": [
       "<Figure size 640x480 with 1 Axes>"
      ]
     },
     "metadata": {},
     "output_type": "display_data"
    }
   ],
   "source": [
    "x_vals = np.arange(10, 100, 10)\n",
    "y = [np.std(boot(medv, func=lambda x: np.percentile(x, i), hide=False)) for i in x_vals]\n",
    "\n",
    "fig, ax = plt.subplots()\n",
    "ax.plot(x_vals, y)\n",
    "ax.axhline(y=np.mean(y), color='r', linestyle='--')\n",
    "plt.show()"
   ]
  }
 ],
 "metadata": {
  "kernelspec": {
   "display_name": "datasci-env",
   "language": "python",
   "name": "datasci-env"
  },
  "language_info": {
   "codemirror_mode": {
    "name": "ipython",
    "version": 3
   },
   "file_extension": ".py",
   "mimetype": "text/x-python",
   "name": "python",
   "nbconvert_exporter": "python",
   "pygments_lexer": "ipython3",
   "version": "3.12.8"
  }
 },
 "nbformat": 4,
 "nbformat_minor": 2
}
